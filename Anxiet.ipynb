{
 "cells": [
  {
   "cell_type": "markdown",
   "metadata": {},
   "source": [
    "# Importing Imp librareies"
   ]
  },
  {
   "cell_type": "code",
   "execution_count": 1,
   "metadata": {},
   "outputs": [],
   "source": [
    "import pandas as pd\n",
    "import numpy as np\n",
    "import matplotlib.pyplot as plt\n",
    "%matplotlib inline\n",
    "from pandasql import sqldf\n",
    "pysqldf = lambda q: sqldf(q, globals())\n",
    "from pandas import DataFrame"
   ]
  },
  {
   "cell_type": "markdown",
   "metadata": {},
   "source": [
    "# Importing  and exploring dataset"
   ]
  },
  {
   "cell_type": "code",
   "execution_count": 2,
   "metadata": {},
   "outputs": [
    {
     "data": {
      "text/html": [
       "<div>\n",
       "<style scoped>\n",
       "    .dataframe tbody tr th:only-of-type {\n",
       "        vertical-align: middle;\n",
       "    }\n",
       "\n",
       "    .dataframe tbody tr th {\n",
       "        vertical-align: top;\n",
       "    }\n",
       "\n",
       "    .dataframe thead th {\n",
       "        text-align: right;\n",
       "    }\n",
       "</style>\n",
       "<table border=\"1\" class=\"dataframe\">\n",
       "  <thead>\n",
       "    <tr style=\"text-align: right;\">\n",
       "      <th></th>\n",
       "      <th>#</th>\n",
       "      <th>Could you be suffering with anxiety?</th>\n",
       "      <th>Education</th>\n",
       "      <th>Age</th>\n",
       "      <th>Gender</th>\n",
       "      <th>Race/Ethnicity</th>\n",
       "      <th>Occupation</th>\n",
       "      <th>Underlying Conditions</th>\n",
       "      <th>Smoker</th>\n",
       "      <th>Have you received professional treatment?</th>\n",
       "      <th>If not what factors kept you from seeking professional help</th>\n",
       "    </tr>\n",
       "  </thead>\n",
       "  <tbody>\n",
       "    <tr>\n",
       "      <td>0</td>\n",
       "      <td>1</td>\n",
       "      <td>No</td>\n",
       "      <td>1 year of college</td>\n",
       "      <td>25-34</td>\n",
       "      <td>F</td>\n",
       "      <td>Hispanic_or_Latino</td>\n",
       "      <td>Healthcare</td>\n",
       "      <td>No</td>\n",
       "      <td>No</td>\n",
       "      <td>NaN</td>\n",
       "      <td>NaN</td>\n",
       "    </tr>\n",
       "    <tr>\n",
       "      <td>1</td>\n",
       "      <td>2</td>\n",
       "      <td>yes</td>\n",
       "      <td>2 years of college</td>\n",
       "      <td>18-24</td>\n",
       "      <td>F</td>\n",
       "      <td>Asian_or_Asian_American</td>\n",
       "      <td>Business and Financial</td>\n",
       "      <td>Obesity</td>\n",
       "      <td>No</td>\n",
       "      <td>No</td>\n",
       "      <td>Cultural Expectations</td>\n",
       "    </tr>\n",
       "    <tr>\n",
       "      <td>2</td>\n",
       "      <td>3</td>\n",
       "      <td>yes</td>\n",
       "      <td>Graduated from college</td>\n",
       "      <td>18-24</td>\n",
       "      <td>M</td>\n",
       "      <td>Asian_or_Asian_American</td>\n",
       "      <td>Computer/IT</td>\n",
       "      <td>Obesity</td>\n",
       "      <td>No</td>\n",
       "      <td>No</td>\n",
       "      <td>Cost</td>\n",
       "    </tr>\n",
       "    <tr>\n",
       "      <td>3</td>\n",
       "      <td>4</td>\n",
       "      <td>yes</td>\n",
       "      <td>3 years of college</td>\n",
       "      <td>18-24</td>\n",
       "      <td>F</td>\n",
       "      <td>Asian_or_Asian_American</td>\n",
       "      <td>Healthcare</td>\n",
       "      <td>No</td>\n",
       "      <td>No</td>\n",
       "      <td>No</td>\n",
       "      <td>Coping Mechanisms</td>\n",
       "    </tr>\n",
       "    <tr>\n",
       "      <td>4</td>\n",
       "      <td>5</td>\n",
       "      <td>no</td>\n",
       "      <td>Graduated from college</td>\n",
       "      <td>25-34</td>\n",
       "      <td>F</td>\n",
       "      <td>Asian_or_Asian_American</td>\n",
       "      <td>Healthcare</td>\n",
       "      <td>No</td>\n",
       "      <td>Yes</td>\n",
       "      <td>NaN</td>\n",
       "      <td>NaN</td>\n",
       "    </tr>\n",
       "  </tbody>\n",
       "</table>\n",
       "</div>"
      ],
      "text/plain": [
       "   # Could you be suffering with anxiety?               Education    Age  \\\n",
       "0  1                                   No      1 year of college   25-34   \n",
       "1  2                                  yes      2 years of college  18-24   \n",
       "2  3                                  yes  Graduated from college  18-24   \n",
       "3  4                                  yes     3 years of college   18-24   \n",
       "4  5                                   no  Graduated from college  25-34   \n",
       "\n",
       "  Gender            Race/Ethnicity              Occupation  \\\n",
       "0      F       Hispanic_or_Latino               Healthcare   \n",
       "1      F  Asian_or_Asian_American   Business and Financial   \n",
       "2      M  Asian_or_Asian_American              Computer/IT   \n",
       "3      F  Asian_or_Asian_American               Healthcare   \n",
       "4      F  Asian_or_Asian_American               Healthcare   \n",
       "\n",
       "  Underlying Conditions Smoker Have you received professional treatment?  \\\n",
       "0                    No     No                                       NaN   \n",
       "1               Obesity     No                                       No    \n",
       "2               Obesity     No                                       No    \n",
       "3                    No     No                                       No    \n",
       "4                    No    Yes                                       NaN   \n",
       "\n",
       "  If not what factors kept you from seeking professional help  \n",
       "0                                                NaN           \n",
       "1                              Cultural Expectations           \n",
       "2                                               Cost           \n",
       "3                                  Coping Mechanisms           \n",
       "4                                                NaN           "
      ]
     },
     "execution_count": 2,
     "metadata": {},
     "output_type": "execute_result"
    }
   ],
   "source": [
    "df=pd.read_csv(\"Anxiety Research.csv\")\n",
    "# to show top 5 rows\n",
    "df.head()"
   ]
  },
  {
   "cell_type": "code",
   "execution_count": 3,
   "metadata": {},
   "outputs": [
    {
     "data": {
      "text/html": [
       "<div>\n",
       "<style scoped>\n",
       "    .dataframe tbody tr th:only-of-type {\n",
       "        vertical-align: middle;\n",
       "    }\n",
       "\n",
       "    .dataframe tbody tr th {\n",
       "        vertical-align: top;\n",
       "    }\n",
       "\n",
       "    .dataframe thead th {\n",
       "        text-align: right;\n",
       "    }\n",
       "</style>\n",
       "<table border=\"1\" class=\"dataframe\">\n",
       "  <thead>\n",
       "    <tr style=\"text-align: right;\">\n",
       "      <th></th>\n",
       "      <th>#</th>\n",
       "      <th>Could you be suffering with anxiety?</th>\n",
       "      <th>Education</th>\n",
       "      <th>Age</th>\n",
       "      <th>Gender</th>\n",
       "      <th>Race/Ethnicity</th>\n",
       "      <th>Occupation</th>\n",
       "      <th>Underlying Conditions</th>\n",
       "      <th>Smoker</th>\n",
       "      <th>Have you received professional treatment?</th>\n",
       "      <th>If not what factors kept you from seeking professional help</th>\n",
       "    </tr>\n",
       "  </thead>\n",
       "  <tbody>\n",
       "    <tr>\n",
       "      <td>35</td>\n",
       "      <td>36</td>\n",
       "      <td>Yes</td>\n",
       "      <td>Completed graduate school</td>\n",
       "      <td>25-34</td>\n",
       "      <td>M</td>\n",
       "      <td>White_or_Caucasian</td>\n",
       "      <td>Healthcare</td>\n",
       "      <td>Obesity</td>\n",
       "      <td>Yes</td>\n",
       "      <td>no</td>\n",
       "      <td>Did not know where to get help</td>\n",
       "    </tr>\n",
       "    <tr>\n",
       "      <td>36</td>\n",
       "      <td>37</td>\n",
       "      <td>yes</td>\n",
       "      <td>Graduated from college</td>\n",
       "      <td>25-34</td>\n",
       "      <td>M</td>\n",
       "      <td>Hispanic_or_Latino</td>\n",
       "      <td>Legal</td>\n",
       "      <td>Lung Disease</td>\n",
       "      <td>No</td>\n",
       "      <td>no</td>\n",
       "      <td>Covid-19</td>\n",
       "    </tr>\n",
       "    <tr>\n",
       "      <td>37</td>\n",
       "      <td>38</td>\n",
       "      <td>no</td>\n",
       "      <td>Graduated from high school</td>\n",
       "      <td>Under 18</td>\n",
       "      <td>M</td>\n",
       "      <td>Hispanic_or_Latino</td>\n",
       "      <td>Education/Training</td>\n",
       "      <td>Other</td>\n",
       "      <td>No</td>\n",
       "      <td>NaN</td>\n",
       "      <td>NaN</td>\n",
       "    </tr>\n",
       "    <tr>\n",
       "      <td>38</td>\n",
       "      <td>39</td>\n",
       "      <td>yes</td>\n",
       "      <td>Graduated from college</td>\n",
       "      <td>25-34</td>\n",
       "      <td>M</td>\n",
       "      <td>Asian_or_Asian_American</td>\n",
       "      <td>Social Services</td>\n",
       "      <td>Obesity</td>\n",
       "      <td>Yes</td>\n",
       "      <td>No</td>\n",
       "      <td>School</td>\n",
       "    </tr>\n",
       "    <tr>\n",
       "      <td>39</td>\n",
       "      <td>40</td>\n",
       "      <td>Yes</td>\n",
       "      <td>Graduated from college</td>\n",
       "      <td>25-34</td>\n",
       "      <td>M</td>\n",
       "      <td>Hispanic_or_Latino</td>\n",
       "      <td>Construction</td>\n",
       "      <td>Obeisty</td>\n",
       "      <td>No</td>\n",
       "      <td>no</td>\n",
       "      <td>money, did not know where to get the help</td>\n",
       "    </tr>\n",
       "  </tbody>\n",
       "</table>\n",
       "</div>"
      ],
      "text/plain": [
       "     # Could you be suffering with anxiety?                    Education  \\\n",
       "35  36                                  Yes    Completed graduate school   \n",
       "36  37                                  yes       Graduated from college   \n",
       "37  38                                   no  Graduated from high school    \n",
       "38  39                                  yes       Graduated from college   \n",
       "39  40                                  Yes       Graduated from college   \n",
       "\n",
       "         Age Gender            Race/Ethnicity          Occupation  \\\n",
       "35     25-34      M        White_or_Caucasian          Healthcare   \n",
       "36     25-34      M       Hispanic_or_Latino               Legal    \n",
       "37  Under 18      M       Hispanic_or_Latino   Education/Training   \n",
       "38     25-34      M  Asian_or_Asian_American      Social Services   \n",
       "39     25-34      M       Hispanic_or_Latino         Construction   \n",
       "\n",
       "   Underlying Conditions Smoker Have you received professional treatment?  \\\n",
       "35               Obesity    Yes                                        no   \n",
       "36          Lung Disease     No                                       no    \n",
       "37                 Other     No                                       NaN   \n",
       "38               Obesity    Yes                                       No    \n",
       "39               Obeisty     No                                        no   \n",
       "\n",
       "   If not what factors kept you from seeking professional help  \n",
       "35                    Did not know where to get help            \n",
       "36                                           Covid-19           \n",
       "37                                                NaN           \n",
       "38                                             School           \n",
       "39         money, did not know where to get the help            "
      ]
     },
     "execution_count": 3,
     "metadata": {},
     "output_type": "execute_result"
    }
   ],
   "source": [
    "# to show bottom 5 rows\n",
    "df.tail()"
   ]
  },
  {
   "cell_type": "code",
   "execution_count": 4,
   "metadata": {},
   "outputs": [
    {
     "data": {
      "text/plain": [
       "(40, 11)"
      ]
     },
     "execution_count": 4,
     "metadata": {},
     "output_type": "execute_result"
    }
   ],
   "source": [
    "#to see shape , no of rows and colums\n",
    "df.shape"
   ]
  },
  {
   "cell_type": "code",
   "execution_count": 5,
   "metadata": {},
   "outputs": [
    {
     "name": "stdout",
     "output_type": "stream",
     "text": [
      "<class 'pandas.core.frame.DataFrame'>\n",
      "RangeIndex: 40 entries, 0 to 39\n",
      "Data columns (total 11 columns):\n",
      "#                                                              40 non-null int64\n",
      "Could you be suffering with anxiety?                           40 non-null object\n",
      "Education                                                      40 non-null object\n",
      "Age                                                            40 non-null object\n",
      "Gender                                                         40 non-null object\n",
      "Race/Ethnicity                                                 40 non-null object\n",
      "Occupation                                                     40 non-null object\n",
      "Underlying Conditions                                          40 non-null object\n",
      "Smoker                                                         40 non-null object\n",
      "Have you received professional treatment?                      35 non-null object\n",
      "If not what factors kept you from seeking professional help    28 non-null object\n",
      "dtypes: int64(1), object(10)\n",
      "memory usage: 3.6+ KB\n"
     ]
    }
   ],
   "source": [
    "# to check how details regarding dataset\n",
    "df.info()"
   ]
  },
  {
   "cell_type": "code",
   "execution_count": 6,
   "metadata": {},
   "outputs": [
    {
     "data": {
      "text/html": [
       "<div>\n",
       "<style scoped>\n",
       "    .dataframe tbody tr th:only-of-type {\n",
       "        vertical-align: middle;\n",
       "    }\n",
       "\n",
       "    .dataframe tbody tr th {\n",
       "        vertical-align: top;\n",
       "    }\n",
       "\n",
       "    .dataframe thead th {\n",
       "        text-align: right;\n",
       "    }\n",
       "</style>\n",
       "<table border=\"1\" class=\"dataframe\">\n",
       "  <thead>\n",
       "    <tr style=\"text-align: right;\">\n",
       "      <th></th>\n",
       "      <th>Could you be suffering with anxiety?</th>\n",
       "      <th>Education</th>\n",
       "      <th>Age</th>\n",
       "      <th>Gender</th>\n",
       "      <th>Race/Ethnicity</th>\n",
       "      <th>Occupation</th>\n",
       "      <th>Underlying Conditions</th>\n",
       "      <th>Smoker</th>\n",
       "      <th>Have you received professional treatment?</th>\n",
       "      <th>If not what factors kept you from seeking professional help</th>\n",
       "    </tr>\n",
       "  </thead>\n",
       "  <tbody>\n",
       "    <tr>\n",
       "      <td>count</td>\n",
       "      <td>40</td>\n",
       "      <td>40</td>\n",
       "      <td>40</td>\n",
       "      <td>40</td>\n",
       "      <td>40</td>\n",
       "      <td>40</td>\n",
       "      <td>40</td>\n",
       "      <td>40</td>\n",
       "      <td>35</td>\n",
       "      <td>28</td>\n",
       "    </tr>\n",
       "    <tr>\n",
       "      <td>unique</td>\n",
       "      <td>4</td>\n",
       "      <td>8</td>\n",
       "      <td>7</td>\n",
       "      <td>2</td>\n",
       "      <td>6</td>\n",
       "      <td>12</td>\n",
       "      <td>10</td>\n",
       "      <td>2</td>\n",
       "      <td>8</td>\n",
       "      <td>25</td>\n",
       "    </tr>\n",
       "    <tr>\n",
       "      <td>top</td>\n",
       "      <td>yes</td>\n",
       "      <td>Graduated from college</td>\n",
       "      <td>25-34</td>\n",
       "      <td>F</td>\n",
       "      <td>Asian_or_Asian_American</td>\n",
       "      <td>Healthcare</td>\n",
       "      <td>Other</td>\n",
       "      <td>No</td>\n",
       "      <td>No</td>\n",
       "      <td>Cultural Expectations</td>\n",
       "    </tr>\n",
       "    <tr>\n",
       "      <td>freq</td>\n",
       "      <td>22</td>\n",
       "      <td>17</td>\n",
       "      <td>18</td>\n",
       "      <td>23</td>\n",
       "      <td>17</td>\n",
       "      <td>14</td>\n",
       "      <td>12</td>\n",
       "      <td>30</td>\n",
       "      <td>12</td>\n",
       "      <td>2</td>\n",
       "    </tr>\n",
       "  </tbody>\n",
       "</table>\n",
       "</div>"
      ],
      "text/plain": [
       "       Could you be suffering with anxiety?               Education    Age  \\\n",
       "count                                    40                      40     40   \n",
       "unique                                    4                       8      7   \n",
       "top                                     yes  Graduated from college  25-34   \n",
       "freq                                     22                      17     18   \n",
       "\n",
       "       Gender            Race/Ethnicity  Occupation Underlying Conditions  \\\n",
       "count      40                        40          40                    40   \n",
       "unique      2                         6          12                    10   \n",
       "top         F  Asian_or_Asian_American   Healthcare                 Other   \n",
       "freq       23                        17          14                    12   \n",
       "\n",
       "       Smoker Have you received professional treatment?  \\\n",
       "count      40                                        35   \n",
       "unique      2                                         8   \n",
       "top        No                                       No    \n",
       "freq       30                                        12   \n",
       "\n",
       "       If not what factors kept you from seeking professional help  \n",
       "count                                                  28           \n",
       "unique                                                 25           \n",
       "top                                 Cultural Expectations           \n",
       "freq                                                    2           "
      ]
     },
     "execution_count": 6,
     "metadata": {},
     "output_type": "execute_result"
    }
   ],
   "source": [
    "# to check details of statics upon dataset\n",
    "df.describe(include=object)"
   ]
  },
  {
   "cell_type": "markdown",
   "metadata": {},
   "source": [
    "# Data Cleaning"
   ]
  },
  {
   "cell_type": "code",
   "execution_count": 7,
   "metadata": {},
   "outputs": [],
   "source": [
    "# change some column names \n",
    "df.rename(columns={'#': 'Index',\n",
    "                                   'Could you be suffering with anxiety?':'Suffering_With_Anxiety',\n",
    "                                  'Have you received professional treatment?':'Received_Professional_Treatment',\n",
    "                   'Race/Ethnicity':'Ethnicity',\n",
    "                   'Underlying Conditions':'Underlying_Conditions','If not what factors kept you from seeking professional help':'Factors_Kept_You_From_Seeking_Professional_Help'}, inplace=True)"
   ]
  },
  {
   "cell_type": "code",
   "execution_count": 8,
   "metadata": {},
   "outputs": [
    {
     "data": {
      "text/html": [
       "<div>\n",
       "<style scoped>\n",
       "    .dataframe tbody tr th:only-of-type {\n",
       "        vertical-align: middle;\n",
       "    }\n",
       "\n",
       "    .dataframe tbody tr th {\n",
       "        vertical-align: top;\n",
       "    }\n",
       "\n",
       "    .dataframe thead th {\n",
       "        text-align: right;\n",
       "    }\n",
       "</style>\n",
       "<table border=\"1\" class=\"dataframe\">\n",
       "  <thead>\n",
       "    <tr style=\"text-align: right;\">\n",
       "      <th></th>\n",
       "      <th>Index</th>\n",
       "      <th>Suffering_With_Anxiety</th>\n",
       "      <th>Education</th>\n",
       "      <th>Age</th>\n",
       "      <th>Gender</th>\n",
       "      <th>Ethnicity</th>\n",
       "      <th>Occupation</th>\n",
       "      <th>Underlying_Conditions</th>\n",
       "      <th>Smoker</th>\n",
       "      <th>Received_Professional_Treatment</th>\n",
       "      <th>Factors_Kept_You_From_Seeking_Professional_Help</th>\n",
       "    </tr>\n",
       "  </thead>\n",
       "  <tbody>\n",
       "    <tr>\n",
       "      <td>0</td>\n",
       "      <td>1</td>\n",
       "      <td>No</td>\n",
       "      <td>1 year of college</td>\n",
       "      <td>25-34</td>\n",
       "      <td>F</td>\n",
       "      <td>Hispanic_or_Latino</td>\n",
       "      <td>Healthcare</td>\n",
       "      <td>No</td>\n",
       "      <td>No</td>\n",
       "      <td>NaN</td>\n",
       "      <td>NaN</td>\n",
       "    </tr>\n",
       "    <tr>\n",
       "      <td>1</td>\n",
       "      <td>2</td>\n",
       "      <td>yes</td>\n",
       "      <td>2 years of college</td>\n",
       "      <td>18-24</td>\n",
       "      <td>F</td>\n",
       "      <td>Asian_or_Asian_American</td>\n",
       "      <td>Business and Financial</td>\n",
       "      <td>Obesity</td>\n",
       "      <td>No</td>\n",
       "      <td>No</td>\n",
       "      <td>Cultural Expectations</td>\n",
       "    </tr>\n",
       "    <tr>\n",
       "      <td>2</td>\n",
       "      <td>3</td>\n",
       "      <td>yes</td>\n",
       "      <td>Graduated from college</td>\n",
       "      <td>18-24</td>\n",
       "      <td>M</td>\n",
       "      <td>Asian_or_Asian_American</td>\n",
       "      <td>Computer/IT</td>\n",
       "      <td>Obesity</td>\n",
       "      <td>No</td>\n",
       "      <td>No</td>\n",
       "      <td>Cost</td>\n",
       "    </tr>\n",
       "    <tr>\n",
       "      <td>3</td>\n",
       "      <td>4</td>\n",
       "      <td>yes</td>\n",
       "      <td>3 years of college</td>\n",
       "      <td>18-24</td>\n",
       "      <td>F</td>\n",
       "      <td>Asian_or_Asian_American</td>\n",
       "      <td>Healthcare</td>\n",
       "      <td>No</td>\n",
       "      <td>No</td>\n",
       "      <td>No</td>\n",
       "      <td>Coping Mechanisms</td>\n",
       "    </tr>\n",
       "    <tr>\n",
       "      <td>4</td>\n",
       "      <td>5</td>\n",
       "      <td>no</td>\n",
       "      <td>Graduated from college</td>\n",
       "      <td>25-34</td>\n",
       "      <td>F</td>\n",
       "      <td>Asian_or_Asian_American</td>\n",
       "      <td>Healthcare</td>\n",
       "      <td>No</td>\n",
       "      <td>Yes</td>\n",
       "      <td>NaN</td>\n",
       "      <td>NaN</td>\n",
       "    </tr>\n",
       "  </tbody>\n",
       "</table>\n",
       "</div>"
      ],
      "text/plain": [
       "   Index Suffering_With_Anxiety               Education    Age Gender  \\\n",
       "0      1                     No      1 year of college   25-34      F   \n",
       "1      2                    yes      2 years of college  18-24      F   \n",
       "2      3                    yes  Graduated from college  18-24      M   \n",
       "3      4                    yes     3 years of college   18-24      F   \n",
       "4      5                     no  Graduated from college  25-34      F   \n",
       "\n",
       "                  Ethnicity              Occupation Underlying_Conditions  \\\n",
       "0       Hispanic_or_Latino               Healthcare                    No   \n",
       "1  Asian_or_Asian_American   Business and Financial               Obesity   \n",
       "2  Asian_or_Asian_American              Computer/IT               Obesity   \n",
       "3  Asian_or_Asian_American               Healthcare                    No   \n",
       "4  Asian_or_Asian_American               Healthcare                    No   \n",
       "\n",
       "  Smoker Received_Professional_Treatment  \\\n",
       "0     No                             NaN   \n",
       "1     No                             No    \n",
       "2     No                             No    \n",
       "3     No                             No    \n",
       "4    Yes                             NaN   \n",
       "\n",
       "  Factors_Kept_You_From_Seeking_Professional_Help  \n",
       "0                                             NaN  \n",
       "1                           Cultural Expectations  \n",
       "2                                            Cost  \n",
       "3                               Coping Mechanisms  \n",
       "4                                             NaN  "
      ]
     },
     "execution_count": 8,
     "metadata": {},
     "output_type": "execute_result"
    }
   ],
   "source": [
    "df.head()\n"
   ]
  },
  {
   "cell_type": "code",
   "execution_count": 9,
   "metadata": {},
   "outputs": [
    {
     "data": {
      "text/plain": [
       "Index                                              40\n",
       "Suffering_With_Anxiety                             40\n",
       "Education                                          40\n",
       "Age                                                40\n",
       "Gender                                             40\n",
       "Ethnicity                                          40\n",
       "Occupation                                         40\n",
       "Underlying_Conditions                              40\n",
       "Smoker                                             40\n",
       "Received_Professional_Treatment                    35\n",
       "Factors_Kept_You_From_Seeking_Professional_Help    28\n",
       "dtype: int64"
      ]
     },
     "execution_count": 9,
     "metadata": {},
     "output_type": "execute_result"
    }
   ],
   "source": [
    "df.count()"
   ]
  },
  {
   "cell_type": "code",
   "execution_count": 10,
   "metadata": {},
   "outputs": [
    {
     "name": "stdout",
     "output_type": "stream",
     "text": [
      "Index                                               0\n",
      "Suffering_With_Anxiety                              0\n",
      "Education                                           0\n",
      "Age                                                 0\n",
      "Gender                                              0\n",
      "Ethnicity                                           0\n",
      "Occupation                                          0\n",
      "Underlying_Conditions                               0\n",
      "Smoker                                              0\n",
      "Received_Professional_Treatment                     5\n",
      "Factors_Kept_You_From_Seeking_Professional_Help    12\n",
      "dtype: int64\n",
      "Total Missing values: 17\n"
     ]
    }
   ],
   "source": [
    "#to show null\n",
    "print (df.isnull().sum())\n",
    "print (\"Total Missing values: \" + str(df.isnull().sum().sum()))"
   ]
  },
  {
   "cell_type": "markdown",
   "metadata": {},
   "source": [
    " <b> We have null values in ['Received_Professional_Treatment '] and ['Factors_Kept_You_From_Seeking_Professional_Help ']so we will not consider these two columns </b>"
   ]
  },
  {
   "cell_type": "code",
   "execution_count": 11,
   "metadata": {},
   "outputs": [
    {
     "data": {
      "text/plain": [
       "F    23\n",
       "M    17\n",
       "Name: Gender, dtype: int64"
      ]
     },
     "execution_count": 11,
     "metadata": {},
     "output_type": "execute_result"
    }
   ],
   "source": [
    "df['Gender'].value_counts()"
   ]
  },
  {
   "cell_type": "code",
   "execution_count": 12,
   "metadata": {},
   "outputs": [
    {
     "data": {
      "text/plain": [
       "Asian_or_Asian_American       17\n",
       "Black_or_African_American      9\n",
       "Hispanic_or_Latino             7\n",
       "White_or_Caucasian             5\n",
       "Hispanic or Latino             1\n",
       "White or Caucasian             1\n",
       "Name: Ethnicity, dtype: int64"
      ]
     },
     "execution_count": 12,
     "metadata": {},
     "output_type": "execute_result"
    }
   ],
   "source": [
    "df['Ethnicity'].value_counts()"
   ]
  },
  {
   "cell_type": "code",
   "execution_count": 13,
   "metadata": {},
   "outputs": [
    {
     "data": {
      "text/plain": [
       "Healthcare                14\n",
       "Computer/IT                5\n",
       "Unemployed                 3\n",
       "Sales                      3\n",
       "Construction               3\n",
       "Education/Training         3\n",
       "Other                      3\n",
       "Enginerring                2\n",
       "Legal                      1\n",
       "Arts/Design                1\n",
       "Social Services            1\n",
       "Business and Financial     1\n",
       "Name: Occupation, dtype: int64"
      ]
     },
     "execution_count": 13,
     "metadata": {},
     "output_type": "execute_result"
    }
   ],
   "source": [
    "df['Occupation'].value_counts()"
   ]
  },
  {
   "cell_type": "code",
   "execution_count": 14,
   "metadata": {},
   "outputs": [],
   "source": [
    "# Remove Non needed row\n",
    "df = df[df.Occupation != 'Other' ] "
   ]
  },
  {
   "cell_type": "code",
   "execution_count": 15,
   "metadata": {},
   "outputs": [
    {
     "data": {
      "text/plain": [
       "(37, 11)"
      ]
     },
     "execution_count": 15,
     "metadata": {},
     "output_type": "execute_result"
    }
   ],
   "source": [
    "df.shape"
   ]
  },
  {
   "cell_type": "code",
   "execution_count": 16,
   "metadata": {},
   "outputs": [
    {
     "data": {
      "text/plain": [
       "25-34       17\n",
       "35-44        6\n",
       "18-24        6\n",
       "55-64        4\n",
       "45-54        2\n",
       "Under 18     1\n",
       "65+          1\n",
       "Name: Age, dtype: int64"
      ]
     },
     "execution_count": 16,
     "metadata": {},
     "output_type": "execute_result"
    }
   ],
   "source": [
    "df['Age'].value_counts()"
   ]
  },
  {
   "cell_type": "code",
   "execution_count": 17,
   "metadata": {},
   "outputs": [],
   "source": [
    "# use index =1 to count total numbers\n",
    "df['Index'] = 1\n"
   ]
  },
  {
   "cell_type": "code",
   "execution_count": 18,
   "metadata": {},
   "outputs": [
    {
     "data": {
      "text/html": [
       "<div>\n",
       "<style scoped>\n",
       "    .dataframe tbody tr th:only-of-type {\n",
       "        vertical-align: middle;\n",
       "    }\n",
       "\n",
       "    .dataframe tbody tr th {\n",
       "        vertical-align: top;\n",
       "    }\n",
       "\n",
       "    .dataframe thead th {\n",
       "        text-align: right;\n",
       "    }\n",
       "</style>\n",
       "<table border=\"1\" class=\"dataframe\">\n",
       "  <thead>\n",
       "    <tr style=\"text-align: right;\">\n",
       "      <th></th>\n",
       "      <th>Index</th>\n",
       "      <th>Suffering_With_Anxiety</th>\n",
       "      <th>Education</th>\n",
       "      <th>Age</th>\n",
       "      <th>Gender</th>\n",
       "      <th>Ethnicity</th>\n",
       "      <th>Occupation</th>\n",
       "      <th>Underlying_Conditions</th>\n",
       "      <th>Smoker</th>\n",
       "      <th>Received_Professional_Treatment</th>\n",
       "      <th>Factors_Kept_You_From_Seeking_Professional_Help</th>\n",
       "    </tr>\n",
       "  </thead>\n",
       "  <tbody>\n",
       "    <tr>\n",
       "      <td>0</td>\n",
       "      <td>1</td>\n",
       "      <td>No</td>\n",
       "      <td>1 year of college</td>\n",
       "      <td>25-34</td>\n",
       "      <td>F</td>\n",
       "      <td>Hispanic_or_Latino</td>\n",
       "      <td>Healthcare</td>\n",
       "      <td>No</td>\n",
       "      <td>No</td>\n",
       "      <td>NaN</td>\n",
       "      <td>NaN</td>\n",
       "    </tr>\n",
       "    <tr>\n",
       "      <td>1</td>\n",
       "      <td>1</td>\n",
       "      <td>yes</td>\n",
       "      <td>2 years of college</td>\n",
       "      <td>18-24</td>\n",
       "      <td>F</td>\n",
       "      <td>Asian_or_Asian_American</td>\n",
       "      <td>Business and Financial</td>\n",
       "      <td>Obesity</td>\n",
       "      <td>No</td>\n",
       "      <td>No</td>\n",
       "      <td>Cultural Expectations</td>\n",
       "    </tr>\n",
       "    <tr>\n",
       "      <td>2</td>\n",
       "      <td>1</td>\n",
       "      <td>yes</td>\n",
       "      <td>Graduated from college</td>\n",
       "      <td>18-24</td>\n",
       "      <td>M</td>\n",
       "      <td>Asian_or_Asian_American</td>\n",
       "      <td>Computer/IT</td>\n",
       "      <td>Obesity</td>\n",
       "      <td>No</td>\n",
       "      <td>No</td>\n",
       "      <td>Cost</td>\n",
       "    </tr>\n",
       "    <tr>\n",
       "      <td>3</td>\n",
       "      <td>1</td>\n",
       "      <td>yes</td>\n",
       "      <td>3 years of college</td>\n",
       "      <td>18-24</td>\n",
       "      <td>F</td>\n",
       "      <td>Asian_or_Asian_American</td>\n",
       "      <td>Healthcare</td>\n",
       "      <td>No</td>\n",
       "      <td>No</td>\n",
       "      <td>No</td>\n",
       "      <td>Coping Mechanisms</td>\n",
       "    </tr>\n",
       "    <tr>\n",
       "      <td>4</td>\n",
       "      <td>1</td>\n",
       "      <td>no</td>\n",
       "      <td>Graduated from college</td>\n",
       "      <td>25-34</td>\n",
       "      <td>F</td>\n",
       "      <td>Asian_or_Asian_American</td>\n",
       "      <td>Healthcare</td>\n",
       "      <td>No</td>\n",
       "      <td>Yes</td>\n",
       "      <td>NaN</td>\n",
       "      <td>NaN</td>\n",
       "    </tr>\n",
       "  </tbody>\n",
       "</table>\n",
       "</div>"
      ],
      "text/plain": [
       "   Index Suffering_With_Anxiety               Education    Age Gender  \\\n",
       "0      1                     No      1 year of college   25-34      F   \n",
       "1      1                    yes      2 years of college  18-24      F   \n",
       "2      1                    yes  Graduated from college  18-24      M   \n",
       "3      1                    yes     3 years of college   18-24      F   \n",
       "4      1                     no  Graduated from college  25-34      F   \n",
       "\n",
       "                  Ethnicity              Occupation Underlying_Conditions  \\\n",
       "0       Hispanic_or_Latino               Healthcare                    No   \n",
       "1  Asian_or_Asian_American   Business and Financial               Obesity   \n",
       "2  Asian_or_Asian_American              Computer/IT               Obesity   \n",
       "3  Asian_or_Asian_American               Healthcare                    No   \n",
       "4  Asian_or_Asian_American               Healthcare                    No   \n",
       "\n",
       "  Smoker Received_Professional_Treatment  \\\n",
       "0     No                             NaN   \n",
       "1     No                             No    \n",
       "2     No                             No    \n",
       "3     No                             No    \n",
       "4    Yes                             NaN   \n",
       "\n",
       "  Factors_Kept_You_From_Seeking_Professional_Help  \n",
       "0                                             NaN  \n",
       "1                           Cultural Expectations  \n",
       "2                                            Cost  \n",
       "3                               Coping Mechanisms  \n",
       "4                                             NaN  "
      ]
     },
     "execution_count": 18,
     "metadata": {},
     "output_type": "execute_result"
    }
   ],
   "source": [
    "df.head()"
   ]
  },
  {
   "cell_type": "code",
   "execution_count": 19,
   "metadata": {},
   "outputs": [],
   "source": [
    "df[\"Suffering_With_Anxiety\"].replace({\"no\": \"No\",\"yes\":\"Yes\"}, inplace=True)\n",
    "df[\"Smoker\"].replace({\"no\": \"No\",\"yes\":\"Yes\",\"No\":\"No\"}, inplace=True)"
   ]
  },
  {
   "cell_type": "markdown",
   "metadata": {},
   "source": [
    "# Research work , Analysis"
   ]
  },
  {
   "cell_type": "markdown",
   "metadata": {},
   "source": [
    "# Q1- Find total number of all age people having anxiety also show with bar graph"
   ]
  },
  {
   "cell_type": "code",
   "execution_count": 20,
   "metadata": {},
   "outputs": [
    {
     "data": {
      "text/html": [
       "<div>\n",
       "<style scoped>\n",
       "    .dataframe tbody tr th:only-of-type {\n",
       "        vertical-align: middle;\n",
       "    }\n",
       "\n",
       "    .dataframe tbody tr th {\n",
       "        vertical-align: top;\n",
       "    }\n",
       "\n",
       "    .dataframe thead th {\n",
       "        text-align: right;\n",
       "    }\n",
       "</style>\n",
       "<table border=\"1\" class=\"dataframe\">\n",
       "  <thead>\n",
       "    <tr style=\"text-align: right;\">\n",
       "      <th></th>\n",
       "      <th>total</th>\n",
       "      <th>Age</th>\n",
       "    </tr>\n",
       "  </thead>\n",
       "  <tbody>\n",
       "    <tr>\n",
       "      <td>0</td>\n",
       "      <td>6</td>\n",
       "      <td>18-24</td>\n",
       "    </tr>\n",
       "    <tr>\n",
       "      <td>1</td>\n",
       "      <td>11</td>\n",
       "      <td>25-34</td>\n",
       "    </tr>\n",
       "    <tr>\n",
       "      <td>2</td>\n",
       "      <td>5</td>\n",
       "      <td>35-44</td>\n",
       "    </tr>\n",
       "    <tr>\n",
       "      <td>3</td>\n",
       "      <td>2</td>\n",
       "      <td>45-54</td>\n",
       "    </tr>\n",
       "    <tr>\n",
       "      <td>4</td>\n",
       "      <td>3</td>\n",
       "      <td>55-64</td>\n",
       "    </tr>\n",
       "    <tr>\n",
       "      <td>5</td>\n",
       "      <td>1</td>\n",
       "      <td>65+</td>\n",
       "    </tr>\n",
       "  </tbody>\n",
       "</table>\n",
       "</div>"
      ],
      "text/plain": [
       "   total    Age\n",
       "0      6  18-24\n",
       "1     11  25-34\n",
       "2      5  35-44\n",
       "3      2  45-54\n",
       "4      3  55-64\n",
       "5      1    65+"
      ]
     },
     "execution_count": 20,
     "metadata": {},
     "output_type": "execute_result"
    }
   ],
   "source": [
    "\n",
    "query_1 = '''SELECT sum(\"Index\") as total , \"Age\"  FROM df where \"Suffering_With_Anxiety\" = \"Yes\"  group by \"Age\";'''\n",
    "\n",
    "res_1 = pysqldf(query_1)\n",
    "res_1"
   ]
  },
  {
   "cell_type": "code",
   "execution_count": 21,
   "metadata": {},
   "outputs": [
    {
     "data": {
      "image/png": "[encoded data removed]",
      "text/plain": [
       "<Figure size 504x360 with 1 Axes>"
      ]
     },
     "metadata": {
      "needs_background": "light"
     },
     "output_type": "display_data"
    }
   ],
   "source": [
    "\n",
    "#using bar graph for visualize and analysis\n",
    "\n",
    "res_1.plot.bar(x='Age', y='total' , colormap='BuGn_r', title='Total Number of Agewith respect to having anxiety ')\n",
    "plt.gcf().set_size_inches(7, 5)\n",
    "\n",
    "plt.show()"
   ]
  },
  {
   "cell_type": "markdown",
   "metadata": {},
   "source": [
    "# Q2- Find total number of all age people having  no anxiety also show with bar graph"
   ]
  },
  {
   "cell_type": "code",
   "execution_count": 22,
   "metadata": {},
   "outputs": [
    {
     "data": {
      "text/html": [
       "<div>\n",
       "<style scoped>\n",
       "    .dataframe tbody tr th:only-of-type {\n",
       "        vertical-align: middle;\n",
       "    }\n",
       "\n",
       "    .dataframe tbody tr th {\n",
       "        vertical-align: top;\n",
       "    }\n",
       "\n",
       "    .dataframe thead th {\n",
       "        text-align: right;\n",
       "    }\n",
       "</style>\n",
       "<table border=\"1\" class=\"dataframe\">\n",
       "  <thead>\n",
       "    <tr style=\"text-align: right;\">\n",
       "      <th></th>\n",
       "      <th>total</th>\n",
       "      <th>Age</th>\n",
       "    </tr>\n",
       "  </thead>\n",
       "  <tbody>\n",
       "    <tr>\n",
       "      <td>0</td>\n",
       "      <td>6</td>\n",
       "      <td>25-34</td>\n",
       "    </tr>\n",
       "    <tr>\n",
       "      <td>1</td>\n",
       "      <td>1</td>\n",
       "      <td>35-44</td>\n",
       "    </tr>\n",
       "    <tr>\n",
       "      <td>2</td>\n",
       "      <td>1</td>\n",
       "      <td>55-64</td>\n",
       "    </tr>\n",
       "    <tr>\n",
       "      <td>3</td>\n",
       "      <td>1</td>\n",
       "      <td>Under 18</td>\n",
       "    </tr>\n",
       "  </tbody>\n",
       "</table>\n",
       "</div>"
      ],
      "text/plain": [
       "   total       Age\n",
       "0      6     25-34\n",
       "1      1     35-44\n",
       "2      1     55-64\n",
       "3      1  Under 18"
      ]
     },
     "execution_count": 22,
     "metadata": {},
     "output_type": "execute_result"
    }
   ],
   "source": [
    "query_2 = '''SELECT sum(\"Index\") as total , \"Age\"  FROM df where \"Suffering_With_Anxiety\" = \"No\"  group by \"Age\";'''\n",
    "\n",
    "res_2 = pysqldf(query_2)\n",
    "res_2"
   ]
  },
  {
   "cell_type": "code",
   "execution_count": 23,
   "metadata": {},
   "outputs": [
    {
     "data": {
      "image/png": "[encoded data removed]",
      "text/plain": [
       "<Figure size 504x360 with 1 Axes>"
      ]
     },
     "metadata": {
      "needs_background": "light"
     },
     "output_type": "display_data"
    }
   ],
   "source": [
    "res_2.plot.bar(x='Age', y='total' , colormap='BuGn_r', title='Total Number of Agewithout anxiety ')\n",
    "plt.gcf().set_size_inches(7, 5)\n",
    "\n",
    "plt.show()"
   ]
  },
  {
   "cell_type": "markdown",
   "metadata": {},
   "source": [
    "# Q- 3 find the total number of males and females having anxiety with visualization"
   ]
  },
  {
   "cell_type": "code",
   "execution_count": 24,
   "metadata": {},
   "outputs": [
    {
     "data": {
      "text/html": [
       "<div>\n",
       "<style scoped>\n",
       "    .dataframe tbody tr th:only-of-type {\n",
       "        vertical-align: middle;\n",
       "    }\n",
       "\n",
       "    .dataframe tbody tr th {\n",
       "        vertical-align: top;\n",
       "    }\n",
       "\n",
       "    .dataframe thead th {\n",
       "        text-align: right;\n",
       "    }\n",
       "</style>\n",
       "<table border=\"1\" class=\"dataframe\">\n",
       "  <thead>\n",
       "    <tr style=\"text-align: right;\">\n",
       "      <th></th>\n",
       "      <th>total</th>\n",
       "      <th>Gender</th>\n",
       "    </tr>\n",
       "  </thead>\n",
       "  <tbody>\n",
       "    <tr>\n",
       "      <td>0</td>\n",
       "      <td>13</td>\n",
       "      <td>F</td>\n",
       "    </tr>\n",
       "    <tr>\n",
       "      <td>1</td>\n",
       "      <td>15</td>\n",
       "      <td>M</td>\n",
       "    </tr>\n",
       "  </tbody>\n",
       "</table>\n",
       "</div>"
      ],
      "text/plain": [
       "   total Gender\n",
       "0     13      F\n",
       "1     15      M"
      ]
     },
     "execution_count": 24,
     "metadata": {},
     "output_type": "execute_result"
    }
   ],
   "source": [
    "\n",
    "query_3 = '''SELECT sum(\"Index\") as total , Gender  FROM df where \"Suffering_With_Anxiety\" = \"Yes\"   group by \"Gender\";'''\n",
    "\n",
    "res_3 = pysqldf(query_3)\n",
    "res_3"
   ]
  },
  {
   "cell_type": "code",
   "execution_count": 25,
   "metadata": {},
   "outputs": [
    {
     "data": {
      "image/png": "[encoded data removed]",
      "text/plain": [
       "<Figure size 504x360 with 1 Axes>"
      ]
     },
     "metadata": {
      "needs_background": "light"
     },
     "output_type": "display_data"
    }
   ],
   "source": [
    "res_3.plot.bar(x='Gender', y='total' , colormap='BuGn_r', title='Total Number of male, female with anxiety ')\n",
    "plt.gcf().set_size_inches(7, 5)\n",
    "\n",
    "plt.show()"
   ]
  },
  {
   "cell_type": "markdown",
   "metadata": {},
   "source": [
    "# Q- 4 find the total number of males and females without anxiety with visualization"
   ]
  },
  {
   "cell_type": "code",
   "execution_count": 26,
   "metadata": {},
   "outputs": [
    {
     "data": {
      "text/html": [
       "<div>\n",
       "<style scoped>\n",
       "    .dataframe tbody tr th:only-of-type {\n",
       "        vertical-align: middle;\n",
       "    }\n",
       "\n",
       "    .dataframe tbody tr th {\n",
       "        vertical-align: top;\n",
       "    }\n",
       "\n",
       "    .dataframe thead th {\n",
       "        text-align: right;\n",
       "    }\n",
       "</style>\n",
       "<table border=\"1\" class=\"dataframe\">\n",
       "  <thead>\n",
       "    <tr style=\"text-align: right;\">\n",
       "      <th></th>\n",
       "      <th>total</th>\n",
       "      <th>Gender</th>\n",
       "    </tr>\n",
       "  </thead>\n",
       "  <tbody>\n",
       "    <tr>\n",
       "      <td>0</td>\n",
       "      <td>7</td>\n",
       "      <td>F</td>\n",
       "    </tr>\n",
       "    <tr>\n",
       "      <td>1</td>\n",
       "      <td>2</td>\n",
       "      <td>M</td>\n",
       "    </tr>\n",
       "  </tbody>\n",
       "</table>\n",
       "</div>"
      ],
      "text/plain": [
       "   total Gender\n",
       "0      7      F\n",
       "1      2      M"
      ]
     },
     "execution_count": 26,
     "metadata": {},
     "output_type": "execute_result"
    }
   ],
   "source": [
    "\n",
    "query_4 = '''SELECT sum(\"Index\") as total , Gender  FROM df where \"Suffering_With_Anxiety\" = \"No\"   group by \"Gender\";'''\n",
    "\n",
    "res_4 = pysqldf(query_4)\n",
    "res_4"
   ]
  },
  {
   "cell_type": "code",
   "execution_count": 27,
   "metadata": {},
   "outputs": [
    {
     "data": {
      "image/png": "[encoded data removed]",
      "text/plain": [
       "<Figure size 504x360 with 1 Axes>"
      ]
     },
     "metadata": {
      "needs_background": "light"
     },
     "output_type": "display_data"
    }
   ],
   "source": [
    "res_4.plot.bar(x='Gender', y='total' , colormap='BuGn_r', title='Total Number of male, female without anxiety ')\n",
    "plt.gcf().set_size_inches(7, 5)\n",
    "\n",
    "plt.show()"
   ]
  },
  {
   "cell_type": "markdown",
   "metadata": {},
   "source": [
    "# Q- 5 find the total number of male and females who are smokers"
   ]
  },
  {
   "cell_type": "code",
   "execution_count": 28,
   "metadata": {},
   "outputs": [
    {
     "data": {
      "text/html": [
       "<div>\n",
       "<style scoped>\n",
       "    .dataframe tbody tr th:only-of-type {\n",
       "        vertical-align: middle;\n",
       "    }\n",
       "\n",
       "    .dataframe tbody tr th {\n",
       "        vertical-align: top;\n",
       "    }\n",
       "\n",
       "    .dataframe thead th {\n",
       "        text-align: right;\n",
       "    }\n",
       "</style>\n",
       "<table border=\"1\" class=\"dataframe\">\n",
       "  <thead>\n",
       "    <tr style=\"text-align: right;\">\n",
       "      <th></th>\n",
       "      <th>total</th>\n",
       "      <th>Gender</th>\n",
       "    </tr>\n",
       "  </thead>\n",
       "  <tbody>\n",
       "    <tr>\n",
       "      <td>0</td>\n",
       "      <td>3</td>\n",
       "      <td>F</td>\n",
       "    </tr>\n",
       "    <tr>\n",
       "      <td>1</td>\n",
       "      <td>7</td>\n",
       "      <td>M</td>\n",
       "    </tr>\n",
       "  </tbody>\n",
       "</table>\n",
       "</div>"
      ],
      "text/plain": [
       "   total Gender\n",
       "0      3      F\n",
       "1      7      M"
      ]
     },
     "execution_count": 28,
     "metadata": {},
     "output_type": "execute_result"
    }
   ],
   "source": [
    "\n",
    "query_5 = '''SELECT sum(\"Index\") as total , Gender  FROM df where \"Smoker\" = \"Yes\"   group by \"Gender\";'''\n",
    "\n",
    "res_5 = pysqldf(query_5)\n",
    "res_5"
   ]
  },
  {
   "cell_type": "code",
   "execution_count": null,
   "metadata": {},
   "outputs": [],
   "source": []
  },
  {
   "cell_type": "code",
   "execution_count": 29,
   "metadata": {},
   "outputs": [
    {
     "data": {
      "image/png": "[encoded data removed]",
      "text/plain": [
       "<Figure size 504x360 with 1 Axes>"
      ]
     },
     "metadata": {
      "needs_background": "light"
     },
     "output_type": "display_data"
    }
   ],
   "source": [
    "res_5.plot.bar(x='Gender', y='total' , colormap='BuGn_r', title='Total Number of male, female smokers ')\n",
    "plt.gcf().set_size_inches(7, 5)\n",
    "\n",
    "plt.show()"
   ]
  },
  {
   "cell_type": "markdown",
   "metadata": {},
   "source": [
    "# Q6- find the total number of ethinicity where Gender is Male with visualization"
   ]
  },
  {
   "cell_type": "code",
   "execution_count": 30,
   "metadata": {},
   "outputs": [
    {
     "data": {
      "text/html": [
       "<div>\n",
       "<style scoped>\n",
       "    .dataframe tbody tr th:only-of-type {\n",
       "        vertical-align: middle;\n",
       "    }\n",
       "\n",
       "    .dataframe tbody tr th {\n",
       "        vertical-align: top;\n",
       "    }\n",
       "\n",
       "    .dataframe thead th {\n",
       "        text-align: right;\n",
       "    }\n",
       "</style>\n",
       "<table border=\"1\" class=\"dataframe\">\n",
       "  <thead>\n",
       "    <tr style=\"text-align: right;\">\n",
       "      <th></th>\n",
       "      <th>total</th>\n",
       "      <th>Ethnicity</th>\n",
       "    </tr>\n",
       "  </thead>\n",
       "  <tbody>\n",
       "    <tr>\n",
       "      <td>0</td>\n",
       "      <td>6</td>\n",
       "      <td>Asian_or_Asian_American</td>\n",
       "    </tr>\n",
       "    <tr>\n",
       "      <td>1</td>\n",
       "      <td>3</td>\n",
       "      <td>Black_or_African_American</td>\n",
       "    </tr>\n",
       "    <tr>\n",
       "      <td>2</td>\n",
       "      <td>5</td>\n",
       "      <td>Hispanic_or_Latino</td>\n",
       "    </tr>\n",
       "    <tr>\n",
       "      <td>3</td>\n",
       "      <td>1</td>\n",
       "      <td>White or Caucasian</td>\n",
       "    </tr>\n",
       "    <tr>\n",
       "      <td>4</td>\n",
       "      <td>2</td>\n",
       "      <td>White_or_Caucasian</td>\n",
       "    </tr>\n",
       "  </tbody>\n",
       "</table>\n",
       "</div>"
      ],
      "text/plain": [
       "   total                   Ethnicity\n",
       "0      6    Asian_or_Asian_American \n",
       "1      3  Black_or_African_American \n",
       "2      5         Hispanic_or_Latino \n",
       "3      1          White or Caucasian\n",
       "4      2          White_or_Caucasian"
      ]
     },
     "execution_count": 30,
     "metadata": {},
     "output_type": "execute_result"
    }
   ],
   "source": [
    "\n",
    "query_6 = '''SELECT sum(\"Index\") as total ,Ethnicity  FROM df where \"Gender\" = \"M\"   group by \"Ethnicity\";'''\n",
    "\n",
    "res_6 = pysqldf(query_6)\n",
    "res_6"
   ]
  },
  {
   "cell_type": "code",
   "execution_count": 31,
   "metadata": {},
   "outputs": [
    {
     "data": {
      "image/png": "[encoded data removed]",
      "text/plain": [
       "<Figure size 504x360 with 1 Axes>"
      ]
     },
     "metadata": {
      "needs_background": "light"
     },
     "output_type": "display_data"
    }
   ],
   "source": [
    "res_6.plot.bar(x='Ethnicity', y='total' , colormap='BuGn_r', title='Total Number of Ethinicity of male')\n",
    "plt.gcf().set_size_inches(7, 5)\n",
    "\n",
    "plt.show()"
   ]
  },
  {
   "cell_type": "code",
   "execution_count": 32,
   "metadata": {},
   "outputs": [],
   "source": [
    "# Q7- find the total number of ethinicity where Gender is Female with visualization"
   ]
  },
  {
   "cell_type": "code",
   "execution_count": 33,
   "metadata": {},
   "outputs": [
    {
     "data": {
      "text/html": [
       "<div>\n",
       "<style scoped>\n",
       "    .dataframe tbody tr th:only-of-type {\n",
       "        vertical-align: middle;\n",
       "    }\n",
       "\n",
       "    .dataframe tbody tr th {\n",
       "        vertical-align: top;\n",
       "    }\n",
       "\n",
       "    .dataframe thead th {\n",
       "        text-align: right;\n",
       "    }\n",
       "</style>\n",
       "<table border=\"1\" class=\"dataframe\">\n",
       "  <thead>\n",
       "    <tr style=\"text-align: right;\">\n",
       "      <th></th>\n",
       "      <th>total</th>\n",
       "      <th>Ethnicity</th>\n",
       "    </tr>\n",
       "  </thead>\n",
       "  <tbody>\n",
       "    <tr>\n",
       "      <td>0</td>\n",
       "      <td>9</td>\n",
       "      <td>Asian_or_Asian_American</td>\n",
       "    </tr>\n",
       "    <tr>\n",
       "      <td>1</td>\n",
       "      <td>5</td>\n",
       "      <td>Black_or_African_American</td>\n",
       "    </tr>\n",
       "    <tr>\n",
       "      <td>2</td>\n",
       "      <td>1</td>\n",
       "      <td>Hispanic or Latino</td>\n",
       "    </tr>\n",
       "    <tr>\n",
       "      <td>3</td>\n",
       "      <td>2</td>\n",
       "      <td>Hispanic_or_Latino</td>\n",
       "    </tr>\n",
       "    <tr>\n",
       "      <td>4</td>\n",
       "      <td>3</td>\n",
       "      <td>White_or_Caucasian</td>\n",
       "    </tr>\n",
       "  </tbody>\n",
       "</table>\n",
       "</div>"
      ],
      "text/plain": [
       "   total                   Ethnicity\n",
       "0      9    Asian_or_Asian_American \n",
       "1      5  Black_or_African_American \n",
       "2      1         Hispanic or Latino \n",
       "3      2         Hispanic_or_Latino \n",
       "4      3          White_or_Caucasian"
      ]
     },
     "execution_count": 33,
     "metadata": {},
     "output_type": "execute_result"
    }
   ],
   "source": [
    "\n",
    "query_7 = '''SELECT sum(\"Index\") as total ,Ethnicity  FROM df where \"Gender\" = \"F\"   group by \"Ethnicity\";'''\n",
    "\n",
    "res_7 = pysqldf(query_7)\n",
    "res_7"
   ]
  },
  {
   "cell_type": "code",
   "execution_count": 34,
   "metadata": {},
   "outputs": [
    {
     "data": {
      "image/png": "[encoded data removed]",
      "text/plain": [
       "<Figure size 504x360 with 1 Axes>"
      ]
     },
     "metadata": {
      "needs_background": "light"
     },
     "output_type": "display_data"
    }
   ],
   "source": [
    "res_7.plot.bar(x='Ethnicity', y='total' , colormap='BuGn_r', title='Total Number of Ethinicity of Female')\n",
    "plt.gcf().set_size_inches(7, 5)\n",
    "\n",
    "plt.show()"
   ]
  },
  {
   "cell_type": "markdown",
   "metadata": {},
   "source": [
    "# Q8- Find total number of male , female whose occupation is healthcare of all Ages with visualization"
   ]
  },
  {
   "cell_type": "code",
   "execution_count": 35,
   "metadata": {},
   "outputs": [
    {
     "data": {
      "text/html": [
       "<div>\n",
       "<style scoped>\n",
       "    .dataframe tbody tr th:only-of-type {\n",
       "        vertical-align: middle;\n",
       "    }\n",
       "\n",
       "    .dataframe tbody tr th {\n",
       "        vertical-align: top;\n",
       "    }\n",
       "\n",
       "    .dataframe thead th {\n",
       "        text-align: right;\n",
       "    }\n",
       "</style>\n",
       "<table border=\"1\" class=\"dataframe\">\n",
       "  <thead>\n",
       "    <tr style=\"text-align: right;\">\n",
       "      <th></th>\n",
       "      <th>total</th>\n",
       "      <th>Age</th>\n",
       "      <th>Gender</th>\n",
       "    </tr>\n",
       "  </thead>\n",
       "  <tbody>\n",
       "    <tr>\n",
       "      <td>0</td>\n",
       "      <td>3</td>\n",
       "      <td>18-24</td>\n",
       "      <td>F</td>\n",
       "    </tr>\n",
       "    <tr>\n",
       "      <td>1</td>\n",
       "      <td>7</td>\n",
       "      <td>25-34</td>\n",
       "      <td>F</td>\n",
       "    </tr>\n",
       "    <tr>\n",
       "      <td>2</td>\n",
       "      <td>2</td>\n",
       "      <td>35-44</td>\n",
       "      <td>F</td>\n",
       "    </tr>\n",
       "    <tr>\n",
       "      <td>3</td>\n",
       "      <td>1</td>\n",
       "      <td>45-54</td>\n",
       "      <td>M</td>\n",
       "    </tr>\n",
       "    <tr>\n",
       "      <td>4</td>\n",
       "      <td>1</td>\n",
       "      <td>55-64</td>\n",
       "      <td>F</td>\n",
       "    </tr>\n",
       "  </tbody>\n",
       "</table>\n",
       "</div>"
      ],
      "text/plain": [
       "   total    Age Gender\n",
       "0      3  18-24      F\n",
       "1      7  25-34      F\n",
       "2      2  35-44      F\n",
       "3      1  45-54      M\n",
       "4      1  55-64      F"
      ]
     },
     "execution_count": 35,
     "metadata": {},
     "output_type": "execute_result"
    }
   ],
   "source": [
    "\n",
    "query_8 = '''SELECT sum(\"Index\") as total , Age,Gender  FROM df where \"Occupation\" = \"Healthcare\"   group by \"Age\";'''\n",
    "\n",
    "res_8 = pysqldf(query_8)\n",
    "res_8"
   ]
  },
  {
   "cell_type": "code",
   "execution_count": 36,
   "metadata": {},
   "outputs": [
    {
     "data": {
      "image/png": "[encoded data removed]",
      "text/plain": [
       "<Figure size 504x360 with 1 Axes>"
      ]
     },
     "metadata": {
      "needs_background": "light"
     },
     "output_type": "display_data"
    }
   ],
   "source": [
    "res_8.plot.bar(x='Age', y='total' , colormap='BuGn_r', title='Total Number of HalthCare Department with respect to Age')\n",
    "plt.gcf().set_size_inches(7, 5)\n",
    "\n",
    "plt.show()"
   ]
  },
  {
   "cell_type": "code",
   "execution_count": 37,
   "metadata": {},
   "outputs": [],
   "source": [
    "# Q9- find people who are suffering with anxiety with their education"
   ]
  },
  {
   "cell_type": "code",
   "execution_count": 38,
   "metadata": {},
   "outputs": [
    {
     "data": {
      "text/html": [
       "<div>\n",
       "<style scoped>\n",
       "    .dataframe tbody tr th:only-of-type {\n",
       "        vertical-align: middle;\n",
       "    }\n",
       "\n",
       "    .dataframe tbody tr th {\n",
       "        vertical-align: top;\n",
       "    }\n",
       "\n",
       "    .dataframe thead th {\n",
       "        text-align: right;\n",
       "    }\n",
       "</style>\n",
       "<table border=\"1\" class=\"dataframe\">\n",
       "  <thead>\n",
       "    <tr style=\"text-align: right;\">\n",
       "      <th></th>\n",
       "      <th>total</th>\n",
       "      <th>Age</th>\n",
       "      <th>Education</th>\n",
       "    </tr>\n",
       "  </thead>\n",
       "  <tbody>\n",
       "    <tr>\n",
       "      <td>0</td>\n",
       "      <td>1</td>\n",
       "      <td>25-34</td>\n",
       "      <td>1 year of college</td>\n",
       "    </tr>\n",
       "    <tr>\n",
       "      <td>1</td>\n",
       "      <td>3</td>\n",
       "      <td>18-24</td>\n",
       "      <td>2 years of college</td>\n",
       "    </tr>\n",
       "    <tr>\n",
       "      <td>2</td>\n",
       "      <td>2</td>\n",
       "      <td>18-24</td>\n",
       "      <td>3 years of college</td>\n",
       "    </tr>\n",
       "    <tr>\n",
       "      <td>3</td>\n",
       "      <td>3</td>\n",
       "      <td>25-34</td>\n",
       "      <td>Completed graduate school</td>\n",
       "    </tr>\n",
       "    <tr>\n",
       "      <td>4</td>\n",
       "      <td>13</td>\n",
       "      <td>18-24</td>\n",
       "      <td>Graduated from college</td>\n",
       "    </tr>\n",
       "    <tr>\n",
       "      <td>5</td>\n",
       "      <td>2</td>\n",
       "      <td>35-44</td>\n",
       "      <td>Graduated from high school</td>\n",
       "    </tr>\n",
       "    <tr>\n",
       "      <td>6</td>\n",
       "      <td>4</td>\n",
       "      <td>18-24</td>\n",
       "      <td>Some graduate school</td>\n",
       "    </tr>\n",
       "  </tbody>\n",
       "</table>\n",
       "</div>"
      ],
      "text/plain": [
       "   total    Age                    Education\n",
       "0      1  25-34           1 year of college \n",
       "1      3  18-24           2 years of college\n",
       "2      2  18-24          3 years of college \n",
       "3      3  25-34    Completed graduate school\n",
       "4     13  18-24       Graduated from college\n",
       "5      2  35-44  Graduated from high school \n",
       "6      4  18-24        Some graduate school "
      ]
     },
     "execution_count": 38,
     "metadata": {},
     "output_type": "execute_result"
    }
   ],
   "source": [
    "\n",
    "query_9 = '''SELECT sum(\"Index\") as total , Age,Education  FROM df where \"Suffering_With_Anxiety\" = \"Yes\"   group by \"Education\";'''\n",
    "\n",
    "res_9 = pysqldf(query_9)\n",
    "res_9"
   ]
  },
  {
   "cell_type": "code",
   "execution_count": 39,
   "metadata": {},
   "outputs": [
    {
     "data": {
      "image/png": "[encoded data removed]",
      "text/plain": [
       "<Figure size 504x360 with 1 Axes>"
      ]
     },
     "metadata": {
      "needs_background": "light"
     },
     "output_type": "display_data"
    }
   ],
   "source": [
    "res_9.plot.bar(x='Education', y='total' , colormap='BuGn_r', title='Education of differnt age people')\n",
    "plt.gcf().set_size_inches(7, 5)\n",
    "\n",
    "plt.show()"
   ]
  },
  {
   "cell_type": "code",
   "execution_count": 40,
   "metadata": {},
   "outputs": [],
   "source": [
    "# Q 10- Find the total number of people who are suffering with anxiety of all ages with visualization"
   ]
  },
  {
   "cell_type": "code",
   "execution_count": 41,
   "metadata": {},
   "outputs": [
    {
     "data": {
      "text/html": [
       "<div>\n",
       "<style scoped>\n",
       "    .dataframe tbody tr th:only-of-type {\n",
       "        vertical-align: middle;\n",
       "    }\n",
       "\n",
       "    .dataframe tbody tr th {\n",
       "        vertical-align: top;\n",
       "    }\n",
       "\n",
       "    .dataframe thead th {\n",
       "        text-align: right;\n",
       "    }\n",
       "</style>\n",
       "<table border=\"1\" class=\"dataframe\">\n",
       "  <thead>\n",
       "    <tr style=\"text-align: right;\">\n",
       "      <th></th>\n",
       "      <th>total</th>\n",
       "      <th>Age</th>\n",
       "      <th>Gender</th>\n",
       "    </tr>\n",
       "  </thead>\n",
       "  <tbody>\n",
       "    <tr>\n",
       "      <td>0</td>\n",
       "      <td>19</td>\n",
       "      <td>18-24</td>\n",
       "      <td>F</td>\n",
       "    </tr>\n",
       "    <tr>\n",
       "      <td>1</td>\n",
       "      <td>9</td>\n",
       "      <td>25-34</td>\n",
       "      <td>M</td>\n",
       "    </tr>\n",
       "  </tbody>\n",
       "</table>\n",
       "</div>"
      ],
      "text/plain": [
       "   total    Age Gender\n",
       "0     19  18-24      F\n",
       "1      9  25-34      M"
      ]
     },
     "execution_count": 41,
     "metadata": {},
     "output_type": "execute_result"
    }
   ],
   "source": [
    "\n",
    "query_10 = '''SELECT sum(\"Index\") as total , Age,Gender  FROM df where \"Suffering_With_Anxiety\" = \"Yes\"   group by \"Smoker\";'''\n",
    "\n",
    "res_10 = pysqldf(query_10)\n",
    "res_10"
   ]
  },
  {
   "cell_type": "code",
   "execution_count": 42,
   "metadata": {},
   "outputs": [
    {
     "data": {
      "image/png": "[encoded data removed]",
      "text/plain": [
       "<Figure size 504x360 with 1 Axes>"
      ]
     },
     "metadata": {
      "needs_background": "light"
     },
     "output_type": "display_data"
    }
   ],
   "source": [
    "res_10.plot.bar(x='Age', y='total' , colormap='BuGn_r', title='Toatal Number of people suffering with anxity')\n",
    "plt.gcf().set_size_inches(7, 5)\n",
    "\n",
    "plt.show()"
   ]
  },
  {
   "cell_type": "markdown",
   "metadata": {},
   "source": [
    "# 1- Machine Learning Algorithm Decision Tree\n",
    " "
   ]
  },
  {
   "cell_type": "markdown",
   "metadata": {},
   "source": [
    " <b> we will take these 4 variables as x  dependent [Occupation1,Gender1,Smoker1,Age1]\n",
    "    while will predict [Suffering_With_Anxiety], which is yes or no <b>"
   ]
  },
  {
   "cell_type": "code",
   "execution_count": 43,
   "metadata": {},
   "outputs": [
    {
     "data": {
      "text/html": [
       "<div>\n",
       "<style scoped>\n",
       "    .dataframe tbody tr th:only-of-type {\n",
       "        vertical-align: middle;\n",
       "    }\n",
       "\n",
       "    .dataframe tbody tr th {\n",
       "        vertical-align: top;\n",
       "    }\n",
       "\n",
       "    .dataframe thead th {\n",
       "        text-align: right;\n",
       "    }\n",
       "</style>\n",
       "<table border=\"1\" class=\"dataframe\">\n",
       "  <thead>\n",
       "    <tr style=\"text-align: right;\">\n",
       "      <th></th>\n",
       "      <th>Index</th>\n",
       "      <th>Suffering_With_Anxiety</th>\n",
       "      <th>Education</th>\n",
       "      <th>Age</th>\n",
       "      <th>Gender</th>\n",
       "      <th>Ethnicity</th>\n",
       "      <th>Occupation</th>\n",
       "      <th>Underlying_Conditions</th>\n",
       "      <th>Smoker</th>\n",
       "      <th>Received_Professional_Treatment</th>\n",
       "      <th>Factors_Kept_You_From_Seeking_Professional_Help</th>\n",
       "    </tr>\n",
       "  </thead>\n",
       "  <tbody>\n",
       "    <tr>\n",
       "      <td>0</td>\n",
       "      <td>1</td>\n",
       "      <td>No</td>\n",
       "      <td>1 year of college</td>\n",
       "      <td>25-34</td>\n",
       "      <td>F</td>\n",
       "      <td>Hispanic_or_Latino</td>\n",
       "      <td>Healthcare</td>\n",
       "      <td>No</td>\n",
       "      <td>No</td>\n",
       "      <td>NaN</td>\n",
       "      <td>NaN</td>\n",
       "    </tr>\n",
       "    <tr>\n",
       "      <td>1</td>\n",
       "      <td>1</td>\n",
       "      <td>Yes</td>\n",
       "      <td>2 years of college</td>\n",
       "      <td>18-24</td>\n",
       "      <td>F</td>\n",
       "      <td>Asian_or_Asian_American</td>\n",
       "      <td>Business and Financial</td>\n",
       "      <td>Obesity</td>\n",
       "      <td>No</td>\n",
       "      <td>No</td>\n",
       "      <td>Cultural Expectations</td>\n",
       "    </tr>\n",
       "  </tbody>\n",
       "</table>\n",
       "</div>"
      ],
      "text/plain": [
       "   Index Suffering_With_Anxiety           Education    Age Gender  \\\n",
       "0      1                     No  1 year of college   25-34      F   \n",
       "1      1                    Yes  2 years of college  18-24      F   \n",
       "\n",
       "                  Ethnicity              Occupation Underlying_Conditions  \\\n",
       "0       Hispanic_or_Latino               Healthcare                    No   \n",
       "1  Asian_or_Asian_American   Business and Financial               Obesity   \n",
       "\n",
       "  Smoker Received_Professional_Treatment  \\\n",
       "0     No                             NaN   \n",
       "1     No                             No    \n",
       "\n",
       "  Factors_Kept_You_From_Seeking_Professional_Help  \n",
       "0                                             NaN  \n",
       "1                           Cultural Expectations  "
      ]
     },
     "execution_count": 43,
     "metadata": {},
     "output_type": "execute_result"
    }
   ],
   "source": [
    "df.head(2)"
   ]
  },
  {
   "cell_type": "code",
   "execution_count": 44,
   "metadata": {},
   "outputs": [],
   "source": [
    "from sklearn.tree import DecisionTreeClassifier\n",
    "X=df.drop(columns=['Education','Index','Underlying_Conditions','Received_Professional_Treatment','Factors_Kept_You_From_Seeking_Professional_Help'])"
   ]
  },
  {
   "cell_type": "code",
   "execution_count": 45,
   "metadata": {},
   "outputs": [
    {
     "data": {
      "text/html": [
       "<div>\n",
       "<style scoped>\n",
       "    .dataframe tbody tr th:only-of-type {\n",
       "        vertical-align: middle;\n",
       "    }\n",
       "\n",
       "    .dataframe tbody tr th {\n",
       "        vertical-align: top;\n",
       "    }\n",
       "\n",
       "    .dataframe thead th {\n",
       "        text-align: right;\n",
       "    }\n",
       "</style>\n",
       "<table border=\"1\" class=\"dataframe\">\n",
       "  <thead>\n",
       "    <tr style=\"text-align: right;\">\n",
       "      <th></th>\n",
       "      <th>Suffering_With_Anxiety</th>\n",
       "      <th>Age</th>\n",
       "      <th>Gender</th>\n",
       "      <th>Ethnicity</th>\n",
       "      <th>Occupation</th>\n",
       "      <th>Smoker</th>\n",
       "    </tr>\n",
       "  </thead>\n",
       "  <tbody>\n",
       "    <tr>\n",
       "      <td>0</td>\n",
       "      <td>No</td>\n",
       "      <td>25-34</td>\n",
       "      <td>F</td>\n",
       "      <td>Hispanic_or_Latino</td>\n",
       "      <td>Healthcare</td>\n",
       "      <td>No</td>\n",
       "    </tr>\n",
       "    <tr>\n",
       "      <td>1</td>\n",
       "      <td>Yes</td>\n",
       "      <td>18-24</td>\n",
       "      <td>F</td>\n",
       "      <td>Asian_or_Asian_American</td>\n",
       "      <td>Business and Financial</td>\n",
       "      <td>No</td>\n",
       "    </tr>\n",
       "    <tr>\n",
       "      <td>2</td>\n",
       "      <td>Yes</td>\n",
       "      <td>18-24</td>\n",
       "      <td>M</td>\n",
       "      <td>Asian_or_Asian_American</td>\n",
       "      <td>Computer/IT</td>\n",
       "      <td>No</td>\n",
       "    </tr>\n",
       "    <tr>\n",
       "      <td>3</td>\n",
       "      <td>Yes</td>\n",
       "      <td>18-24</td>\n",
       "      <td>F</td>\n",
       "      <td>Asian_or_Asian_American</td>\n",
       "      <td>Healthcare</td>\n",
       "      <td>No</td>\n",
       "    </tr>\n",
       "    <tr>\n",
       "      <td>4</td>\n",
       "      <td>No</td>\n",
       "      <td>25-34</td>\n",
       "      <td>F</td>\n",
       "      <td>Asian_or_Asian_American</td>\n",
       "      <td>Healthcare</td>\n",
       "      <td>Yes</td>\n",
       "    </tr>\n",
       "  </tbody>\n",
       "</table>\n",
       "</div>"
      ],
      "text/plain": [
       "  Suffering_With_Anxiety    Age Gender                 Ethnicity  \\\n",
       "0                     No  25-34      F       Hispanic_or_Latino    \n",
       "1                    Yes  18-24      F  Asian_or_Asian_American    \n",
       "2                    Yes  18-24      M  Asian_or_Asian_American    \n",
       "3                    Yes  18-24      F  Asian_or_Asian_American    \n",
       "4                     No  25-34      F  Asian_or_Asian_American    \n",
       "\n",
       "               Occupation Smoker  \n",
       "0              Healthcare     No  \n",
       "1  Business and Financial     No  \n",
       "2             Computer/IT     No  \n",
       "3              Healthcare     No  \n",
       "4              Healthcare    Yes  "
      ]
     },
     "execution_count": 45,
     "metadata": {},
     "output_type": "execute_result"
    }
   ],
   "source": [
    "X.head()"
   ]
  },
  {
   "cell_type": "code",
   "execution_count": 46,
   "metadata": {},
   "outputs": [
    {
     "data": {
      "text/plain": [
       "F    20\n",
       "M    17\n",
       "Name: Gender, dtype: int64"
      ]
     },
     "execution_count": 46,
     "metadata": {},
     "output_type": "execute_result"
    }
   ],
   "source": [
    "df['Gender'].value_counts()"
   ]
  },
  {
   "cell_type": "code",
   "execution_count": 47,
   "metadata": {},
   "outputs": [
    {
     "data": {
      "text/plain": [
       "Asian_or_Asian_American       15\n",
       "Black_or_African_American      8\n",
       "Hispanic_or_Latino             7\n",
       "White_or_Caucasian             5\n",
       "Hispanic or Latino             1\n",
       "White or Caucasian             1\n",
       "Name: Ethnicity, dtype: int64"
      ]
     },
     "execution_count": 47,
     "metadata": {},
     "output_type": "execute_result"
    }
   ],
   "source": [
    "df['Ethnicity'].value_counts()"
   ]
  },
  {
   "cell_type": "code",
   "execution_count": 48,
   "metadata": {},
   "outputs": [
    {
     "data": {
      "text/plain": [
       "Healthcare                14\n",
       "Computer/IT                5\n",
       "Unemployed                 3\n",
       "Sales                      3\n",
       "Construction               3\n",
       "Education/Training         3\n",
       "Enginerring                2\n",
       "Legal                      1\n",
       "Arts/Design                1\n",
       "Social Services            1\n",
       "Business and Financial     1\n",
       "Name: Occupation, dtype: int64"
      ]
     },
     "execution_count": 48,
     "metadata": {},
     "output_type": "execute_result"
    }
   ],
   "source": [
    "df['Occupation'].value_counts()"
   ]
  },
  {
   "cell_type": "code",
   "execution_count": 49,
   "metadata": {},
   "outputs": [
    {
     "data": {
      "text/plain": [
       "No     27\n",
       "Yes    10\n",
       "Name: Smoker, dtype: int64"
      ]
     },
     "execution_count": 49,
     "metadata": {},
     "output_type": "execute_result"
    }
   ],
   "source": [
    "df['Smoker'].value_counts()"
   ]
  },
  {
   "cell_type": "markdown",
   "metadata": {},
   "source": [
    "<b> will create dictionaries and classify all data of these 4 dependent columns <b>"
   ]
  },
  {
   "cell_type": "code",
   "execution_count": 50,
   "metadata": {},
   "outputs": [],
   "source": [
    "dic = {\n",
    "    'Healthcare':11,\n",
    "    \"Computer/IT\":10,\n",
    "    \"Sales\":9,\n",
    "    \"Unemployed\":8,\n",
    "    \"Construction\":7,\n",
    "    \"Education/Training\":6,\n",
    "    \"Enginerring\":5,\n",
    "    \"Social Services\":4,\n",
    "    \"Legal\":3,\n",
    "    \"Arts/Design\":2,\n",
    "    \"Business and Financial\":1\n",
    "    \n",
    "    \n",
    "}\n",
    "             \n",
    "\n",
    "dic1 = {\n",
    "    \"Asian_or_Asian_American\":4,\n",
    "    \"Black_or_African_American\":3,\n",
    "    \"Hispanic_or_Latino\":2,\n",
    "    \"White_or_Caucasian\":1\n",
    "    \n",
    "    \n",
    "}\n",
    "\n",
    "dic2 = {\n",
    "    \n",
    "    \"M\":2,\n",
    "    \"F\":1    \n",
    "    \n",
    "}\n",
    "\n",
    "dic3 = {\n",
    "    \n",
    "    \"Yes\":2,\n",
    "    \"No\":1    \n",
    "    \n",
    "}\n",
    "dic4 = {\n",
    "    \"25-34\":7,\n",
    "    \"35-44\":6,\n",
    "    \"18-24\":5,\n",
    "    \"55-64\":4,\n",
    "    \"45-54\":3,\n",
    "    \"65+\":2,\n",
    "    \"Under 18\":1\n",
    "    \n",
    "    \n",
    "    \n",
    "}\n"
   ]
  },
  {
   "cell_type": "code",
   "execution_count": 51,
   "metadata": {},
   "outputs": [
    {
     "data": {
      "text/html": [
       "<div>\n",
       "<style scoped>\n",
       "    .dataframe tbody tr th:only-of-type {\n",
       "        vertical-align: middle;\n",
       "    }\n",
       "\n",
       "    .dataframe tbody tr th {\n",
       "        vertical-align: top;\n",
       "    }\n",
       "\n",
       "    .dataframe thead th {\n",
       "        text-align: right;\n",
       "    }\n",
       "</style>\n",
       "<table border=\"1\" class=\"dataframe\">\n",
       "  <thead>\n",
       "    <tr style=\"text-align: right;\">\n",
       "      <th></th>\n",
       "      <th>Suffering_With_Anxiety</th>\n",
       "      <th>Age</th>\n",
       "      <th>Gender</th>\n",
       "      <th>Ethnicity</th>\n",
       "      <th>Occupation</th>\n",
       "      <th>Smoker</th>\n",
       "      <th>Occupation1</th>\n",
       "      <th>Gender1</th>\n",
       "      <th>Smoker1</th>\n",
       "      <th>Age1</th>\n",
       "    </tr>\n",
       "  </thead>\n",
       "  <tbody>\n",
       "    <tr>\n",
       "      <td>0</td>\n",
       "      <td>No</td>\n",
       "      <td>25-34</td>\n",
       "      <td>F</td>\n",
       "      <td>Hispanic_or_Latino</td>\n",
       "      <td>Healthcare</td>\n",
       "      <td>No</td>\n",
       "      <td>11.0</td>\n",
       "      <td>1</td>\n",
       "      <td>1</td>\n",
       "      <td>7</td>\n",
       "    </tr>\n",
       "    <tr>\n",
       "      <td>1</td>\n",
       "      <td>Yes</td>\n",
       "      <td>18-24</td>\n",
       "      <td>F</td>\n",
       "      <td>Asian_or_Asian_American</td>\n",
       "      <td>Business and Financial</td>\n",
       "      <td>No</td>\n",
       "      <td>1.0</td>\n",
       "      <td>1</td>\n",
       "      <td>1</td>\n",
       "      <td>5</td>\n",
       "    </tr>\n",
       "  </tbody>\n",
       "</table>\n",
       "</div>"
      ],
      "text/plain": [
       "  Suffering_With_Anxiety    Age Gender                 Ethnicity  \\\n",
       "0                     No  25-34      F       Hispanic_or_Latino    \n",
       "1                    Yes  18-24      F  Asian_or_Asian_American    \n",
       "\n",
       "               Occupation Smoker  Occupation1  Gender1  Smoker1  Age1  \n",
       "0              Healthcare     No         11.0        1        1     7  \n",
       "1  Business and Financial     No          1.0        1        1     5  "
      ]
     },
     "execution_count": 51,
     "metadata": {},
     "output_type": "execute_result"
    }
   ],
   "source": [
    "X['Occupation1'] = df.Occupation.map(dic)\n",
    "#X['Ethnicity1'] = df.Ethnicity.map(dic1)\n",
    "X['Gender1'] = df.Gender.map(dic2)\n",
    "X['Smoker1'] = df.Smoker.map(dic3)\n",
    "X['Age1'] = df.Age.map(dic4)\n",
    "\n",
    "\n",
    "\n",
    "\n",
    "X.head(2)"
   ]
  },
  {
   "cell_type": "code",
   "execution_count": 52,
   "metadata": {},
   "outputs": [
    {
     "data": {
      "text/html": [
       "<div>\n",
       "<style scoped>\n",
       "    .dataframe tbody tr th:only-of-type {\n",
       "        vertical-align: middle;\n",
       "    }\n",
       "\n",
       "    .dataframe tbody tr th {\n",
       "        vertical-align: top;\n",
       "    }\n",
       "\n",
       "    .dataframe thead th {\n",
       "        text-align: right;\n",
       "    }\n",
       "</style>\n",
       "<table border=\"1\" class=\"dataframe\">\n",
       "  <thead>\n",
       "    <tr style=\"text-align: right;\">\n",
       "      <th></th>\n",
       "      <th>Occupation1</th>\n",
       "      <th>Gender1</th>\n",
       "      <th>Smoker1</th>\n",
       "      <th>Age1</th>\n",
       "    </tr>\n",
       "  </thead>\n",
       "  <tbody>\n",
       "    <tr>\n",
       "      <td>0</td>\n",
       "      <td>11.0</td>\n",
       "      <td>1</td>\n",
       "      <td>1</td>\n",
       "      <td>7</td>\n",
       "    </tr>\n",
       "    <tr>\n",
       "      <td>1</td>\n",
       "      <td>1.0</td>\n",
       "      <td>1</td>\n",
       "      <td>1</td>\n",
       "      <td>5</td>\n",
       "    </tr>\n",
       "    <tr>\n",
       "      <td>2</td>\n",
       "      <td>10.0</td>\n",
       "      <td>2</td>\n",
       "      <td>1</td>\n",
       "      <td>5</td>\n",
       "    </tr>\n",
       "    <tr>\n",
       "      <td>3</td>\n",
       "      <td>11.0</td>\n",
       "      <td>1</td>\n",
       "      <td>1</td>\n",
       "      <td>5</td>\n",
       "    </tr>\n",
       "    <tr>\n",
       "      <td>4</td>\n",
       "      <td>11.0</td>\n",
       "      <td>1</td>\n",
       "      <td>2</td>\n",
       "      <td>7</td>\n",
       "    </tr>\n",
       "  </tbody>\n",
       "</table>\n",
       "</div>"
      ],
      "text/plain": [
       "   Occupation1  Gender1  Smoker1  Age1\n",
       "0         11.0        1        1     7\n",
       "1          1.0        1        1     5\n",
       "2         10.0        2        1     5\n",
       "3         11.0        1        1     5\n",
       "4         11.0        1        2     7"
      ]
     },
     "execution_count": 52,
     "metadata": {},
     "output_type": "execute_result"
    }
   ],
   "source": [
    "x=X.drop(columns=['Suffering_With_Anxiety','Age','Gender','Ethnicity','Occupation','Smoker'])\n",
    "x.head()"
   ]
  },
  {
   "cell_type": "code",
   "execution_count": 53,
   "metadata": {},
   "outputs": [],
   "source": [
    "y=X['Suffering_With_Anxiety']"
   ]
  },
  {
   "cell_type": "code",
   "execution_count": 54,
   "metadata": {},
   "outputs": [
    {
     "data": {
      "text/plain": [
       "0     No\n",
       "1    Yes\n",
       "2    Yes\n",
       "3    Yes\n",
       "4     No\n",
       "Name: Suffering_With_Anxiety, dtype: object"
      ]
     },
     "execution_count": 54,
     "metadata": {},
     "output_type": "execute_result"
    }
   ],
   "source": [
    "y.head()"
   ]
  },
  {
   "cell_type": "code",
   "execution_count": 55,
   "metadata": {},
   "outputs": [],
   "source": [
    "x['Occupation1'] = x['Occupation1'].fillna(1)\n"
   ]
  },
  {
   "cell_type": "code",
   "execution_count": 56,
   "metadata": {},
   "outputs": [
    {
     "data": {
      "text/plain": [
       "0     11\n",
       "1      1\n",
       "2     10\n",
       "3     11\n",
       "4     11\n",
       "6     11\n",
       "7      8\n",
       "8     11\n",
       "9     11\n",
       "10     8\n",
       "11    11\n",
       "12    10\n",
       "13    11\n",
       "15     2\n",
       "16    11\n",
       "17    10\n",
       "18    11\n",
       "19     9\n",
       "20     8\n",
       "21     6\n",
       "22    11\n",
       "23    11\n",
       "24     5\n",
       "25    10\n",
       "26     7\n",
       "27     6\n",
       "28     9\n",
       "29     7\n",
       "30     5\n",
       "31    11\n",
       "33     9\n",
       "34    10\n",
       "35    11\n",
       "36     1\n",
       "37     6\n",
       "38     4\n",
       "39     7\n",
       "Name: Occupation1, dtype: int32"
      ]
     },
     "execution_count": 56,
     "metadata": {},
     "output_type": "execute_result"
    }
   ],
   "source": [
    "x['Occupation1'].astype(int)"
   ]
  },
  {
   "cell_type": "code",
   "execution_count": 57,
   "metadata": {},
   "outputs": [
    {
     "data": {
      "text/plain": [
       "0     11.0\n",
       "1      1.0\n",
       "2     10.0\n",
       "3     11.0\n",
       "4     11.0\n",
       "6     11.0\n",
       "7      8.0\n",
       "8     11.0\n",
       "9     11.0\n",
       "10     8.0\n",
       "11    11.0\n",
       "12    10.0\n",
       "13    11.0\n",
       "15     2.0\n",
       "16    11.0\n",
       "17    10.0\n",
       "18    11.0\n",
       "19     9.0\n",
       "20     8.0\n",
       "21     6.0\n",
       "Name: Occupation1, dtype: float64"
      ]
     },
     "execution_count": 57,
     "metadata": {},
     "output_type": "execute_result"
    }
   ],
   "source": [
    "x['Occupation1'].head(20)"
   ]
  },
  {
   "cell_type": "code",
   "execution_count": 58,
   "metadata": {},
   "outputs": [
    {
     "data": {
      "text/plain": [
       "19     9.0\n",
       "20     8.0\n",
       "21     6.0\n",
       "22    11.0\n",
       "23    11.0\n",
       "24     5.0\n",
       "25    10.0\n",
       "26     7.0\n",
       "27     6.0\n",
       "28     9.0\n",
       "29     7.0\n",
       "30     5.0\n",
       "31    11.0\n",
       "33     9.0\n",
       "34    10.0\n",
       "35    11.0\n",
       "36     1.0\n",
       "37     6.0\n",
       "38     4.0\n",
       "39     7.0\n",
       "Name: Occupation1, dtype: float64"
      ]
     },
     "execution_count": 58,
     "metadata": {},
     "output_type": "execute_result"
    }
   ],
   "source": [
    "x['Occupation1'].tail(20)"
   ]
  },
  {
   "cell_type": "code",
   "execution_count": 59,
   "metadata": {},
   "outputs": [
    {
     "data": {
      "text/plain": [
       "(37, 4)"
      ]
     },
     "execution_count": 59,
     "metadata": {},
     "output_type": "execute_result"
    }
   ],
   "source": [
    "x.shape"
   ]
  },
  {
   "cell_type": "code",
   "execution_count": 60,
   "metadata": {},
   "outputs": [
    {
     "data": {
      "text/plain": [
       "19     9.0\n",
       "20     8.0\n",
       "21     6.0\n",
       "22    11.0\n",
       "23    11.0\n",
       "24     5.0\n",
       "25    10.0\n",
       "26     7.0\n",
       "27     6.0\n",
       "28     9.0\n",
       "29     7.0\n",
       "30     5.0\n",
       "31    11.0\n",
       "33     9.0\n",
       "34    10.0\n",
       "35    11.0\n",
       "36     1.0\n",
       "37     6.0\n",
       "38     4.0\n",
       "39     7.0\n",
       "Name: Occupation1, dtype: float64"
      ]
     },
     "execution_count": 60,
     "metadata": {},
     "output_type": "execute_result"
    }
   ],
   "source": [
    "x['Occupation1'].tail(20)"
   ]
  },
  {
   "cell_type": "code",
   "execution_count": 61,
   "metadata": {},
   "outputs": [
    {
     "data": {
      "text/plain": [
       "array(['No'], dtype=object)"
      ]
     },
     "execution_count": 61,
     "metadata": {},
     "output_type": "execute_result"
    }
   ],
   "source": [
    "model=DecisionTreeClassifier()\n",
    "model.fit(x,y)\n",
    "predictions=model.predict([[1,1,1,1]]) # giving 4 Independent values for output yes or No anxiety\n",
    "predictions"
   ]
  },
  {
   "cell_type": "code",
   "execution_count": 62,
   "metadata": {},
   "outputs": [
    {
     "data": {
      "text/plain": [
       "0.75"
      ]
     },
     "execution_count": 62,
     "metadata": {},
     "output_type": "execute_result"
    }
   ],
   "source": [
    "from sklearn.model_selection import train_test_split\n",
    "from sklearn.metrics import accuracy_score\n",
    "\n",
    "X=x\n",
    "Y=df['Suffering_With_Anxiety']\n",
    "X_train, X_test, Y_train, Y_test=train_test_split(X,Y, test_size=0.2)\n",
    "model=DecisionTreeClassifier()\n",
    "model.fit(X_train, Y_train)  \n",
    "predictions=model.predict(X_test)\n",
    "score=accuracy_score(Y_test, predictions)\n",
    "score"
   ]
  },
  {
   "cell_type": "code",
   "execution_count": 63,
   "metadata": {},
   "outputs": [],
   "source": [
    "# Accuracy is 0.625"
   ]
  },
  {
   "cell_type": "markdown",
   "metadata": {},
   "source": [
    "#  Machine Learning Algorithm Random forest"
   ]
  },
  {
   "cell_type": "code",
   "execution_count": 64,
   "metadata": {},
   "outputs": [
    {
     "data": {
      "text/html": [
       "<div>\n",
       "<style scoped>\n",
       "    .dataframe tbody tr th:only-of-type {\n",
       "        vertical-align: middle;\n",
       "    }\n",
       "\n",
       "    .dataframe tbody tr th {\n",
       "        vertical-align: top;\n",
       "    }\n",
       "\n",
       "    .dataframe thead th {\n",
       "        text-align: right;\n",
       "    }\n",
       "</style>\n",
       "<table border=\"1\" class=\"dataframe\">\n",
       "  <thead>\n",
       "    <tr style=\"text-align: right;\">\n",
       "      <th></th>\n",
       "      <th>Occupation1</th>\n",
       "      <th>Gender1</th>\n",
       "      <th>Smoker1</th>\n",
       "      <th>Age1</th>\n",
       "    </tr>\n",
       "  </thead>\n",
       "  <tbody>\n",
       "    <tr>\n",
       "      <td>0</td>\n",
       "      <td>11.0</td>\n",
       "      <td>1</td>\n",
       "      <td>1</td>\n",
       "      <td>7</td>\n",
       "    </tr>\n",
       "    <tr>\n",
       "      <td>1</td>\n",
       "      <td>1.0</td>\n",
       "      <td>1</td>\n",
       "      <td>1</td>\n",
       "      <td>5</td>\n",
       "    </tr>\n",
       "    <tr>\n",
       "      <td>2</td>\n",
       "      <td>10.0</td>\n",
       "      <td>2</td>\n",
       "      <td>1</td>\n",
       "      <td>5</td>\n",
       "    </tr>\n",
       "    <tr>\n",
       "      <td>3</td>\n",
       "      <td>11.0</td>\n",
       "      <td>1</td>\n",
       "      <td>1</td>\n",
       "      <td>5</td>\n",
       "    </tr>\n",
       "    <tr>\n",
       "      <td>4</td>\n",
       "      <td>11.0</td>\n",
       "      <td>1</td>\n",
       "      <td>2</td>\n",
       "      <td>7</td>\n",
       "    </tr>\n",
       "  </tbody>\n",
       "</table>\n",
       "</div>"
      ],
      "text/plain": [
       "   Occupation1  Gender1  Smoker1  Age1\n",
       "0         11.0        1        1     7\n",
       "1          1.0        1        1     5\n",
       "2         10.0        2        1     5\n",
       "3         11.0        1        1     5\n",
       "4         11.0        1        2     7"
      ]
     },
     "execution_count": 64,
     "metadata": {},
     "output_type": "execute_result"
    }
   ],
   "source": [
    "X.head()"
   ]
  },
  {
   "cell_type": "code",
   "execution_count": 65,
   "metadata": {},
   "outputs": [],
   "source": [
    "#ydic={\n",
    " #   \"Yes\":2,\n",
    "  #  \"No\":1    \n",
    "#}\n",
    "\n",
    "#y =df.Suffering_With_Anxiety.map(ydic)\n"
   ]
  },
  {
   "cell_type": "code",
   "execution_count": 66,
   "metadata": {},
   "outputs": [],
   "source": [
    "from sklearn.model_selection import train_test_split\n",
    "\n",
    "X_train, X_test, y_train, y_test = train_test_split(x, y, test_size=0.2, random_state=0)"
   ]
  },
  {
   "cell_type": "code",
   "execution_count": 67,
   "metadata": {},
   "outputs": [],
   "source": [
    "# Feature Scaling\n",
    "from sklearn.preprocessing import StandardScaler\n",
    "\n",
    "sc = StandardScaler()\n",
    "X_train = sc.fit_transform(X_train)\n",
    "X_test = sc.transform(X_test)\n"
   ]
  },
  {
   "cell_type": "code",
   "execution_count": 68,
   "metadata": {},
   "outputs": [],
   "source": [
    "from sklearn.ensemble import RandomForestClassifier\n",
    ">>> from sklearn.datasets import make_classification\n",
    "\n",
    "regressor = RandomForestClassifier(n_estimators=20, random_state=0)\n",
    "regressor.fit(X_train, y_train)\n",
    "y_pred = regressor.predict(X_test)"
   ]
  },
  {
   "cell_type": "code",
   "execution_count": 69,
   "metadata": {},
   "outputs": [
    {
     "name": "stdout",
     "output_type": "stream",
     "text": [
      "[[0 1]\n",
      " [1 6]]\n",
      "              precision    recall  f1-score   support\n",
      "\n",
      "          No       0.00      0.00      0.00         1\n",
      "         Yes       0.86      0.86      0.86         7\n",
      "\n",
      "    accuracy                           0.75         8\n",
      "   macro avg       0.43      0.43      0.43         8\n",
      "weighted avg       0.75      0.75      0.75         8\n",
      "\n",
      "0.75\n"
     ]
    }
   ],
   "source": [
    "from sklearn.metrics import classification_report, confusion_matrix, accuracy_score\n",
    "\n",
    "print(confusion_matrix(y_test,y_pred))\n",
    "print(classification_report(y_test,y_pred))\n",
    "print(accuracy_score(y_test, y_pred))"
   ]
  },
  {
   "cell_type": "code",
   "execution_count": 70,
   "metadata": {},
   "outputs": [],
   "source": [
    "# Accuracy is 0.75"
   ]
  }
 ],
 "metadata": {
  "kernelspec": {
   "display_name": "Python 3",
   "language": "python",
   "name": "python3"
  },
  "language_info": {
   "codemirror_mode": {
    "name": "ipython",
    "version": 3
   },
   "file_extension": ".py",
   "mimetype": "text/x-python",
   "name": "python",
   "nbconvert_exporter": "python",
   "pygments_lexer": "ipython3",
   "version": "3.7.4"
  }
 },
 "nbformat": 4,
 "nbformat_minor": 2
}
