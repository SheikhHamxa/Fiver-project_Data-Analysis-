{
 "cells": [
  {
   "cell_type": "markdown",
   "metadata": {},
   "source": [
    "# Week 3 Lab - Basic Python Exercises"
   ]
  },
  {
   "cell_type": "markdown",
   "metadata": {},
   "source": [
    "In this week's lab you will use what you have learnt from the Basic Python Programming notebook to solve some interesting problems using Python. The problems you will solve include:\n",
    "1. Quadratic equation roots \n",
    "2. Sequence Generator\n",
    "3. Basic data analysis on sentences\n",
    "\n",
    "In order to run this notebook you need to install a python package first.\n",
    "* lorem - this is a package which can be used to create random words, sentences, and paragraphs. More information [here](https://www.lipsum.com/)\n",
    "\n",
    "\n",
    "\n",
    "This package will be installed by running the cells below. Let your demonstrator know if there are any errors with this step."
   ]
  },
  {
   "cell_type": "code",
   "execution_count": 1,
   "metadata": {},
   "outputs": [
    {
     "name": "stdout",
     "output_type": "stream",
     "text": [
      "Collecting lorem\n",
      "  Downloading https://files.pythonhosted.org/packages/90/7e/963834e2a400cefdf72af1e10a106c9e849cb4c149cc7b394cb1492effec/lorem-0.1.1-py3-none-any.whl\n",
      "Installing collected packages: lorem\n",
      "Successfully installed lorem-0.1.1\n"
     ]
    }
   ],
   "source": [
    "!pip install lorem"
   ]
  },
  {
   "cell_type": "markdown",
   "metadata": {},
   "source": [
    "### Quadratic Equation Roots (15 Marks)"
   ]
  },
  {
   "cell_type": "markdown",
   "metadata": {},
   "source": [
    "Create a function which takes in three integer inputs representing the coefficients $a$, $b$, and $c$ of the quadratic equation:\n",
    "\\begin{equation*}\n",
    "ax^2+bx+c=0\n",
    "\\end{equation*}\n",
    "\n",
    "The function should display the two roots of the equation ($x_1$ and $x_2$) according to:\n",
    "\n",
    "\\begin{equation*}\n",
    "x_1 = \\frac{-b+\\sqrt{b^2-4ac}}{2a} \\quad,\n",
    "\\quad x_2 = \\frac{-b-\\sqrt{b^2-4ac}}{2a}\n",
    "\\end{equation*}\n",
    "\n",
    "For this exercise you will need to use the *complex* function in Python. Its functionality is shown in the cell below:"
   ]
  },
  {
   "cell_type": "code",
   "execution_count": 2,
   "metadata": {},
   "outputs": [
    {
     "name": "stdout",
     "output_type": "stream",
     "text": [
      "(5+6j)\n"
     ]
    }
   ],
   "source": [
    "x1real = 5\n",
    "x1comp = 6\n",
    "x1 = complex(x1real,x1comp)\n",
    "\n",
    "print(x1)"
   ]
  },
  {
   "cell_type": "markdown",
   "metadata": {},
   "source": [
    "You will also need the *sqrt()* function for finding the square root. This function is in the *math* python package. Lets import it in the cell below."
   ]
  },
  {
   "cell_type": "code",
   "execution_count": null,
   "metadata": {},
   "outputs": [],
   "source": [
    "import math"
   ]
  },
  {
   "cell_type": "markdown",
   "metadata": {},
   "source": [
    "Complete the *findQuadraticRoots* function in the cell below to achieve the desired functionality"
   ]
  },
  {
   "cell_type": "code",
   "execution_count": 7,
   "metadata": {},
   "outputs": [],
   "source": [
    "def findQuadraticRoots(a,b,c):\n",
    "    '''\n",
    "    Example 1:\n",
    "           input => a = 5, b = 2, c = 1\n",
    "           output -0.2+0.4j,-0.2-0.4j\n",
    "\n",
    "    Example 2:\n",
    "           input => a = 2, b = 5, c = -3\n",
    "           output 0.5,-3\n",
    "    '''\n",
    "  \n",
    "    x1 = 0\n",
    "    x1real = 0\n",
    "    x1comp = 0\n",
    "    \n",
    "    x2 = 0\n",
    "    x2real = 0\n",
    "    x2comp = 0\n",
    "    \n",
    "    #INSERT CODE HERE to achieve the desired functionality here\n",
    "    \n",
    "    #HINT - find the determinant first, and check if it is negative.\n",
    "    #     - if the determinant is negative then find its absolute value,\n",
    "    #       then find the real and complex parts of the solution\n",
    "    #       and combine them using the complex function.\n",
    " \n",
    "\n",
    "    \n",
    "    \n",
    "    \n",
    "    \n",
    "    return (x1,x2)"
   ]
  },
  {
   "cell_type": "code",
   "execution_count": 8,
   "metadata": {},
   "outputs": [
    {
     "name": "stdout",
     "output_type": "stream",
     "text": [
      "enter a2\n",
      "enter b2\n",
      "enter c1\n",
      "The solution are (-0.5-0.5j) and (-0.5+0.5j)\n"
     ]
    }
   ],
   "source": [
    "#ax2 + bx + c = 0\n",
    "#a, b and c are real numbers and a is not equal to zer0\n",
    "# Solve the quadratic equation ax**2 + bx + c = 0\n",
    "\n",
    "# import complex math module\n",
    "import cmath\n",
    "\n",
    "a=int(input(\"enter a\"))\n",
    "b=int(input(\"enter b\"))\n",
    "c=int(input(\"enter c\"))\n",
    "\n",
    "# calculate the discriminant\n",
    "d = (b**2) - (4*a*c)\n",
    "\n",
    "# find two solutions\n",
    "sol1 = (-b-cmath.sqrt(d))/(2*a)\n",
    "sol2 = (-b+cmath.sqrt(d))/(2*a)\n",
    "\n",
    "print('The solution are {0} and {1}'.format(sol1,sol2))"
   ]
  },
  {
   "cell_type": "markdown",
   "metadata": {},
   "source": [
    "Test your function using the cell below:"
   ]
  },
  {
   "cell_type": "code",
   "execution_count": 11,
   "metadata": {},
   "outputs": [
    {
     "name": "stdout",
     "output_type": "stream",
     "text": [
      "Enter the value of a: 1\n",
      "Enter the value of b: 2\n",
      "Enter the value of c: 3\n",
      "Quadratic Roots:\n",
      "sol1 = (-0.5-0.5j)\n",
      "sol2 = (-0.5+0.5j)\n"
     ]
    }
   ],
   "source": [
    "a = input('Enter the value of a: ')\n",
    "a = float(a)\n",
    "b = input('Enter the value of b: ')\n",
    "b = float(b)\n",
    "c = input('Enter the value of c: ')\n",
    "c = float(c)\n",
    "\n",
    "x1,x2 = findQuadraticRoots(a,b,c)\n",
    "print('Quadratic Roots:')\n",
    "print('sol1 = '+str(sol1))\n",
    "print('sol2 = '+str(sol2))\n"
   ]
  },
  {
   "cell_type": "markdown",
   "metadata": {},
   "source": [
    "### Sequence Generator (15 Marks)"
   ]
  },
  {
   "cell_type": "markdown",
   "metadata": {},
   "source": [
    "For this part, you are required to generate a sequence of numbers according to one of the following equations:\n",
    "* eq1 :    $x_n = 2x(n-1)$\n",
    "* eq2 :    $x_n = x(n-1)+x(n-2)$ \n",
    "* eq3 :    $x_n = x(n-1)-x(n-2)$ \n",
    "\n",
    "where $n$ is the nth element in the sequence.\n",
    "\n",
    "Your function must allow for the first two numbers in the sequence to be specified, as well as the size of the sequence, and the method.\n",
    "For example: \n",
    "* sequenceGenerator(0,1,10,'eq1') will generate the sequence 0,1,2,4,8,16,32,64,128,256\n",
    "* sequenceGenerator(0,1,8,'eq2') will generate the sequence 0,1,1,2,3,5,8,13\n",
    "* sequenceGenerator(3,5,7,'eq3') will generate the sequence 3,5,2,-3,-1,-4,-5\n",
    "\n",
    "You will need the *numpy* python package to generate the sequence. We will import in it the cell below:\n",
    "            \n",
    "\n"
   ]
  },
  {
   "cell_type": "code",
   "execution_count": 12,
   "metadata": {},
   "outputs": [],
   "source": [
    "import numpy as np"
   ]
  },
  {
   "cell_type": "code",
   "execution_count": 13,
   "metadata": {},
   "outputs": [],
   "source": [
    "# zeeshan see this function , logic idr hi lgni\n",
    "def sequenceGenerator(firstNumber,secondNumber,sequenceSize,method):\n",
    "    '''\n",
    "    INPUTS:\n",
    "        firstNumber - the first number in the sequence\n",
    "        secondNumber - the second number in the sequence\n",
    "        sequenceSize - the number of elements in the sequence (i.e the size of the generated sequence)\n",
    "        method - the method used to generate the sequence. Can be one of three values:\n",
    "               - 'eq1' for 2x(n−1)\n",
    "               - 'eq2' for x(n−1)+x(n−2)\n",
    "               - 'eq3' for x(n−1)−x(n−2)\n",
    "    \n",
    "    OUTPUTS:\n",
    "        sequence - the generated sequence\n",
    "    \n",
    "    '''\n",
    "    sequence = np.zeros(sequenceSize,dtype=np.int32)       #creates an array of size sequenceSize with all zeros\n",
    "    \n",
    "    #INSERT CODE HERE for assigning the first number input to the first position of the sequence\n",
    "     \n",
    "    sequence[0] = firstNumber\n",
    "    #INSERT CODE HERE for assigning the second number input to the second position of the sequence\n",
    "    sequence[1] = secondNumber      \n",
    "    \n",
    "    if(method == 'eq1'):\n",
    "        #INSERT CODE HERE for generating the sequence using the 'eq1' method\n",
    "        for i in range(2,sequenceSize):\n",
    "            sequence[i] = 2*sequence[i-1]\n",
    "#         x = 1\n",
    "#         while x<= 5000:\n",
    "#             print(x)\n",
    "#             x *= 2 \n",
    "        \n",
    "\n",
    "    \n",
    "        \n",
    "        \n",
    "        \n",
    "    elif(method == 'eq2'):\n",
    "        #INSERT CODE HERE for generating the sequence using the 'eq2' method\n",
    "        for i in range(2,sequenceSize):\n",
    "            sequence[i] = sequence[i-1] + sequence[i-2]\n",
    "      \n",
    "        \n",
    "        \n",
    "    elif(method == 'eq3'):\n",
    "        #INSERT CODE HERE for generating the sequence using the 'eq3' method\n",
    "        for i in range(2,sequenceSize):\n",
    "            sequence[i] = sequence[i-1] - sequence[i-2]\n",
    "  \n",
    "        \n",
    "    \n",
    "    return sequence\n",
    "        "
   ]
  },
  {
   "cell_type": "code",
   "execution_count": 14,
   "metadata": {},
   "outputs": [
    {
     "data": {
      "text/plain": [
       "array([1, 0, 0, 0, 0])"
      ]
     },
     "execution_count": 14,
     "metadata": {},
     "output_type": "execute_result"
    }
   ],
   "source": [
    "s = np.zeros(5,dtype=np.int32)  \n",
    "s[0]=1\n",
    "s"
   ]
  },
  {
   "cell_type": "markdown",
   "metadata": {},
   "source": [
    "Test your function using the cell below"
   ]
  },
  {
   "cell_type": "code",
   "execution_count": 15,
   "metadata": {},
   "outputs": [
    {
     "name": "stdout",
     "output_type": "stream",
     "text": [
      "Sequence Generated using eq1:\n",
      "[  0   1   2   4   8  16  32  64 128 256]\n",
      "Sequence Generated using eq2:\n",
      "[    3     7    10    17    27    44    71   115   186   301   487   788\n",
      "  1275  2063  3338  5401  8739 14140 22879 37019]\n",
      "Sequence Generated using eq3:\n",
      "[-1  5  6  1 -5 -6 -1]\n"
     ]
    }
   ],
   "source": [
    "# zeeshan yha print krana h\n",
    "sequence1 = sequenceGenerator(0,1,10,'eq1')\n",
    "sequence2 = sequenceGenerator(3,7,20,'eq2')\n",
    "sequence3 = sequenceGenerator(-1,5,7,'eq3')\n",
    "\n",
    "print('Sequence Generated using eq1:')\n",
    "print(sequence1)\n",
    "print('Sequence Generated using eq2:')\n",
    "print(sequence2)\n",
    "print('Sequence Generated using eq3:')\n",
    "print(sequence3)\n"
   ]
  },
  {
   "cell_type": "markdown",
   "metadata": {},
   "source": [
    "### Basic Data Analysis on Sentences (20 Marks)"
   ]
  },
  {
   "cell_type": "markdown",
   "metadata": {},
   "source": [
    "For this part, you are required to perform some basic data analysis on a randomly generated sentence. The sentence will be generated using the lorem package you installed at the beginning of this notebook. The analysis you will perform on this sentence should answer the following questions:\n",
    "1. How many words are in the sentence?\n",
    "2. What is the last word in the sentence?\n",
    "3. What is the largest word(s) (most letters) in the sentence?\n",
    "4. What is the smallest word(s) (least letters) in the sentence?\n",
    "5. Which word(s) have 3 or more vowels?\n",
    "6. What is the average word size in the sentence?\n",
    "\n",
    "Your code should print the results of the data analysis in an easy to read way.\n",
    "\n",
    "Lets see how to generate a random sentence using the lorem package in the cell below:\n",
    "\n"
   ]
  },
  {
   "cell_type": "code",
   "execution_count": 16,
   "metadata": {
    "scrolled": true
   },
   "outputs": [
    {
     "name": "stdout",
     "output_type": "stream",
     "text": [
      "Dolor sed amet etincidunt magnam.\n"
     ]
    }
   ],
   "source": [
    "import lorem\n",
    "\n",
    "\n",
    "sentence = lorem.sentence()\n",
    "print(sentence)"
   ]
  },
  {
   "cell_type": "markdown",
   "metadata": {},
   "source": [
    "If the generated sentence doesn't make sense to you, that's because it is pseudo-latin text. More information about it can be found [here](https://www.lipsum.com/).\n",
    "\n",
    "The next useful thing we can do is convert the sentence into a list of individual words. We do this by using the *split()* function in python. First lets remove the full stop from the sentence."
   ]
  },
  {
   "cell_type": "code",
   "execution_count": 17,
   "metadata": {},
   "outputs": [
    {
     "name": "stdout",
     "output_type": "stream",
     "text": [
      "['Dolor sed amet etincidunt magnam', '']\n"
     ]
    }
   ],
   "source": [
    "splitByFullStop = sentence.split('.')    #we place the character we want to use to split the string (in this case a .)\n",
    "print(splitByFullStop)"
   ]
  },
  {
   "cell_type": "markdown",
   "metadata": {},
   "source": [
    "This creates a list with two items: the part of the string before the full stop, and the remaining part of the string after the full stop (which in this case is nothing). Since we are only interested in the part of the string before the full stop, we just want the first item in the list."
   ]
  },
  {
   "cell_type": "code",
   "execution_count": 18,
   "metadata": {},
   "outputs": [
    {
     "name": "stdout",
     "output_type": "stream",
     "text": [
      "Dolor sed amet etincidunt magnam\n"
     ]
    }
   ],
   "source": [
    "sentence = splitByFullStop[0]\n",
    "print(sentence)"
   ]
  },
  {
   "cell_type": "markdown",
   "metadata": {},
   "source": [
    "Now we can split the sentence into a list of individual words"
   ]
  },
  {
   "cell_type": "code",
   "execution_count": 19,
   "metadata": {},
   "outputs": [
    {
     "name": "stdout",
     "output_type": "stream",
     "text": [
      "['Dolor', 'sed', 'amet', 'etincidunt', 'magnam']\n"
     ]
    }
   ],
   "source": [
    "words = sentence.split(' ')\n",
    "print(words)"
   ]
  },
  {
   "cell_type": "markdown",
   "metadata": {},
   "source": [
    "Now that you know how to generate a random sentence (and split it into a list of words), create the *sentenceInsights* function in the cell below to answer the 6 questions mentioned earlier."
   ]
  },
  {
   "cell_type": "markdown",
   "metadata": {},
   "source": [
    "# Q1-How many words are in the sentence?"
   ]
  },
  {
   "cell_type": "code",
   "execution_count": 20,
   "metadata": {},
   "outputs": [
    {
     "data": {
      "text/plain": [
       "32"
      ]
     },
     "execution_count": 20,
     "metadata": {},
     "output_type": "execute_result"
    }
   ],
   "source": [
    "len(sentence)"
   ]
  },
  {
   "cell_type": "markdown",
   "metadata": {},
   "source": [
    "<b> method1\n",
    " <b>"
   ]
  },
  {
   "cell_type": "code",
   "execution_count": 21,
   "metadata": {},
   "outputs": [
    {
     "name": "stdout",
     "output_type": "stream",
     "text": [
      "5\n"
     ]
    }
   ],
   "source": [
    "import re\n",
    "\n",
    "res = len(re.findall(r'\\w+', sentence))\n",
    "print(res)"
   ]
  },
  {
   "cell_type": "markdown",
   "metadata": {},
   "source": [
    "<b>method2<b>"
   ]
  },
  {
   "cell_type": "code",
   "execution_count": 22,
   "metadata": {},
   "outputs": [
    {
     "name": "stdout",
     "output_type": "stream",
     "text": [
      "The number of words in string are :  5\n"
     ]
    }
   ],
   "source": [
    "res = len(sentence.split())\n",
    "# total no of words\n",
    "print (\"The number of words in string are : \" ,(res))\n"
   ]
  },
  {
   "cell_type": "markdown",
   "metadata": {},
   "source": [
    "# Q 2- Find the last word from sentence"
   ]
  },
  {
   "cell_type": "code",
   "execution_count": 23,
   "metadata": {},
   "outputs": [
    {
     "name": "stdout",
     "output_type": "stream",
     "text": [
      "The number of words in string are :  ['Dolor', 'sed', 'amet', 'etincidunt', 'magnam']\n",
      "The last word in sentence is :  magnam\n"
     ]
    }
   ],
   "source": [
    "res = list(sentence.split())\n",
    "# total no of words\n",
    "print (\"The number of words in string are : \" ,(res))\n",
    "\n",
    "print (\"The last word in sentence is : \" ,(res[-1]))\n"
   ]
  },
  {
   "cell_type": "markdown",
   "metadata": {},
   "source": [
    "# Q3- What is the largest word(s) (most letters) in the sentence?\n"
   ]
  },
  {
   "cell_type": "code",
   "execution_count": 24,
   "metadata": {},
   "outputs": [
    {
     "name": "stdout",
     "output_type": "stream",
     "text": [
      "10\n"
     ]
    }
   ],
   "source": [
    "# just lenght\n",
    "longest = len(max(re.findall(r'\\S+',sentence), key = len))\n",
    "print(longest)"
   ]
  },
  {
   "cell_type": "code",
   "execution_count": 65,
   "metadata": {},
   "outputs": [
    {
     "name": "stdout",
     "output_type": "stream",
     "text": [
      "quiquia\n"
     ]
    }
   ],
   "source": [
    "# chracter itself\n",
    "def findMaximum(sentence):\n",
    "    li=sentence.split()\n",
    "    li=list(li)\n",
    "    op=[]\n",
    "    for i in li:\n",
    "        op.append(len(i))\n",
    "    l=op.index(max(op))\n",
    "    print (li[l])\n",
    "findMaximum(sentence)"
   ]
  },
  {
   "cell_type": "markdown",
   "metadata": {},
   "source": [
    "# Q4- What is the Smallest word(s) (less letters) in the sentence?"
   ]
  },
  {
   "cell_type": "code",
   "execution_count": 66,
   "metadata": {},
   "outputs": [
    {
     "name": "stdout",
     "output_type": "stream",
     "text": [
      "Ut\n"
     ]
    }
   ],
   "source": [
    "def findMinimum(sentence):\n",
    "    li=sentence.split()\n",
    "    li=list(li)\n",
    "    op=[]\n",
    "    for i in li:\n",
    "        op.append(len(i))\n",
    "    l=op.index(min(op))\n",
    "    print (li[l])\n",
    "findMinimum(sentence)"
   ]
  },
  {
   "cell_type": "markdown",
   "metadata": {},
   "source": [
    "# Q5- Which word(s) have 3 or more vowels?"
   ]
  },
  {
   "cell_type": "code",
   "execution_count": 27,
   "metadata": {},
   "outputs": [
    {
     "name": "stdout",
     "output_type": "stream",
     "text": [
      "['Dolor', 'sed', 'amet', 'etincidunt', 'magnam']\n"
     ]
    }
   ],
   "source": [
    "vo=list(['a,e,i,o,u'])\n",
    "print(words)\n",
    "vo\n",
    "sum=0"
   ]
  },
  {
   "cell_type": "code",
   "execution_count": 28,
   "metadata": {},
   "outputs": [
    {
     "name": "stdout",
     "output_type": "stream",
     "text": [
      "0\n"
     ]
    }
   ],
   "source": [
    "for i in words:\n",
    "    if vo==i:\n",
    "        sum=sum+i\n",
    "        \n",
    "        \n",
    "print(sum)    "
   ]
  },
  {
   "cell_type": "code",
   "execution_count": 71,
   "metadata": {},
   "outputs": [
    {
     "name": "stdout",
     "output_type": "stream",
     "text": [
      "['Dolor', 'sed', 'amet', 'etincidunt', 'magnam']\n",
      "['a', 'e', 'i', 'o', 'u']\n"
     ]
    }
   ],
   "source": [
    "print(words)\n",
    "vowel=['a','e','i','o','u']\n",
    "print(vowel)"
   ]
  },
  {
   "cell_type": "markdown",
   "metadata": {},
   "source": [
    "# Q6- What is the average word size in the sentence?"
   ]
  },
  {
   "cell_type": "code",
   "execution_count": 53,
   "metadata": {},
   "outputs": [
    {
     "name": "stdout",
     "output_type": "stream",
     "text": [
      "This program will calculate the average word length in a sentence\n",
      "In the sentence ' Dolor sed amet etincidunt magnam ', the average word length is 5.6 letters.\n"
     ]
    }
   ],
   "source": [
    "\n",
    "def main():\n",
    "    print (\"This program will calculate the average word length in a sentence\")\n",
    "    print\n",
    "    s =sentence\n",
    "    words = sentence.split()\n",
    "    wordCount = len(words)\n",
    "    sum = 0\n",
    "    for word in words:\n",
    "        ch = len(word)\n",
    "        sum = sum + ch\n",
    "    avg = sum / wordCount\n",
    "    if avg is 1:\n",
    "        print (\"In the sentence '\", s,\"', the average word length is\", avg,\"letter.\")\n",
    "    else:\n",
    "        print( \"In the sentence '\", s,\"', the average word length is\", avg,\"letters.\")\n",
    "main()\n"
   ]
  },
  {
   "cell_type": "code",
   "execution_count": 75,
   "metadata": {},
   "outputs": [],
   "source": [
    "def sentenceInsights(sentence):\n",
    "    '''\n",
    "    EXAMPLE INPUT:\n",
    "         Sed dolor numquam dolorem eius non modi quisquam.\n",
    "         \n",
    "    PRINT OUTPUT\n",
    "        Analysis on the sentence: Sed dolor numquam dolorem eius non modi quisquam.\n",
    "        Number of words : 8\n",
    "        Last word : quisquam\n",
    "        Largest word(s) : ['quisquam'] (8 letters)\n",
    "        Smallest word(s) : ['sed','non'] (3 letters)\n",
    "        Words with 3 or more vowels: ['numquam','dolorem','eius','quisquam'] (4 words)\n",
    "        Average word size: 5 letters\n",
    " \n",
    "    '''\n",
    "    print(\"1\")\n",
    "    res = len(sentence.split())\n",
    "    # total no of words\n",
    "    print (\"The number of words in string are : \" ,(res))\n",
    "    print(\"1 method 2\")\n",
    "    res = list(sentence.split())\n",
    "    # total no of words\n",
    "    print (\"The number of words in string are : \" ,(res))\n",
    "    \n",
    "    print(\"Ans 2\")\n",
    "    \n",
    "    print (\"The last word in sentence is : \" ,(res[-1]))\n",
    "    \n",
    "    print(\"Ans 3\")\n",
    "    \n",
    "   # chracter itself\n",
    "    def findMaximum(sentence):\n",
    "        li=sentence.split()\n",
    "        li=list(li)\n",
    "        op=[]\n",
    "        for i in li:\n",
    "            op.append(len(i))\n",
    "        l=op.index(max(op))\n",
    "        print (\"Maximum Chracter in Sentence is\",li[l])\n",
    "    findMaximum(sentence)\n",
    "    \n",
    "    print(\"Ans 4\")\n",
    "    \n",
    "    def findMinimum(sentence):\n",
    "        li=sentence.split()\n",
    "        li=list(li)\n",
    "        op=[]\n",
    "        for i in li:\n",
    "            op.append(len(i))\n",
    "        l=op.index(min(op))\n",
    "        print (\"Minimum Chracter in Sentence is\",li[l])\n",
    "    findMinimum(sentence)\n",
    "    \n",
    "    print(\" Ans 5\")\n",
    "    \n",
    "    vo=list(['a,e,i,o,u'])\n",
    "    print(words)\n",
    "    vo\n",
    "\n",
    "    sum=0\n",
    "    for i in words:\n",
    "        if vo==i:\n",
    "            sum=sum+i\n",
    "        \n",
    "        \n",
    "    print(sum)  \n",
    "    \n",
    "    print(\"Ans 6\")\n",
    "        \n",
    "    def main():\n",
    "        print (\"This program will calculate the average word length in a sentence\")\n",
    "        print\n",
    "        s =sentence\n",
    "        words = sentence.split()\n",
    "        wordCount = len(words)\n",
    "        sum = 0\n",
    "        for word in words:\n",
    "            ch = len(word)\n",
    "            sum = sum + ch\n",
    "            avg = sum / wordCount\n",
    "        if avg is 1:\n",
    "            print (\"In the sentence '\", s,\"', the average word length is\", avg,\"letter.\")\n",
    "        else:\n",
    "            print( \"In the sentence '\", s,\"', the average word length is\", avg,\"letters.\")\n",
    "    main()\n",
    "\n",
    "\n",
    "    \n",
    "\n",
    "\n",
    "    #INSERT CODE HERE to generate the desired functionality. \n",
    "    # Note that the print output must be generated in this function so there will be no return statement for this function\n",
    "    \n",
    "    \n",
    "    "
   ]
  },
  {
   "cell_type": "markdown",
   "metadata": {},
   "source": [
    "Test your function using the cell below\n"
   ]
  },
  {
   "cell_type": "code",
   "execution_count": 76,
   "metadata": {},
   "outputs": [
    {
     "name": "stdout",
     "output_type": "stream",
     "text": [
      "1\n",
      "The number of words in string are :  7\n",
      "1 method 2\n",
      "The number of words in string are :  ['Numquam', 'magnam', 'dolor', 'aliquam', 'non', 'est', 'porro.']\n",
      "Ans 2\n",
      "The last word in sentence is :  porro.\n",
      "Ans 3\n",
      "Maximum Chracter in Sentence is Numquam\n",
      "Ans 4\n",
      "Minimum Chracter in Sentence is non\n",
      " Ans 5\n",
      "['Dolor', 'sed', 'amet', 'etincidunt', 'magnam']\n",
      "0\n",
      "Ans 6\n",
      "This program will calculate the average word length in a sentence\n",
      "In the sentence ' Numquam magnam dolor aliquam non est porro. ', the average word length is 5.285714285714286 letters.\n"
     ]
    }
   ],
   "source": [
    "sentence = lorem.sentence()\n",
    "sentenceInsights(sentence)"
   ]
  },
  {
   "cell_type": "markdown",
   "metadata": {},
   "source": [
    "**Well Done!** You have reached the end of the assessible material for this week's lab. \n",
    "If you would like to challenge yourself, try to use the *sentenceInsights* function on a randomly generated pararaph. To generate the paragraph, use lorem.paragraph()\n",
    "\n",
    "*Hints:* \n",
    "* Split the paragraph into individual sentences,\n",
    "* Use the *strip* function to remove any white spaces in the sentence,\n",
    "* Pass each sentence to the *sentenceInsights* function using a for loop."
   ]
  },
  {
   "cell_type": "code",
   "execution_count": null,
   "metadata": {},
   "outputs": [],
   "source": [
    "paragraph  = lorem.paragraph()\n",
    "print(paragraph)\n"
   ]
  },
  {
   "cell_type": "code",
   "execution_count": null,
   "metadata": {},
   "outputs": [],
   "source": []
  }
 ],
 "metadata": {
  "kernelspec": {
   "display_name": "Python 3",
   "language": "python",
   "name": "python3"
  },
  "language_info": {
   "codemirror_mode": {
    "name": "ipython",
    "version": 3
   },
   "file_extension": ".py",
   "mimetype": "text/x-python",
   "name": "python",
   "nbconvert_exporter": "python",
   "pygments_lexer": "ipython3",
   "version": "3.7.4"
  }
 },
 "nbformat": 4,
 "nbformat_minor": 2
}
