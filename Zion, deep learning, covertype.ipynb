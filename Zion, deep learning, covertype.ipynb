{
 "cells": [
  {
   "cell_type": "markdown",
   "metadata": {},
   "source": [
    "<h1> FeedForwad network Using tensorflow and keras tensorflow for covertype Dataset <h1>"
   ]
  },
  {
   "cell_type": "code",
   "execution_count": 1,
   "metadata": {},
   "outputs": [],
   "source": [
    "#importing  imp librairies\n",
    "import pandas as pd\n",
    "import numpy as np"
   ]
  },
  {
   "cell_type": "markdown",
   "metadata": {},
   "source": [
    "# Data Explore"
   ]
  },
  {
   "cell_type": "code",
   "execution_count": 2,
   "metadata": {},
   "outputs": [],
   "source": [
    "# importing data\n",
    "covtype = pd.read_csv(\"covtype.csv\", sep=\",\")\n",
    "covtype = covtype.reindex(\n",
    "np.random.permutation(covtype.index)) # to sep by ',' and in correct column form"
   ]
  },
  {
   "cell_type": "code",
   "execution_count": 3,
   "metadata": {},
   "outputs": [
    {
     "data": {
      "text/html": [
       "<div>\n",
       "<style scoped>\n",
       "    .dataframe tbody tr th:only-of-type {\n",
       "        vertical-align: middle;\n",
       "    }\n",
       "\n",
       "    .dataframe tbody tr th {\n",
       "        vertical-align: top;\n",
       "    }\n",
       "\n",
       "    .dataframe thead th {\n",
       "        text-align: right;\n",
       "    }\n",
       "</style>\n",
       "<table border=\"1\" class=\"dataframe\">\n",
       "  <thead>\n",
       "    <tr style=\"text-align: right;\">\n",
       "      <th></th>\n",
       "      <th>Elevation</th>\n",
       "      <th>Aspect</th>\n",
       "      <th>Slope</th>\n",
       "      <th>Horizontal_Distance_To_Hydrology</th>\n",
       "      <th>Vertical_Distance_To_Hydrology</th>\n",
       "      <th>Horizontal_Distance_To_Roadways</th>\n",
       "      <th>Hillshade_9am</th>\n",
       "      <th>Hillshade_Noon</th>\n",
       "      <th>Hillshade_3pm</th>\n",
       "      <th>Horizontal_Distance_To_Fire_Points</th>\n",
       "      <th>...</th>\n",
       "      <th>Soil_Type32</th>\n",
       "      <th>Soil_Type33</th>\n",
       "      <th>Soil_Type34</th>\n",
       "      <th>Soil_Type35</th>\n",
       "      <th>Soil_Type36</th>\n",
       "      <th>Soil_Type37</th>\n",
       "      <th>Soil_Type38</th>\n",
       "      <th>Soil_Type39</th>\n",
       "      <th>Soil_Type40</th>\n",
       "      <th>Cover_Type</th>\n",
       "    </tr>\n",
       "  </thead>\n",
       "  <tbody>\n",
       "    <tr>\n",
       "      <td>224657</td>\n",
       "      <td>2944</td>\n",
       "      <td>45</td>\n",
       "      <td>1</td>\n",
       "      <td>323</td>\n",
       "      <td>97</td>\n",
       "      <td>1725</td>\n",
       "      <td>219</td>\n",
       "      <td>235</td>\n",
       "      <td>153</td>\n",
       "      <td>2491</td>\n",
       "      <td>...</td>\n",
       "      <td>1</td>\n",
       "      <td>0</td>\n",
       "      <td>0</td>\n",
       "      <td>0</td>\n",
       "      <td>0</td>\n",
       "      <td>0</td>\n",
       "      <td>0</td>\n",
       "      <td>0</td>\n",
       "      <td>0</td>\n",
       "      <td>2</td>\n",
       "    </tr>\n",
       "    <tr>\n",
       "      <td>296135</td>\n",
       "      <td>3079</td>\n",
       "      <td>82</td>\n",
       "      <td>30</td>\n",
       "      <td>323</td>\n",
       "      <td>-25</td>\n",
       "      <td>752</td>\n",
       "      <td>245</td>\n",
       "      <td>174</td>\n",
       "      <td>38</td>\n",
       "      <td>1795</td>\n",
       "      <td>...</td>\n",
       "      <td>0</td>\n",
       "      <td>0</td>\n",
       "      <td>0</td>\n",
       "      <td>0</td>\n",
       "      <td>0</td>\n",
       "      <td>0</td>\n",
       "      <td>0</td>\n",
       "      <td>0</td>\n",
       "      <td>0</td>\n",
       "      <td>2</td>\n",
       "    </tr>\n",
       "    <tr>\n",
       "      <td>159755</td>\n",
       "      <td>3159</td>\n",
       "      <td>71</td>\n",
       "      <td>11</td>\n",
       "      <td>582</td>\n",
       "      <td>26</td>\n",
       "      <td>5526</td>\n",
       "      <td>232</td>\n",
       "      <td>219</td>\n",
       "      <td>118</td>\n",
       "      <td>1544</td>\n",
       "      <td>...</td>\n",
       "      <td>0</td>\n",
       "      <td>0</td>\n",
       "      <td>0</td>\n",
       "      <td>0</td>\n",
       "      <td>0</td>\n",
       "      <td>0</td>\n",
       "      <td>0</td>\n",
       "      <td>0</td>\n",
       "      <td>0</td>\n",
       "      <td>1</td>\n",
       "    </tr>\n",
       "    <tr>\n",
       "      <td>17484</td>\n",
       "      <td>2614</td>\n",
       "      <td>83</td>\n",
       "      <td>6</td>\n",
       "      <td>30</td>\n",
       "      <td>2</td>\n",
       "      <td>644</td>\n",
       "      <td>229</td>\n",
       "      <td>230</td>\n",
       "      <td>135</td>\n",
       "      <td>6017</td>\n",
       "      <td>...</td>\n",
       "      <td>0</td>\n",
       "      <td>0</td>\n",
       "      <td>0</td>\n",
       "      <td>0</td>\n",
       "      <td>0</td>\n",
       "      <td>0</td>\n",
       "      <td>0</td>\n",
       "      <td>0</td>\n",
       "      <td>0</td>\n",
       "      <td>2</td>\n",
       "    </tr>\n",
       "    <tr>\n",
       "      <td>286918</td>\n",
       "      <td>2384</td>\n",
       "      <td>117</td>\n",
       "      <td>25</td>\n",
       "      <td>108</td>\n",
       "      <td>52</td>\n",
       "      <td>201</td>\n",
       "      <td>253</td>\n",
       "      <td>207</td>\n",
       "      <td>66</td>\n",
       "      <td>674</td>\n",
       "      <td>...</td>\n",
       "      <td>0</td>\n",
       "      <td>0</td>\n",
       "      <td>0</td>\n",
       "      <td>0</td>\n",
       "      <td>0</td>\n",
       "      <td>0</td>\n",
       "      <td>0</td>\n",
       "      <td>0</td>\n",
       "      <td>0</td>\n",
       "      <td>3</td>\n",
       "    </tr>\n",
       "  </tbody>\n",
       "</table>\n",
       "<p>5 rows × 55 columns</p>\n",
       "</div>"
      ],
      "text/plain": [
       "        Elevation  Aspect  Slope  Horizontal_Distance_To_Hydrology  \\\n",
       "224657       2944      45      1                               323   \n",
       "296135       3079      82     30                               323   \n",
       "159755       3159      71     11                               582   \n",
       "17484        2614      83      6                                30   \n",
       "286918       2384     117     25                               108   \n",
       "\n",
       "        Vertical_Distance_To_Hydrology  Horizontal_Distance_To_Roadways  \\\n",
       "224657                              97                             1725   \n",
       "296135                             -25                              752   \n",
       "159755                              26                             5526   \n",
       "17484                                2                              644   \n",
       "286918                              52                              201   \n",
       "\n",
       "        Hillshade_9am  Hillshade_Noon  Hillshade_3pm  \\\n",
       "224657            219             235            153   \n",
       "296135            245             174             38   \n",
       "159755            232             219            118   \n",
       "17484             229             230            135   \n",
       "286918            253             207             66   \n",
       "\n",
       "        Horizontal_Distance_To_Fire_Points  ...  Soil_Type32  Soil_Type33  \\\n",
       "224657                                2491  ...            1            0   \n",
       "296135                                1795  ...            0            0   \n",
       "159755                                1544  ...            0            0   \n",
       "17484                                 6017  ...            0            0   \n",
       "286918                                 674  ...            0            0   \n",
       "\n",
       "        Soil_Type34  Soil_Type35  Soil_Type36  Soil_Type37  Soil_Type38  \\\n",
       "224657            0            0            0            0            0   \n",
       "296135            0            0            0            0            0   \n",
       "159755            0            0            0            0            0   \n",
       "17484             0            0            0            0            0   \n",
       "286918            0            0            0            0            0   \n",
       "\n",
       "        Soil_Type39  Soil_Type40  Cover_Type  \n",
       "224657            0            0           2  \n",
       "296135            0            0           2  \n",
       "159755            0            0           1  \n",
       "17484             0            0           2  \n",
       "286918            0            0           3  \n",
       "\n",
       "[5 rows x 55 columns]"
      ]
     },
     "execution_count": 3,
     "metadata": {},
     "output_type": "execute_result"
    }
   ],
   "source": [
    "covtype.head() # see top 5 rows"
   ]
  },
  {
   "cell_type": "code",
   "execution_count": 4,
   "metadata": {},
   "outputs": [
    {
     "data": {
      "text/html": [
       "<div>\n",
       "<style scoped>\n",
       "    .dataframe tbody tr th:only-of-type {\n",
       "        vertical-align: middle;\n",
       "    }\n",
       "\n",
       "    .dataframe tbody tr th {\n",
       "        vertical-align: top;\n",
       "    }\n",
       "\n",
       "    .dataframe thead th {\n",
       "        text-align: right;\n",
       "    }\n",
       "</style>\n",
       "<table border=\"1\" class=\"dataframe\">\n",
       "  <thead>\n",
       "    <tr style=\"text-align: right;\">\n",
       "      <th></th>\n",
       "      <th>Elevation</th>\n",
       "      <th>Aspect</th>\n",
       "      <th>Slope</th>\n",
       "      <th>Horizontal_Distance_To_Hydrology</th>\n",
       "      <th>Vertical_Distance_To_Hydrology</th>\n",
       "      <th>Horizontal_Distance_To_Roadways</th>\n",
       "      <th>Hillshade_9am</th>\n",
       "      <th>Hillshade_Noon</th>\n",
       "      <th>Hillshade_3pm</th>\n",
       "      <th>Horizontal_Distance_To_Fire_Points</th>\n",
       "      <th>...</th>\n",
       "      <th>Soil_Type32</th>\n",
       "      <th>Soil_Type33</th>\n",
       "      <th>Soil_Type34</th>\n",
       "      <th>Soil_Type35</th>\n",
       "      <th>Soil_Type36</th>\n",
       "      <th>Soil_Type37</th>\n",
       "      <th>Soil_Type38</th>\n",
       "      <th>Soil_Type39</th>\n",
       "      <th>Soil_Type40</th>\n",
       "      <th>Cover_Type</th>\n",
       "    </tr>\n",
       "  </thead>\n",
       "  <tbody>\n",
       "    <tr>\n",
       "      <td>489081</td>\n",
       "      <td>3211</td>\n",
       "      <td>319</td>\n",
       "      <td>10</td>\n",
       "      <td>150</td>\n",
       "      <td>32</td>\n",
       "      <td>914</td>\n",
       "      <td>194</td>\n",
       "      <td>231</td>\n",
       "      <td>177</td>\n",
       "      <td>741</td>\n",
       "      <td>...</td>\n",
       "      <td>0</td>\n",
       "      <td>0</td>\n",
       "      <td>0</td>\n",
       "      <td>0</td>\n",
       "      <td>0</td>\n",
       "      <td>0</td>\n",
       "      <td>0</td>\n",
       "      <td>0</td>\n",
       "      <td>0</td>\n",
       "      <td>1</td>\n",
       "    </tr>\n",
       "    <tr>\n",
       "      <td>498044</td>\n",
       "      <td>3130</td>\n",
       "      <td>140</td>\n",
       "      <td>16</td>\n",
       "      <td>153</td>\n",
       "      <td>13</td>\n",
       "      <td>577</td>\n",
       "      <td>242</td>\n",
       "      <td>234</td>\n",
       "      <td>116</td>\n",
       "      <td>1661</td>\n",
       "      <td>...</td>\n",
       "      <td>1</td>\n",
       "      <td>0</td>\n",
       "      <td>0</td>\n",
       "      <td>0</td>\n",
       "      <td>0</td>\n",
       "      <td>0</td>\n",
       "      <td>0</td>\n",
       "      <td>0</td>\n",
       "      <td>0</td>\n",
       "      <td>2</td>\n",
       "    </tr>\n",
       "    <tr>\n",
       "      <td>106246</td>\n",
       "      <td>3073</td>\n",
       "      <td>65</td>\n",
       "      <td>15</td>\n",
       "      <td>402</td>\n",
       "      <td>-3</td>\n",
       "      <td>3933</td>\n",
       "      <td>233</td>\n",
       "      <td>209</td>\n",
       "      <td>105</td>\n",
       "      <td>3586</td>\n",
       "      <td>...</td>\n",
       "      <td>0</td>\n",
       "      <td>0</td>\n",
       "      <td>0</td>\n",
       "      <td>0</td>\n",
       "      <td>0</td>\n",
       "      <td>0</td>\n",
       "      <td>0</td>\n",
       "      <td>0</td>\n",
       "      <td>0</td>\n",
       "      <td>2</td>\n",
       "    </tr>\n",
       "    <tr>\n",
       "      <td>148627</td>\n",
       "      <td>3044</td>\n",
       "      <td>75</td>\n",
       "      <td>9</td>\n",
       "      <td>60</td>\n",
       "      <td>9</td>\n",
       "      <td>4805</td>\n",
       "      <td>232</td>\n",
       "      <td>223</td>\n",
       "      <td>123</td>\n",
       "      <td>671</td>\n",
       "      <td>...</td>\n",
       "      <td>0</td>\n",
       "      <td>0</td>\n",
       "      <td>0</td>\n",
       "      <td>0</td>\n",
       "      <td>0</td>\n",
       "      <td>0</td>\n",
       "      <td>0</td>\n",
       "      <td>0</td>\n",
       "      <td>0</td>\n",
       "      <td>1</td>\n",
       "    </tr>\n",
       "    <tr>\n",
       "      <td>439364</td>\n",
       "      <td>2942</td>\n",
       "      <td>313</td>\n",
       "      <td>8</td>\n",
       "      <td>127</td>\n",
       "      <td>7</td>\n",
       "      <td>1926</td>\n",
       "      <td>198</td>\n",
       "      <td>234</td>\n",
       "      <td>175</td>\n",
       "      <td>808</td>\n",
       "      <td>...</td>\n",
       "      <td>0</td>\n",
       "      <td>0</td>\n",
       "      <td>0</td>\n",
       "      <td>0</td>\n",
       "      <td>0</td>\n",
       "      <td>0</td>\n",
       "      <td>0</td>\n",
       "      <td>0</td>\n",
       "      <td>0</td>\n",
       "      <td>2</td>\n",
       "    </tr>\n",
       "  </tbody>\n",
       "</table>\n",
       "<p>5 rows × 55 columns</p>\n",
       "</div>"
      ],
      "text/plain": [
       "        Elevation  Aspect  Slope  Horizontal_Distance_To_Hydrology  \\\n",
       "489081       3211     319     10                               150   \n",
       "498044       3130     140     16                               153   \n",
       "106246       3073      65     15                               402   \n",
       "148627       3044      75      9                                60   \n",
       "439364       2942     313      8                               127   \n",
       "\n",
       "        Vertical_Distance_To_Hydrology  Horizontal_Distance_To_Roadways  \\\n",
       "489081                              32                              914   \n",
       "498044                              13                              577   \n",
       "106246                              -3                             3933   \n",
       "148627                               9                             4805   \n",
       "439364                               7                             1926   \n",
       "\n",
       "        Hillshade_9am  Hillshade_Noon  Hillshade_3pm  \\\n",
       "489081            194             231            177   \n",
       "498044            242             234            116   \n",
       "106246            233             209            105   \n",
       "148627            232             223            123   \n",
       "439364            198             234            175   \n",
       "\n",
       "        Horizontal_Distance_To_Fire_Points  ...  Soil_Type32  Soil_Type33  \\\n",
       "489081                                 741  ...            0            0   \n",
       "498044                                1661  ...            1            0   \n",
       "106246                                3586  ...            0            0   \n",
       "148627                                 671  ...            0            0   \n",
       "439364                                 808  ...            0            0   \n",
       "\n",
       "        Soil_Type34  Soil_Type35  Soil_Type36  Soil_Type37  Soil_Type38  \\\n",
       "489081            0            0            0            0            0   \n",
       "498044            0            0            0            0            0   \n",
       "106246            0            0            0            0            0   \n",
       "148627            0            0            0            0            0   \n",
       "439364            0            0            0            0            0   \n",
       "\n",
       "        Soil_Type39  Soil_Type40  Cover_Type  \n",
       "489081            0            0           1  \n",
       "498044            0            0           2  \n",
       "106246            0            0           2  \n",
       "148627            0            0           1  \n",
       "439364            0            0           2  \n",
       "\n",
       "[5 rows x 55 columns]"
      ]
     },
     "execution_count": 4,
     "metadata": {},
     "output_type": "execute_result"
    }
   ],
   "source": [
    "covtype.tail()# see las 5 rows"
   ]
  },
  {
   "cell_type": "code",
   "execution_count": 5,
   "metadata": {},
   "outputs": [
    {
     "data": {
      "text/plain": [
       "Index(['Elevation', 'Aspect', 'Slope', 'Horizontal_Distance_To_Hydrology',\n",
       "       'Vertical_Distance_To_Hydrology', 'Horizontal_Distance_To_Roadways',\n",
       "       'Hillshade_9am', 'Hillshade_Noon', 'Hillshade_3pm',\n",
       "       'Horizontal_Distance_To_Fire_Points', 'Wilderness_Area1',\n",
       "       'Wilderness_Area2', 'Wilderness_Area3', 'Wilderness_Area4',\n",
       "       'Soil_Type1', 'Soil_Type2', 'Soil_Type3', 'Soil_Type4', 'Soil_Type5',\n",
       "       'Soil_Type6', 'Soil_Type7', 'Soil_Type8', 'Soil_Type9', 'Soil_Type10',\n",
       "       'Soil_Type11', 'Soil_Type12', 'Soil_Type13', 'Soil_Type14',\n",
       "       'Soil_Type15', 'Soil_Type16', 'Soil_Type17', 'Soil_Type18',\n",
       "       'Soil_Type19', 'Soil_Type20', 'Soil_Type21', 'Soil_Type22',\n",
       "       'Soil_Type23', 'Soil_Type24', 'Soil_Type25', 'Soil_Type26',\n",
       "       'Soil_Type27', 'Soil_Type28', 'Soil_Type29', 'Soil_Type30',\n",
       "       'Soil_Type31', 'Soil_Type32', 'Soil_Type33', 'Soil_Type34',\n",
       "       'Soil_Type35', 'Soil_Type36', 'Soil_Type37', 'Soil_Type38',\n",
       "       'Soil_Type39', 'Soil_Type40', 'Cover_Type'],\n",
       "      dtype='object')"
      ]
     },
     "execution_count": 5,
     "metadata": {},
     "output_type": "execute_result"
    }
   ],
   "source": [
    "covtype.columns# see all columns names"
   ]
  },
  {
   "cell_type": "code",
   "execution_count": 6,
   "metadata": {},
   "outputs": [
    {
     "data": {
      "text/plain": [
       "(581012, 55)"
      ]
     },
     "execution_count": 6,
     "metadata": {},
     "output_type": "execute_result"
    }
   ],
   "source": [
    "covtype.shape # see column and rows"
   ]
  },
  {
   "cell_type": "code",
   "execution_count": 7,
   "metadata": {},
   "outputs": [
    {
     "data": {
      "text/html": [
       "<div>\n",
       "<style scoped>\n",
       "    .dataframe tbody tr th:only-of-type {\n",
       "        vertical-align: middle;\n",
       "    }\n",
       "\n",
       "    .dataframe tbody tr th {\n",
       "        vertical-align: top;\n",
       "    }\n",
       "\n",
       "    .dataframe thead th {\n",
       "        text-align: right;\n",
       "    }\n",
       "</style>\n",
       "<table border=\"1\" class=\"dataframe\">\n",
       "  <thead>\n",
       "    <tr style=\"text-align: right;\">\n",
       "      <th></th>\n",
       "      <th>Elevation</th>\n",
       "      <th>Aspect</th>\n",
       "      <th>Slope</th>\n",
       "      <th>Horizontal_Distance_To_Hydrology</th>\n",
       "      <th>Vertical_Distance_To_Hydrology</th>\n",
       "      <th>Horizontal_Distance_To_Roadways</th>\n",
       "      <th>Hillshade_9am</th>\n",
       "      <th>Hillshade_Noon</th>\n",
       "      <th>Hillshade_3pm</th>\n",
       "      <th>Horizontal_Distance_To_Fire_Points</th>\n",
       "      <th>...</th>\n",
       "      <th>Soil_Type32</th>\n",
       "      <th>Soil_Type33</th>\n",
       "      <th>Soil_Type34</th>\n",
       "      <th>Soil_Type35</th>\n",
       "      <th>Soil_Type36</th>\n",
       "      <th>Soil_Type37</th>\n",
       "      <th>Soil_Type38</th>\n",
       "      <th>Soil_Type39</th>\n",
       "      <th>Soil_Type40</th>\n",
       "      <th>Cover_Type</th>\n",
       "    </tr>\n",
       "  </thead>\n",
       "  <tbody>\n",
       "    <tr>\n",
       "      <td>count</td>\n",
       "      <td>581012.000000</td>\n",
       "      <td>581012.000000</td>\n",
       "      <td>581012.000000</td>\n",
       "      <td>581012.000000</td>\n",
       "      <td>581012.000000</td>\n",
       "      <td>581012.000000</td>\n",
       "      <td>581012.000000</td>\n",
       "      <td>581012.000000</td>\n",
       "      <td>581012.000000</td>\n",
       "      <td>581012.000000</td>\n",
       "      <td>...</td>\n",
       "      <td>581012.000000</td>\n",
       "      <td>581012.000000</td>\n",
       "      <td>581012.000000</td>\n",
       "      <td>581012.000000</td>\n",
       "      <td>581012.000000</td>\n",
       "      <td>581012.000000</td>\n",
       "      <td>581012.000000</td>\n",
       "      <td>581012.000000</td>\n",
       "      <td>581012.000000</td>\n",
       "      <td>581012.000000</td>\n",
       "    </tr>\n",
       "    <tr>\n",
       "      <td>mean</td>\n",
       "      <td>2959.365301</td>\n",
       "      <td>155.656807</td>\n",
       "      <td>14.103704</td>\n",
       "      <td>269.428217</td>\n",
       "      <td>46.418855</td>\n",
       "      <td>2350.146611</td>\n",
       "      <td>212.146049</td>\n",
       "      <td>223.318716</td>\n",
       "      <td>142.528263</td>\n",
       "      <td>1980.291226</td>\n",
       "      <td>...</td>\n",
       "      <td>0.090392</td>\n",
       "      <td>0.077716</td>\n",
       "      <td>0.002773</td>\n",
       "      <td>0.003255</td>\n",
       "      <td>0.000205</td>\n",
       "      <td>0.000513</td>\n",
       "      <td>0.026803</td>\n",
       "      <td>0.023762</td>\n",
       "      <td>0.015060</td>\n",
       "      <td>2.051471</td>\n",
       "    </tr>\n",
       "    <tr>\n",
       "      <td>std</td>\n",
       "      <td>279.984734</td>\n",
       "      <td>111.913721</td>\n",
       "      <td>7.488242</td>\n",
       "      <td>212.549356</td>\n",
       "      <td>58.295232</td>\n",
       "      <td>1559.254870</td>\n",
       "      <td>26.769889</td>\n",
       "      <td>19.768697</td>\n",
       "      <td>38.274529</td>\n",
       "      <td>1324.195210</td>\n",
       "      <td>...</td>\n",
       "      <td>0.286743</td>\n",
       "      <td>0.267725</td>\n",
       "      <td>0.052584</td>\n",
       "      <td>0.056957</td>\n",
       "      <td>0.014310</td>\n",
       "      <td>0.022641</td>\n",
       "      <td>0.161508</td>\n",
       "      <td>0.152307</td>\n",
       "      <td>0.121791</td>\n",
       "      <td>1.396504</td>\n",
       "    </tr>\n",
       "    <tr>\n",
       "      <td>min</td>\n",
       "      <td>1859.000000</td>\n",
       "      <td>0.000000</td>\n",
       "      <td>0.000000</td>\n",
       "      <td>0.000000</td>\n",
       "      <td>-173.000000</td>\n",
       "      <td>0.000000</td>\n",
       "      <td>0.000000</td>\n",
       "      <td>0.000000</td>\n",
       "      <td>0.000000</td>\n",
       "      <td>0.000000</td>\n",
       "      <td>...</td>\n",
       "      <td>0.000000</td>\n",
       "      <td>0.000000</td>\n",
       "      <td>0.000000</td>\n",
       "      <td>0.000000</td>\n",
       "      <td>0.000000</td>\n",
       "      <td>0.000000</td>\n",
       "      <td>0.000000</td>\n",
       "      <td>0.000000</td>\n",
       "      <td>0.000000</td>\n",
       "      <td>1.000000</td>\n",
       "    </tr>\n",
       "    <tr>\n",
       "      <td>25%</td>\n",
       "      <td>2809.000000</td>\n",
       "      <td>58.000000</td>\n",
       "      <td>9.000000</td>\n",
       "      <td>108.000000</td>\n",
       "      <td>7.000000</td>\n",
       "      <td>1106.000000</td>\n",
       "      <td>198.000000</td>\n",
       "      <td>213.000000</td>\n",
       "      <td>119.000000</td>\n",
       "      <td>1024.000000</td>\n",
       "      <td>...</td>\n",
       "      <td>0.000000</td>\n",
       "      <td>0.000000</td>\n",
       "      <td>0.000000</td>\n",
       "      <td>0.000000</td>\n",
       "      <td>0.000000</td>\n",
       "      <td>0.000000</td>\n",
       "      <td>0.000000</td>\n",
       "      <td>0.000000</td>\n",
       "      <td>0.000000</td>\n",
       "      <td>1.000000</td>\n",
       "    </tr>\n",
       "    <tr>\n",
       "      <td>50%</td>\n",
       "      <td>2996.000000</td>\n",
       "      <td>127.000000</td>\n",
       "      <td>13.000000</td>\n",
       "      <td>218.000000</td>\n",
       "      <td>30.000000</td>\n",
       "      <td>1997.000000</td>\n",
       "      <td>218.000000</td>\n",
       "      <td>226.000000</td>\n",
       "      <td>143.000000</td>\n",
       "      <td>1710.000000</td>\n",
       "      <td>...</td>\n",
       "      <td>0.000000</td>\n",
       "      <td>0.000000</td>\n",
       "      <td>0.000000</td>\n",
       "      <td>0.000000</td>\n",
       "      <td>0.000000</td>\n",
       "      <td>0.000000</td>\n",
       "      <td>0.000000</td>\n",
       "      <td>0.000000</td>\n",
       "      <td>0.000000</td>\n",
       "      <td>2.000000</td>\n",
       "    </tr>\n",
       "    <tr>\n",
       "      <td>75%</td>\n",
       "      <td>3163.000000</td>\n",
       "      <td>260.000000</td>\n",
       "      <td>18.000000</td>\n",
       "      <td>384.000000</td>\n",
       "      <td>69.000000</td>\n",
       "      <td>3328.000000</td>\n",
       "      <td>231.000000</td>\n",
       "      <td>237.000000</td>\n",
       "      <td>168.000000</td>\n",
       "      <td>2550.000000</td>\n",
       "      <td>...</td>\n",
       "      <td>0.000000</td>\n",
       "      <td>0.000000</td>\n",
       "      <td>0.000000</td>\n",
       "      <td>0.000000</td>\n",
       "      <td>0.000000</td>\n",
       "      <td>0.000000</td>\n",
       "      <td>0.000000</td>\n",
       "      <td>0.000000</td>\n",
       "      <td>0.000000</td>\n",
       "      <td>2.000000</td>\n",
       "    </tr>\n",
       "    <tr>\n",
       "      <td>max</td>\n",
       "      <td>3858.000000</td>\n",
       "      <td>360.000000</td>\n",
       "      <td>66.000000</td>\n",
       "      <td>1397.000000</td>\n",
       "      <td>601.000000</td>\n",
       "      <td>7117.000000</td>\n",
       "      <td>254.000000</td>\n",
       "      <td>254.000000</td>\n",
       "      <td>254.000000</td>\n",
       "      <td>7173.000000</td>\n",
       "      <td>...</td>\n",
       "      <td>1.000000</td>\n",
       "      <td>1.000000</td>\n",
       "      <td>1.000000</td>\n",
       "      <td>1.000000</td>\n",
       "      <td>1.000000</td>\n",
       "      <td>1.000000</td>\n",
       "      <td>1.000000</td>\n",
       "      <td>1.000000</td>\n",
       "      <td>1.000000</td>\n",
       "      <td>7.000000</td>\n",
       "    </tr>\n",
       "  </tbody>\n",
       "</table>\n",
       "<p>8 rows × 55 columns</p>\n",
       "</div>"
      ],
      "text/plain": [
       "           Elevation         Aspect          Slope  \\\n",
       "count  581012.000000  581012.000000  581012.000000   \n",
       "mean     2959.365301     155.656807      14.103704   \n",
       "std       279.984734     111.913721       7.488242   \n",
       "min      1859.000000       0.000000       0.000000   \n",
       "25%      2809.000000      58.000000       9.000000   \n",
       "50%      2996.000000     127.000000      13.000000   \n",
       "75%      3163.000000     260.000000      18.000000   \n",
       "max      3858.000000     360.000000      66.000000   \n",
       "\n",
       "       Horizontal_Distance_To_Hydrology  Vertical_Distance_To_Hydrology  \\\n",
       "count                     581012.000000                   581012.000000   \n",
       "mean                         269.428217                       46.418855   \n",
       "std                          212.549356                       58.295232   \n",
       "min                            0.000000                     -173.000000   \n",
       "25%                          108.000000                        7.000000   \n",
       "50%                          218.000000                       30.000000   \n",
       "75%                          384.000000                       69.000000   \n",
       "max                         1397.000000                      601.000000   \n",
       "\n",
       "       Horizontal_Distance_To_Roadways  Hillshade_9am  Hillshade_Noon  \\\n",
       "count                    581012.000000  581012.000000   581012.000000   \n",
       "mean                       2350.146611     212.146049      223.318716   \n",
       "std                        1559.254870      26.769889       19.768697   \n",
       "min                           0.000000       0.000000        0.000000   \n",
       "25%                        1106.000000     198.000000      213.000000   \n",
       "50%                        1997.000000     218.000000      226.000000   \n",
       "75%                        3328.000000     231.000000      237.000000   \n",
       "max                        7117.000000     254.000000      254.000000   \n",
       "\n",
       "       Hillshade_3pm  Horizontal_Distance_To_Fire_Points  ...    Soil_Type32  \\\n",
       "count  581012.000000                       581012.000000  ...  581012.000000   \n",
       "mean      142.528263                         1980.291226  ...       0.090392   \n",
       "std        38.274529                         1324.195210  ...       0.286743   \n",
       "min         0.000000                            0.000000  ...       0.000000   \n",
       "25%       119.000000                         1024.000000  ...       0.000000   \n",
       "50%       143.000000                         1710.000000  ...       0.000000   \n",
       "75%       168.000000                         2550.000000  ...       0.000000   \n",
       "max       254.000000                         7173.000000  ...       1.000000   \n",
       "\n",
       "         Soil_Type33    Soil_Type34    Soil_Type35    Soil_Type36  \\\n",
       "count  581012.000000  581012.000000  581012.000000  581012.000000   \n",
       "mean        0.077716       0.002773       0.003255       0.000205   \n",
       "std         0.267725       0.052584       0.056957       0.014310   \n",
       "min         0.000000       0.000000       0.000000       0.000000   \n",
       "25%         0.000000       0.000000       0.000000       0.000000   \n",
       "50%         0.000000       0.000000       0.000000       0.000000   \n",
       "75%         0.000000       0.000000       0.000000       0.000000   \n",
       "max         1.000000       1.000000       1.000000       1.000000   \n",
       "\n",
       "         Soil_Type37    Soil_Type38    Soil_Type39    Soil_Type40  \\\n",
       "count  581012.000000  581012.000000  581012.000000  581012.000000   \n",
       "mean        0.000513       0.026803       0.023762       0.015060   \n",
       "std         0.022641       0.161508       0.152307       0.121791   \n",
       "min         0.000000       0.000000       0.000000       0.000000   \n",
       "25%         0.000000       0.000000       0.000000       0.000000   \n",
       "50%         0.000000       0.000000       0.000000       0.000000   \n",
       "75%         0.000000       0.000000       0.000000       0.000000   \n",
       "max         1.000000       1.000000       1.000000       1.000000   \n",
       "\n",
       "          Cover_Type  \n",
       "count  581012.000000  \n",
       "mean        2.051471  \n",
       "std         1.396504  \n",
       "min         1.000000  \n",
       "25%         1.000000  \n",
       "50%         2.000000  \n",
       "75%         2.000000  \n",
       "max         7.000000  \n",
       "\n",
       "[8 rows x 55 columns]"
      ]
     },
     "execution_count": 7,
     "metadata": {},
     "output_type": "execute_result"
    }
   ],
   "source": [
    "covtype.describe(include='all') # statistical describtion"
   ]
  },
  {
   "cell_type": "code",
   "execution_count": 11,
   "metadata": {},
   "outputs": [
    {
     "name": "stdout",
     "output_type": "stream",
     "text": [
      "Elevation                             0\n",
      "Aspect                                0\n",
      "Slope                                 0\n",
      "Horizontal_Distance_To_Hydrology      0\n",
      "Vertical_Distance_To_Hydrology        0\n",
      "Horizontal_Distance_To_Roadways       0\n",
      "Hillshade_9am                         0\n",
      "Hillshade_Noon                        0\n",
      "Hillshade_3pm                         0\n",
      "Horizontal_Distance_To_Fire_Points    0\n",
      "Wilderness_Area1                      0\n",
      "Wilderness_Area2                      0\n",
      "Wilderness_Area3                      0\n",
      "Wilderness_Area4                      0\n",
      "Soil_Type1                            0\n",
      "Soil_Type2                            0\n",
      "Soil_Type3                            0\n",
      "Soil_Type4                            0\n",
      "Soil_Type5                            0\n",
      "Soil_Type6                            0\n",
      "Soil_Type7                            0\n",
      "Soil_Type8                            0\n",
      "Soil_Type9                            0\n",
      "Soil_Type10                           0\n",
      "Soil_Type11                           0\n",
      "Soil_Type12                           0\n",
      "Soil_Type13                           0\n",
      "Soil_Type14                           0\n",
      "Soil_Type15                           0\n",
      "Soil_Type16                           0\n",
      "Soil_Type17                           0\n",
      "Soil_Type18                           0\n",
      "Soil_Type19                           0\n",
      "Soil_Type20                           0\n",
      "Soil_Type21                           0\n",
      "Soil_Type22                           0\n",
      "Soil_Type23                           0\n",
      "Soil_Type24                           0\n",
      "Soil_Type25                           0\n",
      "Soil_Type26                           0\n",
      "Soil_Type27                           0\n",
      "Soil_Type28                           0\n",
      "Soil_Type29                           0\n",
      "Soil_Type30                           0\n",
      "Soil_Type31                           0\n",
      "Soil_Type32                           0\n",
      "Soil_Type33                           0\n",
      "Soil_Type34                           0\n",
      "Soil_Type35                           0\n",
      "Soil_Type36                           0\n",
      "Soil_Type37                           0\n",
      "Soil_Type38                           0\n",
      "Soil_Type39                           0\n",
      "Soil_Type40                           0\n",
      "Cover_Type                            0\n",
      "dtype: int64\n"
     ]
    }
   ],
   "source": [
    "print (covtype.isnull().sum()) # see null values\n"
   ]
  },
  {
   "cell_type": "code",
   "execution_count": 12,
   "metadata": {},
   "outputs": [
    {
     "name": "stdout",
     "output_type": "stream",
     "text": [
      "<class 'pandas.core.frame.DataFrame'>\n",
      "Int64Index: 581012 entries, 224657 to 439364\n",
      "Data columns (total 55 columns):\n",
      "Elevation                             581012 non-null int64\n",
      "Aspect                                581012 non-null int64\n",
      "Slope                                 581012 non-null int64\n",
      "Horizontal_Distance_To_Hydrology      581012 non-null int64\n",
      "Vertical_Distance_To_Hydrology        581012 non-null int64\n",
      "Horizontal_Distance_To_Roadways       581012 non-null int64\n",
      "Hillshade_9am                         581012 non-null int64\n",
      "Hillshade_Noon                        581012 non-null int64\n",
      "Hillshade_3pm                         581012 non-null int64\n",
      "Horizontal_Distance_To_Fire_Points    581012 non-null int64\n",
      "Wilderness_Area1                      581012 non-null int64\n",
      "Wilderness_Area2                      581012 non-null int64\n",
      "Wilderness_Area3                      581012 non-null int64\n",
      "Wilderness_Area4                      581012 non-null int64\n",
      "Soil_Type1                            581012 non-null int64\n",
      "Soil_Type2                            581012 non-null int64\n",
      "Soil_Type3                            581012 non-null int64\n",
      "Soil_Type4                            581012 non-null int64\n",
      "Soil_Type5                            581012 non-null int64\n",
      "Soil_Type6                            581012 non-null int64\n",
      "Soil_Type7                            581012 non-null int64\n",
      "Soil_Type8                            581012 non-null int64\n",
      "Soil_Type9                            581012 non-null int64\n",
      "Soil_Type10                           581012 non-null int64\n",
      "Soil_Type11                           581012 non-null int64\n",
      "Soil_Type12                           581012 non-null int64\n",
      "Soil_Type13                           581012 non-null int64\n",
      "Soil_Type14                           581012 non-null int64\n",
      "Soil_Type15                           581012 non-null int64\n",
      "Soil_Type16                           581012 non-null int64\n",
      "Soil_Type17                           581012 non-null int64\n",
      "Soil_Type18                           581012 non-null int64\n",
      "Soil_Type19                           581012 non-null int64\n",
      "Soil_Type20                           581012 non-null int64\n",
      "Soil_Type21                           581012 non-null int64\n",
      "Soil_Type22                           581012 non-null int64\n",
      "Soil_Type23                           581012 non-null int64\n",
      "Soil_Type24                           581012 non-null int64\n",
      "Soil_Type25                           581012 non-null int64\n",
      "Soil_Type26                           581012 non-null int64\n",
      "Soil_Type27                           581012 non-null int64\n",
      "Soil_Type28                           581012 non-null int64\n",
      "Soil_Type29                           581012 non-null int64\n",
      "Soil_Type30                           581012 non-null int64\n",
      "Soil_Type31                           581012 non-null int64\n",
      "Soil_Type32                           581012 non-null int64\n",
      "Soil_Type33                           581012 non-null int64\n",
      "Soil_Type34                           581012 non-null int64\n",
      "Soil_Type35                           581012 non-null int64\n",
      "Soil_Type36                           581012 non-null int64\n",
      "Soil_Type37                           581012 non-null int64\n",
      "Soil_Type38                           581012 non-null int64\n",
      "Soil_Type39                           581012 non-null int64\n",
      "Soil_Type40                           581012 non-null int64\n",
      "Cover_Type                            581012 non-null int64\n",
      "dtypes: int64(55)\n",
      "memory usage: 248.2 MB\n"
     ]
    }
   ],
   "source": [
    "covtype.info()"
   ]
  },
  {
   "cell_type": "code",
   "execution_count": null,
   "metadata": {},
   "outputs": [],
   "source": [
    "# hence we have no null values, data is very clean , so we have to move towards algorithm and deep learning"
   ]
  },
  {
   "cell_type": "markdown",
   "metadata": {},
   "source": [
    "# TensorFlow with Keras Api"
   ]
  },
  {
   "cell_type": "code",
   "execution_count": 13,
   "metadata": {},
   "outputs": [
    {
     "data": {
      "text/plain": [
       "array([2, 1, 3, 5, 6, 7, 4], dtype=int64)"
      ]
     },
     "execution_count": 13,
     "metadata": {},
     "output_type": "execute_result"
    }
   ],
   "source": [
    "covtype['Cover_Type'].unique() # see unique attributes in covertype column"
   ]
  },
  {
   "cell_type": "markdown",
   "metadata": {},
   "source": [
    "<b> as we have to use cover_type column to classify whether having seven different values, must have to convert them in categorize way <b>"
   ]
  },
  {
   "cell_type": "code",
   "execution_count": 14,
   "metadata": {},
   "outputs": [],
   "source": [
    "covtype['Cover_Type']=covtype['Cover_Type'].astype('category') # convert to categorical datatype for multiple output prediction"
   ]
  },
  {
   "cell_type": "code",
   "execution_count": 15,
   "metadata": {},
   "outputs": [
    {
     "data": {
      "text/plain": [
       "CategoricalDtype(categories=[1, 2, 3, 4, 5, 6, 7], ordered=False)"
      ]
     },
     "execution_count": 15,
     "metadata": {},
     "output_type": "execute_result"
    }
   ],
   "source": [
    "covtype['Cover_Type'].dtype"
   ]
  },
  {
   "cell_type": "code",
   "execution_count": null,
   "metadata": {},
   "outputs": [],
   "source": [
    "#Data divide in x, y , x will be independent variables and y the output/predicted variable"
   ]
  },
  {
   "cell_type": "code",
   "execution_count": 16,
   "metadata": {},
   "outputs": [
    {
     "data": {
      "text/html": [
       "<div>\n",
       "<style scoped>\n",
       "    .dataframe tbody tr th:only-of-type {\n",
       "        vertical-align: middle;\n",
       "    }\n",
       "\n",
       "    .dataframe tbody tr th {\n",
       "        vertical-align: top;\n",
       "    }\n",
       "\n",
       "    .dataframe thead th {\n",
       "        text-align: right;\n",
       "    }\n",
       "</style>\n",
       "<table border=\"1\" class=\"dataframe\">\n",
       "  <thead>\n",
       "    <tr style=\"text-align: right;\">\n",
       "      <th></th>\n",
       "      <th>Elevation</th>\n",
       "      <th>Aspect</th>\n",
       "      <th>Slope</th>\n",
       "      <th>Horizontal_Distance_To_Hydrology</th>\n",
       "      <th>Vertical_Distance_To_Hydrology</th>\n",
       "      <th>Horizontal_Distance_To_Roadways</th>\n",
       "      <th>Hillshade_9am</th>\n",
       "      <th>Hillshade_Noon</th>\n",
       "      <th>Hillshade_3pm</th>\n",
       "      <th>Horizontal_Distance_To_Fire_Points</th>\n",
       "      <th>...</th>\n",
       "      <th>Soil_Type31</th>\n",
       "      <th>Soil_Type32</th>\n",
       "      <th>Soil_Type33</th>\n",
       "      <th>Soil_Type34</th>\n",
       "      <th>Soil_Type35</th>\n",
       "      <th>Soil_Type36</th>\n",
       "      <th>Soil_Type37</th>\n",
       "      <th>Soil_Type38</th>\n",
       "      <th>Soil_Type39</th>\n",
       "      <th>Soil_Type40</th>\n",
       "    </tr>\n",
       "  </thead>\n",
       "  <tbody>\n",
       "    <tr>\n",
       "      <td>224657</td>\n",
       "      <td>2944</td>\n",
       "      <td>45</td>\n",
       "      <td>1</td>\n",
       "      <td>323</td>\n",
       "      <td>97</td>\n",
       "      <td>1725</td>\n",
       "      <td>219</td>\n",
       "      <td>235</td>\n",
       "      <td>153</td>\n",
       "      <td>2491</td>\n",
       "      <td>...</td>\n",
       "      <td>0</td>\n",
       "      <td>1</td>\n",
       "      <td>0</td>\n",
       "      <td>0</td>\n",
       "      <td>0</td>\n",
       "      <td>0</td>\n",
       "      <td>0</td>\n",
       "      <td>0</td>\n",
       "      <td>0</td>\n",
       "      <td>0</td>\n",
       "    </tr>\n",
       "    <tr>\n",
       "      <td>296135</td>\n",
       "      <td>3079</td>\n",
       "      <td>82</td>\n",
       "      <td>30</td>\n",
       "      <td>323</td>\n",
       "      <td>-25</td>\n",
       "      <td>752</td>\n",
       "      <td>245</td>\n",
       "      <td>174</td>\n",
       "      <td>38</td>\n",
       "      <td>1795</td>\n",
       "      <td>...</td>\n",
       "      <td>0</td>\n",
       "      <td>0</td>\n",
       "      <td>0</td>\n",
       "      <td>0</td>\n",
       "      <td>0</td>\n",
       "      <td>0</td>\n",
       "      <td>0</td>\n",
       "      <td>0</td>\n",
       "      <td>0</td>\n",
       "      <td>0</td>\n",
       "    </tr>\n",
       "    <tr>\n",
       "      <td>159755</td>\n",
       "      <td>3159</td>\n",
       "      <td>71</td>\n",
       "      <td>11</td>\n",
       "      <td>582</td>\n",
       "      <td>26</td>\n",
       "      <td>5526</td>\n",
       "      <td>232</td>\n",
       "      <td>219</td>\n",
       "      <td>118</td>\n",
       "      <td>1544</td>\n",
       "      <td>...</td>\n",
       "      <td>0</td>\n",
       "      <td>0</td>\n",
       "      <td>0</td>\n",
       "      <td>0</td>\n",
       "      <td>0</td>\n",
       "      <td>0</td>\n",
       "      <td>0</td>\n",
       "      <td>0</td>\n",
       "      <td>0</td>\n",
       "      <td>0</td>\n",
       "    </tr>\n",
       "    <tr>\n",
       "      <td>17484</td>\n",
       "      <td>2614</td>\n",
       "      <td>83</td>\n",
       "      <td>6</td>\n",
       "      <td>30</td>\n",
       "      <td>2</td>\n",
       "      <td>644</td>\n",
       "      <td>229</td>\n",
       "      <td>230</td>\n",
       "      <td>135</td>\n",
       "      <td>6017</td>\n",
       "      <td>...</td>\n",
       "      <td>0</td>\n",
       "      <td>0</td>\n",
       "      <td>0</td>\n",
       "      <td>0</td>\n",
       "      <td>0</td>\n",
       "      <td>0</td>\n",
       "      <td>0</td>\n",
       "      <td>0</td>\n",
       "      <td>0</td>\n",
       "      <td>0</td>\n",
       "    </tr>\n",
       "    <tr>\n",
       "      <td>286918</td>\n",
       "      <td>2384</td>\n",
       "      <td>117</td>\n",
       "      <td>25</td>\n",
       "      <td>108</td>\n",
       "      <td>52</td>\n",
       "      <td>201</td>\n",
       "      <td>253</td>\n",
       "      <td>207</td>\n",
       "      <td>66</td>\n",
       "      <td>674</td>\n",
       "      <td>...</td>\n",
       "      <td>0</td>\n",
       "      <td>0</td>\n",
       "      <td>0</td>\n",
       "      <td>0</td>\n",
       "      <td>0</td>\n",
       "      <td>0</td>\n",
       "      <td>0</td>\n",
       "      <td>0</td>\n",
       "      <td>0</td>\n",
       "      <td>0</td>\n",
       "    </tr>\n",
       "  </tbody>\n",
       "</table>\n",
       "<p>5 rows × 54 columns</p>\n",
       "</div>"
      ],
      "text/plain": [
       "        Elevation  Aspect  Slope  Horizontal_Distance_To_Hydrology  \\\n",
       "224657       2944      45      1                               323   \n",
       "296135       3079      82     30                               323   \n",
       "159755       3159      71     11                               582   \n",
       "17484        2614      83      6                                30   \n",
       "286918       2384     117     25                               108   \n",
       "\n",
       "        Vertical_Distance_To_Hydrology  Horizontal_Distance_To_Roadways  \\\n",
       "224657                              97                             1725   \n",
       "296135                             -25                              752   \n",
       "159755                              26                             5526   \n",
       "17484                                2                              644   \n",
       "286918                              52                              201   \n",
       "\n",
       "        Hillshade_9am  Hillshade_Noon  Hillshade_3pm  \\\n",
       "224657            219             235            153   \n",
       "296135            245             174             38   \n",
       "159755            232             219            118   \n",
       "17484             229             230            135   \n",
       "286918            253             207             66   \n",
       "\n",
       "        Horizontal_Distance_To_Fire_Points  ...  Soil_Type31  Soil_Type32  \\\n",
       "224657                                2491  ...            0            1   \n",
       "296135                                1795  ...            0            0   \n",
       "159755                                1544  ...            0            0   \n",
       "17484                                 6017  ...            0            0   \n",
       "286918                                 674  ...            0            0   \n",
       "\n",
       "        Soil_Type33  Soil_Type34  Soil_Type35  Soil_Type36  Soil_Type37  \\\n",
       "224657            0            0            0            0            0   \n",
       "296135            0            0            0            0            0   \n",
       "159755            0            0            0            0            0   \n",
       "17484             0            0            0            0            0   \n",
       "286918            0            0            0            0            0   \n",
       "\n",
       "        Soil_Type38  Soil_Type39  Soil_Type40  \n",
       "224657            0            0            0  \n",
       "296135            0            0            0  \n",
       "159755            0            0            0  \n",
       "17484             0            0            0  \n",
       "286918            0            0            0  \n",
       "\n",
       "[5 rows x 54 columns]"
      ]
     },
     "execution_count": 16,
     "metadata": {},
     "output_type": "execute_result"
    }
   ],
   "source": [
    "X = covtype.loc[:,'Elevation':'Soil_Type40'] #select first 54 columns\n",
    "X.head()\n"
   ]
  },
  {
   "cell_type": "code",
   "execution_count": 17,
   "metadata": {},
   "outputs": [
    {
     "data": {
      "text/plain": [
       "489081    1\n",
       "498044    2\n",
       "106246    2\n",
       "148627    1\n",
       "439364    2\n",
       "Name: Cover_Type, dtype: category\n",
       "Categories (7, int64): [1, 2, 3, 4, 5, 6, 7]"
      ]
     },
     "execution_count": 17,
     "metadata": {},
     "output_type": "execute_result"
    }
   ],
   "source": [
    "Y=covtype.Cover_Type\n",
    "Y.tail() # y=covertype# dependent column"
   ]
  },
  {
   "cell_type": "markdown",
   "metadata": {},
   "source": [
    "# One hot encoding\n",
    "<b> must have to convert in one hot encoding for easiness  </b>"
   ]
  },
  {
   "cell_type": "code",
   "execution_count": 18,
   "metadata": {},
   "outputs": [],
   "source": [
    "dummies= pd.get_dummies(Y)\n"
   ]
  },
  {
   "cell_type": "code",
   "execution_count": 19,
   "metadata": {},
   "outputs": [
    {
     "data": {
      "text/plain": [
       "224657    2\n",
       "159755    1\n",
       "286918    3\n",
       "362039    5\n",
       "238830    6\n",
       "473376    7\n",
       "3378      4\n",
       "Name: Cover_Type, dtype: category\n",
       "Categories (7, int64): [1, 2, 3, 4, 5, 6, 7]"
      ]
     },
     "execution_count": 19,
     "metadata": {},
     "output_type": "execute_result"
    }
   ],
   "source": [
    "Y.drop_duplicates()\n",
    "# just see total once attributes, actually not doing so"
   ]
  },
  {
   "cell_type": "code",
   "execution_count": 20,
   "metadata": {},
   "outputs": [
    {
     "data": {
      "text/html": [
       "<div>\n",
       "<style scoped>\n",
       "    .dataframe tbody tr th:only-of-type {\n",
       "        vertical-align: middle;\n",
       "    }\n",
       "\n",
       "    .dataframe tbody tr th {\n",
       "        vertical-align: top;\n",
       "    }\n",
       "\n",
       "    .dataframe thead th {\n",
       "        text-align: right;\n",
       "    }\n",
       "</style>\n",
       "<table border=\"1\" class=\"dataframe\">\n",
       "  <thead>\n",
       "    <tr style=\"text-align: right;\">\n",
       "      <th>Cover_Type</th>\n",
       "      <th>1</th>\n",
       "      <th>2</th>\n",
       "      <th>3</th>\n",
       "      <th>4</th>\n",
       "      <th>5</th>\n",
       "      <th>6</th>\n",
       "      <th>7</th>\n",
       "    </tr>\n",
       "  </thead>\n",
       "  <tbody>\n",
       "    <tr>\n",
       "      <td>489081</td>\n",
       "      <td>1</td>\n",
       "      <td>0</td>\n",
       "      <td>0</td>\n",
       "      <td>0</td>\n",
       "      <td>0</td>\n",
       "      <td>0</td>\n",
       "      <td>0</td>\n",
       "    </tr>\n",
       "    <tr>\n",
       "      <td>498044</td>\n",
       "      <td>0</td>\n",
       "      <td>1</td>\n",
       "      <td>0</td>\n",
       "      <td>0</td>\n",
       "      <td>0</td>\n",
       "      <td>0</td>\n",
       "      <td>0</td>\n",
       "    </tr>\n",
       "    <tr>\n",
       "      <td>106246</td>\n",
       "      <td>0</td>\n",
       "      <td>1</td>\n",
       "      <td>0</td>\n",
       "      <td>0</td>\n",
       "      <td>0</td>\n",
       "      <td>0</td>\n",
       "      <td>0</td>\n",
       "    </tr>\n",
       "    <tr>\n",
       "      <td>148627</td>\n",
       "      <td>1</td>\n",
       "      <td>0</td>\n",
       "      <td>0</td>\n",
       "      <td>0</td>\n",
       "      <td>0</td>\n",
       "      <td>0</td>\n",
       "      <td>0</td>\n",
       "    </tr>\n",
       "    <tr>\n",
       "      <td>439364</td>\n",
       "      <td>0</td>\n",
       "      <td>1</td>\n",
       "      <td>0</td>\n",
       "      <td>0</td>\n",
       "      <td>0</td>\n",
       "      <td>0</td>\n",
       "      <td>0</td>\n",
       "    </tr>\n",
       "  </tbody>\n",
       "</table>\n",
       "</div>"
      ],
      "text/plain": [
       "Cover_Type  1  2  3  4  5  6  7\n",
       "489081      1  0  0  0  0  0  0\n",
       "498044      0  1  0  0  0  0  0\n",
       "106246      0  1  0  0  0  0  0\n",
       "148627      1  0  0  0  0  0  0\n",
       "439364      0  1  0  0  0  0  0"
      ]
     },
     "execution_count": 20,
     "metadata": {},
     "output_type": "execute_result"
    }
   ],
   "source": [
    "one_hot_code=dummies # assign dataset to one_hot_code\n",
    "\n",
    "#one_hot_code=covtype\n",
    "one_hot_code.tail()"
   ]
  },
  {
   "cell_type": "code",
   "execution_count": 21,
   "metadata": {
    "scrolled": true
   },
   "outputs": [
    {
     "data": {
      "text/html": [
       "<div>\n",
       "<style scoped>\n",
       "    .dataframe tbody tr th:only-of-type {\n",
       "        vertical-align: middle;\n",
       "    }\n",
       "\n",
       "    .dataframe tbody tr th {\n",
       "        vertical-align: top;\n",
       "    }\n",
       "\n",
       "    .dataframe thead th {\n",
       "        text-align: right;\n",
       "    }\n",
       "</style>\n",
       "<table border=\"1\" class=\"dataframe\">\n",
       "  <thead>\n",
       "    <tr style=\"text-align: right;\">\n",
       "      <th>Cover_Type</th>\n",
       "      <th>1</th>\n",
       "      <th>2</th>\n",
       "      <th>3</th>\n",
       "      <th>4</th>\n",
       "      <th>5</th>\n",
       "      <th>6</th>\n",
       "      <th>7</th>\n",
       "    </tr>\n",
       "  </thead>\n",
       "  <tbody>\n",
       "    <tr>\n",
       "      <td>489081</td>\n",
       "      <td>1</td>\n",
       "      <td>0</td>\n",
       "      <td>0</td>\n",
       "      <td>0</td>\n",
       "      <td>0</td>\n",
       "      <td>0</td>\n",
       "      <td>0</td>\n",
       "    </tr>\n",
       "    <tr>\n",
       "      <td>498044</td>\n",
       "      <td>0</td>\n",
       "      <td>1</td>\n",
       "      <td>0</td>\n",
       "      <td>0</td>\n",
       "      <td>0</td>\n",
       "      <td>0</td>\n",
       "      <td>0</td>\n",
       "    </tr>\n",
       "    <tr>\n",
       "      <td>106246</td>\n",
       "      <td>0</td>\n",
       "      <td>1</td>\n",
       "      <td>0</td>\n",
       "      <td>0</td>\n",
       "      <td>0</td>\n",
       "      <td>0</td>\n",
       "      <td>0</td>\n",
       "    </tr>\n",
       "    <tr>\n",
       "      <td>148627</td>\n",
       "      <td>1</td>\n",
       "      <td>0</td>\n",
       "      <td>0</td>\n",
       "      <td>0</td>\n",
       "      <td>0</td>\n",
       "      <td>0</td>\n",
       "      <td>0</td>\n",
       "    </tr>\n",
       "    <tr>\n",
       "      <td>439364</td>\n",
       "      <td>0</td>\n",
       "      <td>1</td>\n",
       "      <td>0</td>\n",
       "      <td>0</td>\n",
       "      <td>0</td>\n",
       "      <td>0</td>\n",
       "      <td>0</td>\n",
       "    </tr>\n",
       "  </tbody>\n",
       "</table>\n",
       "</div>"
      ],
      "text/plain": [
       "Cover_Type  1  2  3  4  5  6  7\n",
       "489081      1  0  0  0  0  0  0\n",
       "498044      0  1  0  0  0  0  0\n",
       "106246      0  1  0  0  0  0  0\n",
       "148627      1  0  0  0  0  0  0\n",
       "439364      0  1  0  0  0  0  0"
      ]
     },
     "execution_count": 21,
     "metadata": {},
     "output_type": "execute_result"
    }
   ],
   "source": [
    "Y=one_hot_code\n",
    "Y.tail() # assign it back to Y as dependent variable, will use for tarining and testing"
   ]
  },
  {
   "cell_type": "code",
   "execution_count": 31,
   "metadata": {},
   "outputs": [],
   "source": [
    "# splitting data 30% test, 70% train randomly\n",
    "from sklearn.model_selection import train_test_split\n",
    "X_train,X_test,Y_train,Y_test=train_test_split(X,Y, test_size=0.3, random_state=0)\n",
    "#feature scale\n",
    "from sklearn.preprocessing import StandardScaler\n",
    "sc= StandardScaler()\n",
    "X_train=sc.fit_transform(X_train)\n",
    "X_test=sc.transform(X_test)"
   ]
  },
  {
   "cell_type": "code",
   "execution_count": 33,
   "metadata": {},
   "outputs": [
    {
     "name": "stdout",
     "output_type": "stream",
     "text": [
      "174304\n",
      "406708\n"
     ]
    }
   ],
   "source": [
    "# after splitting\n",
    "print(len(X_test))\n",
    "print(len(X_train))"
   ]
  },
  {
   "cell_type": "markdown",
   "metadata": {},
   "source": [
    "# method 1"
   ]
  },
  {
   "cell_type": "markdown",
   "metadata": {},
   "source": [
    "# Tensorflow with keras Api important libraries"
   ]
  },
  {
   "cell_type": "code",
   "execution_count": 34,
   "metadata": {},
   "outputs": [],
   "source": [
    "from tensorflow.keras.models import Sequential\n",
    "from tensorflow.keras.layers import Dense\n",
    "from tensorflow.keras.optimizers import Adam,SGD\n",
    "from keras.utils import to_categorical\n",
    "y_binary = to_categorical(Y)"
   ]
  },
  {
   "cell_type": "markdown",
   "metadata": {},
   "source": [
    "# with First regularisation"
   ]
  },
  {
   "cell_type": "code",
   "execution_count": 35,
   "metadata": {},
   "outputs": [],
   "source": [
    "\n",
    "model = Sequential() #  select the model, call object model\n",
    "model.add(Dense(16, activation='relu', input_shape=(54,))) # input layer= 54 input as dependent, 16 neurons, activation rule=relu\n",
    "# mostly 95% relu use, it dont pass 0 value\n",
    "model.add(Dense(8, activation='relu', input_shape=(54,))) # hidden layer 8\n",
    "model.add(Dense(7, activation='softmax')) # output layer ,the SoftMax is to used to convert the output values into zero or ones"
   ]
  },
  {
   "cell_type": "code",
   "execution_count": 36,
   "metadata": {},
   "outputs": [],
   "source": [
    "# train, test = train_test_split(dataframe, test_size=0.2)\n",
    "# train, val = train_test_split(train, test_size=0.2)\n",
    "# print(len(train), 'train examples')\n",
    "# print(len(val), 'validation examples')\n",
    "# print(len(test), 'test examples')"
   ]
  },
  {
   "cell_type": "code",
   "execution_count": 37,
   "metadata": {},
   "outputs": [
    {
     "name": "stdout",
     "output_type": "stream",
     "text": [
      "Model: \"sequential_1\"\n",
      "_________________________________________________________________\n",
      "Layer (type)                 Output Shape              Param #   \n",
      "=================================================================\n",
      "dense_3 (Dense)              (None, 16)                880       \n",
      "_________________________________________________________________\n",
      "dense_4 (Dense)              (None, 8)                 136       \n",
      "_________________________________________________________________\n",
      "dense_5 (Dense)              (None, 7)                 63        \n",
      "=================================================================\n",
      "Total params: 1,079\n",
      "Trainable params: 1,079\n",
      "Non-trainable params: 0\n",
      "_________________________________________________________________\n"
     ]
    }
   ],
   "source": [
    "model.summary() # summarry of model\n"
   ]
  },
  {
   "cell_type": "code",
   "execution_count": 38,
   "metadata": {},
   "outputs": [],
   "source": [
    "\n",
    "model.compile(optimizer=SGD(lr=0.002),            # optimizer=how to get accuracy on data , SGD optimizer is used here\n",
    "             loss='categorical_crossentropy',     # its a multi classification so we are using categorial crossentropy\n",
    "             metrics=['acc'])"
   ]
  },
  {
   "cell_type": "code",
   "execution_count": 39,
   "metadata": {},
   "outputs": [
    {
     "name": "stdout",
     "output_type": "stream",
     "text": [
      "Train on 406708 samples\n",
      "Epoch 1/10\n",
      "406708/406708 [==============================] - 21s 52us/sample - loss: 0.9256 - acc: 0.6138\n",
      "Epoch 2/10\n",
      "406708/406708 [==============================] - 21s 51us/sample - loss: 0.6963 - acc: 0.7198\n",
      "Epoch 3/10\n",
      "406708/406708 [==============================] - 21s 53us/sample - loss: 0.6628 - acc: 0.7291\n",
      "Epoch 4/10\n",
      "406708/406708 [==============================] - 21s 51us/sample - loss: 0.6455 - acc: 0.7337\n",
      "Epoch 5/10\n",
      "406708/406708 [==============================] - 21s 53us/sample - loss: 0.6338 - acc: 0.7373\n",
      "Epoch 6/10\n",
      "406708/406708 [==============================] - 21s 52us/sample - loss: 0.6247 - acc: 0.7403\n",
      "Epoch 7/10\n",
      "406708/406708 [==============================] - 22s 54us/sample - loss: 0.6173 - acc: 0.7431\n",
      "Epoch 8/10\n",
      "406708/406708 [==============================] - 20s 50us/sample - loss: 0.6105 - acc: 0.7453\n",
      "Epoch 9/10\n",
      "406708/406708 [==============================] - 21s 52us/sample - loss: 0.6043 - acc: 0.7467\n",
      "Epoch 10/10\n",
      "406708/406708 [==============================] - 23s 57us/sample - loss: 0.5996 - acc: 0.7478\n"
     ]
    },
    {
     "data": {
      "text/plain": [
       "<tensorflow.python.keras.callbacks.History at 0x173152d4548>"
      ]
     },
     "execution_count": 39,
     "metadata": {},
     "output_type": "execute_result"
    }
   ],
   "source": [
    "model.fit(X_train,Y_train, epochs=10)  # fitting model\n"
   ]
  },
  {
   "cell_type": "markdown",
   "metadata": {},
   "source": [
    "<b> with lr=0.2, and hidden input layer 32 nuerons and 16 in hidden layer giving accuracy of 74% , lets change and see more once <b>"
   ]
  },
  {
   "cell_type": "markdown",
   "metadata": {},
   "source": [
    "# with Second regularisation"
   ]
  },
  {
   "cell_type": "code",
   "execution_count": 40,
   "metadata": {},
   "outputs": [],
   "source": [
    "\n",
    "model = Sequential() #  select the model, call object model\n",
    "model.add(Dense(32, activation='relu', input_shape=(54,))) # input layer= 54 input as dependent, 32 neurons, activation rule=relu\n",
    "# mostly 95% relu use, it dont pass 0 value\n",
    "model.add(Dense(16, activation='relu', input_shape=(54,))) # hidden layer 16 nuerons are use\n",
    "model.add(Dense(7, activation='softmax')) # output layer ,the SoftMax is to used to convert the output values into zero or ones"
   ]
  },
  {
   "cell_type": "code",
   "execution_count": 41,
   "metadata": {},
   "outputs": [],
   "source": [
    "\n",
    "model.compile(optimizer=SGD(lr=0.08),            # optimizer=how to get accuracy on data , SGD optimizer is used here\n",
    "             loss='categorical_crossentropy',     # its a multi classification so we are using categorial crossentropy\n",
    "             metrics=['acc'])"
   ]
  },
  {
   "cell_type": "code",
   "execution_count": 42,
   "metadata": {},
   "outputs": [
    {
     "name": "stdout",
     "output_type": "stream",
     "text": [
      "Train on 406708 samples\n",
      "Epoch 1/10\n",
      "406708/406708 [==============================] - 20s 49us/sample - loss: 0.5865 - acc: 0.7494\n",
      "Epoch 2/10\n",
      "406708/406708 [==============================] - 20s 50us/sample - loss: 0.5171 - acc: 0.7790\n",
      "Epoch 3/10\n",
      "406708/406708 [==============================] - 22s 55us/sample - loss: 0.4929 - acc: 0.7906\n",
      "Epoch 4/10\n",
      "406708/406708 [==============================] - 19s 46us/sample - loss: 0.4787 - acc: 0.7975\n",
      "Epoch 5/10\n",
      "406708/406708 [==============================] - 20s 49us/sample - loss: 0.4704 - acc: 0.8012\n",
      "Epoch 6/10\n",
      "406708/406708 [==============================] - 18s 44us/sample - loss: 0.4640 - acc: 0.8040\n",
      "Epoch 7/10\n",
      "406708/406708 [==============================] - 18s 44us/sample - loss: 0.4631 - acc: 0.8055\n",
      "Epoch 8/10\n",
      "406708/406708 [==============================] - 18s 45us/sample - loss: 0.4710 - acc: 0.8023\n",
      "Epoch 9/10\n",
      "406708/406708 [==============================] - 18s 45us/sample - loss: 0.4604 - acc: 0.8054\n",
      "Epoch 10/10\n",
      "406708/406708 [==============================] - 18s 43us/sample - loss: 0.4546 - acc: 0.8097\n"
     ]
    },
    {
     "data": {
      "text/plain": [
       "<tensorflow.python.keras.callbacks.History at 0x1731597a1c8>"
      ]
     },
     "execution_count": 42,
     "metadata": {},
     "output_type": "execute_result"
    }
   ],
   "source": [
    "model.fit(X_train,Y_train, epochs=10)  # fitting model\n"
   ]
  },
  {
   "cell_type": "markdown",
   "metadata": {},
   "source": [
    "<b> its better than previous, giving 80% accuracy with 16 nuerons used at input layer and 8 used in hidden layer <b>"
   ]
  },
  {
   "cell_type": "markdown",
   "metadata": {},
   "source": [
    "# with Third regularisation"
   ]
  },
  {
   "cell_type": "code",
   "execution_count": 43,
   "metadata": {},
   "outputs": [],
   "source": [
    "\n",
    "model = Sequential() #  select the model, call object model\n",
    "model.add(Dense(8, activation='relu', input_shape=(54,))) # input layer= 54 input as dependent, 8 neurons, activation rule=relu\n",
    "# mostly 95% relu use, it dont pass 0 value\n",
    "model.add(Dense(4, activation='relu', input_shape=(54,))) # hidden layer  contains 8 nueron\n",
    "model.add(Dense(7, activation='softmax')) # output layer ,the SoftMax is to used to convert the output values into zero or ones"
   ]
  },
  {
   "cell_type": "code",
   "execution_count": 44,
   "metadata": {},
   "outputs": [],
   "source": [
    "\n",
    "model.compile(optimizer=SGD(lr=0.01),            # optimizer=how to get accuracy on data , SGD optimizer is used here\n",
    "             loss='categorical_crossentropy',     # its a multi classification so we are using categorial crossentropy\n",
    "             metrics=['acc'])"
   ]
  },
  {
   "cell_type": "code",
   "execution_count": 45,
   "metadata": {},
   "outputs": [
    {
     "name": "stdout",
     "output_type": "stream",
     "text": [
      "Train on 406708 samples\n",
      "Epoch 1/10\n",
      "406708/406708 [==============================] - 20s 49us/sample - loss: 0.9065 - acc: 0.6552\n",
      "Epoch 2/10\n",
      "406708/406708 [==============================] - 20s 49us/sample - loss: 0.6914 - acc: 0.7191\n",
      "Epoch 3/10\n",
      "406708/406708 [==============================] - 20s 48us/sample - loss: 0.6681 - acc: 0.7277\n",
      "Epoch 4/10\n",
      "406708/406708 [==============================] - 21s 51us/sample - loss: 0.6570 - acc: 0.7315\n",
      "Epoch 5/10\n",
      "406708/406708 [==============================] - 20s 49us/sample - loss: 0.6490 - acc: 0.7336\n",
      "Epoch 6/10\n",
      "406708/406708 [==============================] - 21s 52us/sample - loss: 0.6436 - acc: 0.7342\n",
      "Epoch 7/10\n",
      "406708/406708 [==============================] - 21s 52us/sample - loss: 0.6385 - acc: 0.7351\n",
      "Epoch 8/10\n",
      "406708/406708 [==============================] - 22s 55us/sample - loss: 0.6330 - acc: 0.7367\n",
      "Epoch 9/10\n",
      "406708/406708 [==============================] - 22s 53us/sample - loss: 0.6286 - acc: 0.7381\n",
      "Epoch 10/10\n",
      "406708/406708 [==============================] - 22s 55us/sample - loss: 0.6259 - acc: 0.7384\n"
     ]
    },
    {
     "data": {
      "text/plain": [
       "<tensorflow.python.keras.callbacks.History at 0x17315d08408>"
      ]
     },
     "execution_count": 45,
     "metadata": {},
     "output_type": "execute_result"
    }
   ],
   "source": [
    "model.fit(X_train,Y_train, epochs=10)  # fitting model\n"
   ]
  },
  {
   "cell_type": "markdown",
   "metadata": {},
   "source": [
    "<b> giving 73% accuracy with 8 nuerons used at input layer and 4 used in hidden layer, which is less than above case <b>"
   ]
  },
  {
   "cell_type": "markdown",
   "metadata": {},
   "source": [
    "# with Fourth regularisation"
   ]
  },
  {
   "cell_type": "code",
   "execution_count": 48,
   "metadata": {},
   "outputs": [],
   "source": [
    "\n",
    "model = Sequential() #  select the model, call object model\n",
    "model.add(Dense(64, activation='relu', input_shape=(54,))) # input layer= 54 input as dependent, 64 neurons, activation rule=relu\n",
    "# mostly 95% relu use, it dont pass 0 value\n",
    "model.add(Dense(32, activation='relu', input_shape=(54,))) # hidden layer  contains 32 nueron\n",
    "model.add(Dense(7, activation='softmax')) # output layer ,the SoftMax is to used to convert the output values into zero or ones"
   ]
  },
  {
   "cell_type": "code",
   "execution_count": 49,
   "metadata": {},
   "outputs": [],
   "source": [
    "\n",
    "model.compile(optimizer=SGD(lr=0.04),            # optimizer=how to get accuracy on data , SGD optimizer is used here\n",
    "             loss='categorical_crossentropy',     # its a multi classification so we are using categorial crossentropy\n",
    "             metrics=['acc'])"
   ]
  },
  {
   "cell_type": "code",
   "execution_count": 50,
   "metadata": {},
   "outputs": [
    {
     "name": "stdout",
     "output_type": "stream",
     "text": [
      "Train on 406708 samples\n",
      "Epoch 1/10\n",
      "406708/406708 [==============================] - 29s 72us/sample - loss: 0.5850 - acc: 0.7507\n",
      "Epoch 2/10\n",
      "406708/406708 [==============================] - 30s 73us/sample - loss: 0.4935 - acc: 0.7879\n",
      "Epoch 3/10\n",
      "406708/406708 [==============================] - 29s 72us/sample - loss: 0.4555 - acc: 0.8056\n",
      "Epoch 4/10\n",
      "406708/406708 [==============================] - ETA: 0s - loss: 0.4318 - acc: 0.817 - 30s 74us/sample - loss: 0.4318 - acc: 0.8170\n",
      "Epoch 5/10\n",
      "406708/406708 [==============================] - 30s 73us/sample - loss: 0.4144 - acc: 0.8261\n",
      "Epoch 6/10\n",
      "406708/406708 [==============================] - 32s 78us/sample - loss: 0.4018 - acc: 0.8311\n",
      "Epoch 7/10\n",
      "406708/406708 [==============================] - 29s 71us/sample - loss: 0.3916 - acc: 0.8357\n",
      "Epoch 8/10\n",
      "406708/406708 [==============================] - 29s 70us/sample - loss: 0.3846 - acc: 0.8388\n",
      "Epoch 9/10\n",
      "406708/406708 [==============================] - 29s 72us/sample - loss: 0.3784 - acc: 0.8426\n",
      "Epoch 10/10\n",
      "406708/406708 [==============================] - 29s 72us/sample - loss: 0.3724 - acc: 0.8447\n"
     ]
    },
    {
     "data": {
      "text/plain": [
       "<tensorflow.python.keras.callbacks.History at 0x1731601a288>"
      ]
     },
     "execution_count": 50,
     "metadata": {},
     "output_type": "execute_result"
    }
   ],
   "source": [
    "model.fit(X_train,Y_train, epochs=10)  # fitting model\n"
   ]
  },
  {
   "cell_type": "markdown",
   "metadata": {},
   "source": [
    "<b> giving 84% accuracy with 64 nuerons used at input layer and 32 used in hidden layer <b>"
   ]
  },
  {
   "cell_type": "markdown",
   "metadata": {},
   "source": [
    "# with Fifth regularisation"
   ]
  },
  {
   "cell_type": "code",
   "execution_count": 51,
   "metadata": {},
   "outputs": [],
   "source": [
    "\n",
    "model = Sequential() #  select the model, call object model\n",
    "model.add(Dense(128, activation='relu', input_shape=(54,))) # input layer= 54 input as dependent, 128 neurons, activation rule=relu\n",
    "# mostly 95% relu use, it dont pass 0 value\n",
    "model.add(Dense(64, activation='relu', input_shape=(54,))) # hidden layer  contains 64 nueron\n",
    "model.add(Dense(7, activation='softmax')) # output layer ,the SoftMax is to used to convert the output values into zero or ones"
   ]
  },
  {
   "cell_type": "code",
   "execution_count": 52,
   "metadata": {},
   "outputs": [],
   "source": [
    "\n",
    "model.compile(optimizer=SGD(lr=0.06),            # optimizer=how to get accuracy on data , SGD optimizer is used here\n",
    "             loss='categorical_crossentropy',     # its a multi classification so we are using categorial crossentropy\n",
    "             metrics=['acc'])"
   ]
  },
  {
   "cell_type": "code",
   "execution_count": 53,
   "metadata": {},
   "outputs": [
    {
     "name": "stdout",
     "output_type": "stream",
     "text": [
      "Train on 406708 samples\n",
      "Epoch 1/10\n",
      "406708/406708 [==============================] - 35s 86us/sample - loss: 0.5539 - acc: 0.7628\n",
      "Epoch 2/10\n",
      "406708/406708 [==============================] - 29s 71us/sample - loss: 0.4483 - acc: 0.8088s \n",
      "Epoch 3/10\n",
      "406708/406708 [==============================] - 28s 69us/sample - loss: 0.4043 - acc: 0.8298\n",
      "Epoch 4/10\n",
      "406708/406708 [==============================] - 29s 72us/sample - loss: 0.3765 - acc: 0.8421\n",
      "Epoch 5/10\n",
      "406708/406708 [==============================] - 31s 76us/sample - loss: 0.3561 - acc: 0.8518\n",
      "Epoch 6/10\n",
      "406708/406708 [==============================] - 32s 79us/sample - loss: 0.3420 - acc: 0.8581\n",
      "Epoch 7/10\n",
      "406708/406708 [==============================] - 35s 85us/sample - loss: 0.3294 - acc: 0.8642\n",
      "Epoch 8/10\n",
      "406708/406708 [==============================] - 34s 83us/sample - loss: 0.3194 - acc: 0.8686\n",
      "Epoch 9/10\n",
      "406708/406708 [==============================] - 31s 77us/sample - loss: 0.3108 - acc: 0.8718\n",
      "Epoch 10/10\n",
      "406708/406708 [==============================] - 32s 78us/sample - loss: 0.3043 - acc: 0.8756\n"
     ]
    },
    {
     "data": {
      "text/plain": [
       "<tensorflow.python.keras.callbacks.History at 0x17316236548>"
      ]
     },
     "execution_count": 53,
     "metadata": {},
     "output_type": "execute_result"
    }
   ],
   "source": [
    "model.fit(X_train,Y_train, epochs=10)  # fitting model\n"
   ]
  },
  {
   "cell_type": "markdown",
   "metadata": {},
   "source": [
    "<b>  giving 87% accuracy with 128 nuerons used at input layer and 64 used in hidden layer, Better than previous <b> "
   ]
  },
  {
   "cell_type": "markdown",
   "metadata": {},
   "source": [
    "# with Sixth regularisation"
   ]
  },
  {
   "cell_type": "code",
   "execution_count": 54,
   "metadata": {},
   "outputs": [],
   "source": [
    "\n",
    "model = Sequential() #  select the model, call object model\n",
    "model.add(Dense(128, activation='relu', input_shape=(54,))) # input layer= 54 input as dependent, 128 neurons, activation rule=relu\n",
    "# mostly 95% relu use, it dont pass 0 value\n",
    "model.add(Dense(64, activation='relu', input_shape=(54,))) # hidden layer  contains 64 nueron\n",
    "model.add(Dense(7, activation='softmax')) # output layer ,the SoftMax is to used to convert the output values into zero or ones"
   ]
  },
  {
   "cell_type": "code",
   "execution_count": 55,
   "metadata": {},
   "outputs": [],
   "source": [
    "\n",
    "model.compile(optimizer=SGD(lr=0.07),            # optimizer=how to get accuracy on data , SGD optimizer is used here\n",
    "             loss='categorical_crossentropy',     # its a multi classification so we are using categorial crossentropy\n",
    "             metrics=['acc'])"
   ]
  },
  {
   "cell_type": "code",
   "execution_count": 56,
   "metadata": {},
   "outputs": [
    {
     "name": "stdout",
     "output_type": "stream",
     "text": [
      "Train on 406708 samples\n",
      "Epoch 1/10\n",
      "406708/406708 [==============================] - 30s 75us/sample - loss: 0.5521 - acc: 0.7633\n",
      "Epoch 2/10\n",
      "406708/406708 [==============================] - 31s 76us/sample - loss: 0.4441 - acc: 0.8120\n",
      "Epoch 3/10\n",
      "406708/406708 [==============================] - 31s 75us/sample - loss: 0.3987 - acc: 0.8331\n",
      "Epoch 4/10\n",
      "406708/406708 [==============================] - 32s 78us/sample - loss: 0.3712 - acc: 0.8456\n",
      "Epoch 5/10\n",
      "406708/406708 [==============================] - 31s 75us/sample - loss: 0.3524 - acc: 0.8541\n",
      "Epoch 6/10\n",
      "406708/406708 [==============================] - 32s 78us/sample - loss: 0.3387 - acc: 0.8604\n",
      "Epoch 7/10\n",
      "406708/406708 [==============================] - 31s 77us/sample - loss: 0.3274 - acc: 0.8656\n",
      "Epoch 8/10\n",
      "406708/406708 [==============================] - 52s 128us/sample - loss: 0.3181 - acc: 0.8699\n",
      "Epoch 9/10\n",
      "406708/406708 [==============================] - 46s 112us/sample - loss: 0.3099 - acc: 0.8729\n",
      "Epoch 10/10\n",
      "406708/406708 [==============================] - 33s 81us/sample - loss: 0.3027 - acc: 0.8767\n"
     ]
    },
    {
     "data": {
      "text/plain": [
       "<tensorflow.python.keras.callbacks.History at 0x17316612408>"
      ]
     },
     "execution_count": 56,
     "metadata": {},
     "output_type": "execute_result"
    }
   ],
   "source": [
    "model.fit(X_train,Y_train, epochs=10)  # fitting model\n"
   ]
  },
  {
   "cell_type": "markdown",
   "metadata": {},
   "source": [
    "<b> so max accuracy of 87.67 we can get by 128 nurons in input layer and 64 at hidden layer with lr=0.07 <b>"
   ]
  },
  {
   "cell_type": "markdown",
   "metadata": {},
   "source": [
    "# prediction By Xtest data to generate Ytest data"
   ]
  },
  {
   "cell_type": "code",
   "execution_count": 60,
   "metadata": {},
   "outputs": [],
   "source": [
    "prediction=Y.columns.take(np.argmax(model.predict(X_test), axis=1))\n"
   ]
  },
  {
   "cell_type": "code",
   "execution_count": 62,
   "metadata": {},
   "outputs": [
    {
     "data": {
      "text/plain": [
       "CategoricalIndex([7, 7, 1, 1, 2, 2, 1, 2, 1, 2,\n",
       "                  ...\n",
       "                  2, 2, 2, 2, 3, 2, 2, 3, 1, 2],\n",
       "                 categories=[1, 2, 3, 4, 5, 6, 7], ordered=False, name='Cover_Type', dtype='category', length=174304)"
      ]
     },
     "execution_count": 62,
     "metadata": {},
     "output_type": "execute_result"
    }
   ],
   "source": [
    "prediction"
   ]
  },
  {
   "cell_type": "code",
   "execution_count": null,
   "metadata": {},
   "outputs": [],
   "source": [
    "# this was all about method 1 of Tensorflow with Keras Api"
   ]
  },
  {
   "cell_type": "markdown",
   "metadata": {},
   "source": [
    "# Method 2"
   ]
  },
  {
   "cell_type": "markdown",
   "metadata": {},
   "source": [
    "# Plain Tensorflow"
   ]
  },
  {
   "cell_type": "code",
   "execution_count": null,
   "metadata": {},
   "outputs": [],
   "source": []
  }
 ],
 "metadata": {
  "kernelspec": {
   "display_name": "Python 3",
   "language": "python",
   "name": "python3"
  },
  "language_info": {
   "codemirror_mode": {
    "name": "ipython",
    "version": 3
   },
   "file_extension": ".py",
   "mimetype": "text/x-python",
   "name": "python",
   "nbconvert_exporter": "python",
   "pygments_lexer": "ipython3",
   "version": "3.7.4"
  }
 },
 "nbformat": 4,
 "nbformat_minor": 2
}
